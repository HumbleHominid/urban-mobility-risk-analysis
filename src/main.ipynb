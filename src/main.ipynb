{
 "cells": [
  {
   "cell_type": "markdown",
   "id": "5465ad78",
   "metadata": {},
   "source": [
    "# Urban Mobility Risk Analysis\n"
   ]
  },
  {
   "cell_type": "code",
   "execution_count": 2,
   "id": "b1db152f",
   "metadata": {},
   "outputs": [],
   "source": [
    "import numpy as np\n",
    "import pandas as pd\n",
    "import matplotlib.pyplot as plt"
   ]
  },
  {
   "cell_type": "markdown",
   "id": "8ff36a95",
   "metadata": {},
   "source": [
    "Fetch the data from years 2016-2024 if we don't have them already.\n"
   ]
  },
  {
   "cell_type": "code",
   "execution_count": null,
   "id": "764f4054",
   "metadata": {},
   "outputs": [
    {
     "name": "stdout",
     "output_type": "stream",
     "text": [
      "Fetching Unfallorte2016_EPSG25832_CSV.zip...\n",
      "Extracting Unfallorte2016_EPSG25832_CSV...\n",
      "Cleaning up temporary files for 2016...\n",
      "Fetching Unfallorte2017_EPSG25832_CSV.zip...\n",
      "Extracting Unfallorte2017_EPSG25832_CSV...\n",
      "Cleaning up temporary files for 2017...\n",
      "Fetching Unfallorte2018_EPSG25832_CSV.zip...\n",
      "Extracting Unfallorte2018_EPSG25832_CSV...\n",
      "Cleaning up temporary files for 2018...\n",
      "Fetching Unfallorte2019_EPSG25832_CSV.zip...\n",
      "Extracting Unfallorte2019_EPSG25832_CSV...\n",
      "Cleaning up temporary files for 2019...\n",
      "Fetching Unfallorte2020_EPSG25832_CSV.zip...\n",
      "Extracting Unfallorte2020_EPSG25832_CSV...\n",
      "Cleaning up temporary files for 2020...\n",
      "Fetching Unfallorte2021_EPSG25832_CSV.zip...\n",
      "Extracting Unfallorte2021_EPSG25832_CSV...\n",
      "Cleaning up temporary files for 2021...\n",
      "Fetching Unfallorte2022_EPSG25832_CSV.zip...\n",
      "Extracting Unfallorte2022_EPSG25832_CSV...\n",
      "Cleaning up temporary files for 2022...\n",
      "Fetching Unfallorte2023_EPSG25832_CSV.zip...\n",
      "Extracting Unfallorte2023_EPSG25832_CSV...\n",
      "Cleaning up temporary files for 2023...\n",
      "Fetching Unfallorte2024_EPSG25832_CSV.zip...\n",
      "Extracting Unfallorte2024_EPSG25832_CSV...\n",
      "Cleaning up temporary files for 2024...\n"
     ]
    }
   ],
   "source": [
    "from fetch_data import fetch_traffic_data\n",
    "\n",
    "fetch_traffic_data()"
   ]
  }
 ],
 "metadata": {
  "kernelspec": {
   "display_name": ".envs",
   "language": "python",
   "name": "python3"
  },
  "language_info": {
   "codemirror_mode": {
    "name": "ipython",
    "version": 3
   },
   "file_extension": ".py",
   "mimetype": "text/x-python",
   "name": "python",
   "nbconvert_exporter": "python",
   "pygments_lexer": "ipython3",
   "version": "3.13.7"
  }
 },
 "nbformat": 4,
 "nbformat_minor": 5
}
