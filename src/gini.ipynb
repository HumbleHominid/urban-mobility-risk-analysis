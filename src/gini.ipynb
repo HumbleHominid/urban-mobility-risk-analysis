{
 "cells": [
  {
   "cell_type": "markdown",
   "id": "ffa4bc62",
   "metadata": {},
   "source": [
    "# Gini\n"
   ]
  },
  {
   "cell_type": "code",
   "execution_count": 690,
   "id": "7b814a77",
   "metadata": {},
   "outputs": [
    {
     "name": "stdout",
     "output_type": "stream",
     "text": [
      "The autoreload extension is already loaded. To reload it, use:\n",
      "  %reload_ext autoreload\n"
     ]
    }
   ],
   "source": [
    "%load_ext autoreload\n",
    "%autoreload 2\n",
    "import altair as alt\n",
    "import fetch_data as fd\n",
    "import pandas as pd\n",
    "import numpy as np\n",
    "import os\n",
    "\n",
    "SHOULD_LOG = False"
   ]
  },
  {
   "cell_type": "code",
   "execution_count": 691,
   "id": "451b282f",
   "metadata": {},
   "outputs": [
    {
     "data": {
      "application/vnd.microsoft.datawrangler.viewer.v0+json": {
       "columns": [
        {
         "name": "index",
         "rawType": "int64",
         "type": "integer"
        },
        {
         "name": "regional key",
         "rawType": "object",
         "type": "string"
        },
        {
         "name": "city",
         "rawType": "object",
         "type": "string"
        },
        {
         "name": "sq km",
         "rawType": "float64",
         "type": "float"
        },
        {
         "name": "population",
         "rawType": "int64",
         "type": "integer"
        }
       ],
       "ref": "838f637e-9de9-4c1e-9f5f-5f1dfeb2d8a8",
       "rows": [
        [
         "0",
         "11000000",
         "Berlin",
         "891.12",
         "3685265"
        ],
        [
         "1",
         "02000000",
         "Hamburg",
         "755.09",
         "1862565"
        ],
        [
         "2",
         "09162000",
         "München",
         "310.7",
         "1505005"
        ],
        [
         "3",
         "05315000",
         "Köln",
         "405.02",
         "1024621"
        ],
        [
         "4",
         "06412000",
         "Frankfurt am Main",
         "248.31",
         "756021"
        ]
       ],
       "shape": {
        "columns": 4,
        "rows": 5
       }
      },
      "text/html": [
       "<div>\n",
       "<style scoped>\n",
       "    .dataframe tbody tr th:only-of-type {\n",
       "        vertical-align: middle;\n",
       "    }\n",
       "\n",
       "    .dataframe tbody tr th {\n",
       "        vertical-align: top;\n",
       "    }\n",
       "\n",
       "    .dataframe thead th {\n",
       "        text-align: right;\n",
       "    }\n",
       "</style>\n",
       "<table border=\"1\" class=\"dataframe\">\n",
       "  <thead>\n",
       "    <tr style=\"text-align: right;\">\n",
       "      <th></th>\n",
       "      <th>regional key</th>\n",
       "      <th>city</th>\n",
       "      <th>sq km</th>\n",
       "      <th>population</th>\n",
       "    </tr>\n",
       "  </thead>\n",
       "  <tbody>\n",
       "    <tr>\n",
       "      <th>0</th>\n",
       "      <td>11000000</td>\n",
       "      <td>Berlin</td>\n",
       "      <td>891.12</td>\n",
       "      <td>3685265</td>\n",
       "    </tr>\n",
       "    <tr>\n",
       "      <th>1</th>\n",
       "      <td>02000000</td>\n",
       "      <td>Hamburg</td>\n",
       "      <td>755.09</td>\n",
       "      <td>1862565</td>\n",
       "    </tr>\n",
       "    <tr>\n",
       "      <th>2</th>\n",
       "      <td>09162000</td>\n",
       "      <td>München</td>\n",
       "      <td>310.70</td>\n",
       "      <td>1505005</td>\n",
       "    </tr>\n",
       "    <tr>\n",
       "      <th>3</th>\n",
       "      <td>05315000</td>\n",
       "      <td>Köln</td>\n",
       "      <td>405.02</td>\n",
       "      <td>1024621</td>\n",
       "    </tr>\n",
       "    <tr>\n",
       "      <th>4</th>\n",
       "      <td>06412000</td>\n",
       "      <td>Frankfurt am Main</td>\n",
       "      <td>248.31</td>\n",
       "      <td>756021</td>\n",
       "    </tr>\n",
       "  </tbody>\n",
       "</table>\n",
       "</div>"
      ],
      "text/plain": [
       "  regional key               city   sq km  population\n",
       "0     11000000             Berlin  891.12     3685265\n",
       "1     02000000            Hamburg  755.09     1862565\n",
       "2     09162000            München  310.70     1505005\n",
       "3     05315000               Köln  405.02     1024621\n",
       "4     06412000  Frankfurt am Main  248.31      756021"
      ]
     },
     "execution_count": 691,
     "metadata": {},
     "output_type": "execute_result"
    }
   ],
   "source": [
    "city_info = fd.get_city_info()\n",
    "city_info.head()"
   ]
  },
  {
   "cell_type": "code",
   "execution_count": 692,
   "id": "9a128b0e",
   "metadata": {},
   "outputs": [],
   "source": [
    "YEARS = [i for i in range(2016, 2025)]\n",
    "df_dict = fd.get_dfs(YEARS)\n",
    "df = pd.concat(df_dict.values(), ignore_index=True)"
   ]
  },
  {
   "cell_type": "markdown",
   "id": "8a6bb874",
   "metadata": {},
   "source": [
    "## Data Cleaning\n"
   ]
  },
  {
   "cell_type": "markdown",
   "id": "c18106bc",
   "metadata": {},
   "source": [
    "Severity of accidents.\n"
   ]
  },
  {
   "cell_type": "code",
   "execution_count": 693,
   "id": "f244aef9",
   "metadata": {},
   "outputs": [],
   "source": [
    "df = pd.get_dummies(df, columns=[\"UKATEGORIE\"], prefix=\"inj\", dtype=int)\n",
    "df.rename(\n",
    "    columns={\n",
    "        \"inj_3\": \"inj_light\",\n",
    "        \"inj_2\": \"inj_serious\",\n",
    "        \"inj_1\": \"inj_fatal\",\n",
    "    },\n",
    "    inplace=True,\n",
    ")"
   ]
  },
  {
   "cell_type": "markdown",
   "id": "c99b617c",
   "metadata": {},
   "source": [
    "Group on the `Community_key` (city) and `UJAHR` (year). Additionally, aggregate metrics we care about.\n"
   ]
  },
  {
   "cell_type": "code",
   "execution_count": 694,
   "id": "bf376bca",
   "metadata": {},
   "outputs": [],
   "source": [
    "agg_methods = {\n",
    "    \"inj_light\": \"sum\",\n",
    "    \"inj_serious\": \"sum\",\n",
    "    \"inj_fatal\": \"sum\",\n",
    "    \"IstFuss\": \"sum\",\n",
    "    \"IstRad\": \"sum\",\n",
    "    \"IstKrad\": \"sum\",\n",
    "    \"ULAND\": \"first\",\n",
    "}\n",
    "\n",
    "\n",
    "df_grouped = df.groupby([\"Community_key\", \"UJAHR\"]).agg(agg_methods).reset_index()"
   ]
  },
  {
   "cell_type": "markdown",
   "id": "b61ecd4f",
   "metadata": {},
   "source": [
    "Perform an inner join on `\"regional key\"` with `df_grouped` and `city_info`.\n"
   ]
  },
  {
   "cell_type": "code",
   "execution_count": 695,
   "id": "83eebfe5",
   "metadata": {},
   "outputs": [],
   "source": [
    "df_grouped.rename(columns={\"Community_key\": \"regional key\"}, inplace=True)\n",
    "df_merged = df_grouped.merge(city_info, on=\"regional key\", how=\"inner\")"
   ]
  },
  {
   "cell_type": "markdown",
   "id": "df73cdb5",
   "metadata": {},
   "source": [
    "Calculate some metrics we care about.\n"
   ]
  },
  {
   "cell_type": "code",
   "execution_count": 696,
   "id": "79b355e5",
   "metadata": {},
   "outputs": [],
   "source": [
    "# Calculate the total personal injury accidents\n",
    "df_merged[\"inj_total\"] = (\n",
    "    df_merged[\"inj_light\"] + df_merged[\"inj_serious\"] + df_merged[\"inj_fatal\"]\n",
    ")"
   ]
  },
  {
   "cell_type": "code",
   "execution_count": 697,
   "id": "5c8f15b6",
   "metadata": {},
   "outputs": [
    {
     "data": {
      "application/vnd.microsoft.datawrangler.viewer.v0+json": {
       "columns": [
        {
         "name": "index",
         "rawType": "int64",
         "type": "integer"
        },
        {
         "name": "regional key",
         "rawType": "object",
         "type": "string"
        },
        {
         "name": "UJAHR",
         "rawType": "int64",
         "type": "integer"
        },
        {
         "name": "inj_light",
         "rawType": "int64",
         "type": "integer"
        },
        {
         "name": "inj_serious",
         "rawType": "int64",
         "type": "integer"
        },
        {
         "name": "inj_fatal",
         "rawType": "int64",
         "type": "integer"
        },
        {
         "name": "IstFuss",
         "rawType": "int64",
         "type": "integer"
        },
        {
         "name": "IstRad",
         "rawType": "int64",
         "type": "integer"
        },
        {
         "name": "IstKrad",
         "rawType": "int64",
         "type": "integer"
        },
        {
         "name": "ULAND",
         "rawType": "object",
         "type": "string"
        },
        {
         "name": "city",
         "rawType": "object",
         "type": "string"
        },
        {
         "name": "sq km",
         "rawType": "float64",
         "type": "float"
        },
        {
         "name": "population",
         "rawType": "int64",
         "type": "integer"
        },
        {
         "name": "inj_total",
         "rawType": "int64",
         "type": "integer"
        }
       ],
       "ref": "08980c8f-cf95-4d6e-9803-1e46add1b69f",
       "rows": [
        [
         "8",
         "01001000",
         "2024",
         "325",
         "22",
         "2",
         "34",
         "151",
         "29",
         "01",
         "Flensburg",
         "56.73",
         "96326",
         "349"
        ],
        [
         "17",
         "01002000",
         "2024",
         "930",
         "93",
         "4",
         "102",
         "514",
         "68",
         "01",
         "Kiel",
         "118.65",
         "252668",
         "1027"
        ],
        [
         "26",
         "01003000",
         "2024",
         "1008",
         "109",
         "1",
         "104",
         "611",
         "93",
         "01",
         "Lübeck",
         "214.19",
         "216889",
         "1118"
        ],
        [
         "35",
         "01004000",
         "2024",
         "329",
         "33",
         "0",
         "32",
         "136",
         "28",
         "01",
         "Neumünster",
         "71.66",
         "79809",
         "362"
        ],
        [
         "44",
         "01051011",
         "2024",
         "51",
         "9",
         "0",
         "5",
         "25",
         "10",
         "01",
         "Brunsbüttel",
         "65.21",
         "12692",
         "60"
        ]
       ],
       "shape": {
        "columns": 13,
        "rows": 5
       }
      },
      "text/html": [
       "<div>\n",
       "<style scoped>\n",
       "    .dataframe tbody tr th:only-of-type {\n",
       "        vertical-align: middle;\n",
       "    }\n",
       "\n",
       "    .dataframe tbody tr th {\n",
       "        vertical-align: top;\n",
       "    }\n",
       "\n",
       "    .dataframe thead th {\n",
       "        text-align: right;\n",
       "    }\n",
       "</style>\n",
       "<table border=\"1\" class=\"dataframe\">\n",
       "  <thead>\n",
       "    <tr style=\"text-align: right;\">\n",
       "      <th></th>\n",
       "      <th>regional key</th>\n",
       "      <th>UJAHR</th>\n",
       "      <th>inj_light</th>\n",
       "      <th>inj_serious</th>\n",
       "      <th>inj_fatal</th>\n",
       "      <th>IstFuss</th>\n",
       "      <th>IstRad</th>\n",
       "      <th>IstKrad</th>\n",
       "      <th>ULAND</th>\n",
       "      <th>city</th>\n",
       "      <th>sq km</th>\n",
       "      <th>population</th>\n",
       "      <th>inj_total</th>\n",
       "    </tr>\n",
       "  </thead>\n",
       "  <tbody>\n",
       "    <tr>\n",
       "      <th>8</th>\n",
       "      <td>01001000</td>\n",
       "      <td>2024</td>\n",
       "      <td>325</td>\n",
       "      <td>22</td>\n",
       "      <td>2</td>\n",
       "      <td>34</td>\n",
       "      <td>151</td>\n",
       "      <td>29</td>\n",
       "      <td>01</td>\n",
       "      <td>Flensburg</td>\n",
       "      <td>56.73</td>\n",
       "      <td>96326</td>\n",
       "      <td>349</td>\n",
       "    </tr>\n",
       "    <tr>\n",
       "      <th>17</th>\n",
       "      <td>01002000</td>\n",
       "      <td>2024</td>\n",
       "      <td>930</td>\n",
       "      <td>93</td>\n",
       "      <td>4</td>\n",
       "      <td>102</td>\n",
       "      <td>514</td>\n",
       "      <td>68</td>\n",
       "      <td>01</td>\n",
       "      <td>Kiel</td>\n",
       "      <td>118.65</td>\n",
       "      <td>252668</td>\n",
       "      <td>1027</td>\n",
       "    </tr>\n",
       "    <tr>\n",
       "      <th>26</th>\n",
       "      <td>01003000</td>\n",
       "      <td>2024</td>\n",
       "      <td>1008</td>\n",
       "      <td>109</td>\n",
       "      <td>1</td>\n",
       "      <td>104</td>\n",
       "      <td>611</td>\n",
       "      <td>93</td>\n",
       "      <td>01</td>\n",
       "      <td>Lübeck</td>\n",
       "      <td>214.19</td>\n",
       "      <td>216889</td>\n",
       "      <td>1118</td>\n",
       "    </tr>\n",
       "    <tr>\n",
       "      <th>35</th>\n",
       "      <td>01004000</td>\n",
       "      <td>2024</td>\n",
       "      <td>329</td>\n",
       "      <td>33</td>\n",
       "      <td>0</td>\n",
       "      <td>32</td>\n",
       "      <td>136</td>\n",
       "      <td>28</td>\n",
       "      <td>01</td>\n",
       "      <td>Neumünster</td>\n",
       "      <td>71.66</td>\n",
       "      <td>79809</td>\n",
       "      <td>362</td>\n",
       "    </tr>\n",
       "    <tr>\n",
       "      <th>44</th>\n",
       "      <td>01051011</td>\n",
       "      <td>2024</td>\n",
       "      <td>51</td>\n",
       "      <td>9</td>\n",
       "      <td>0</td>\n",
       "      <td>5</td>\n",
       "      <td>25</td>\n",
       "      <td>10</td>\n",
       "      <td>01</td>\n",
       "      <td>Brunsbüttel</td>\n",
       "      <td>65.21</td>\n",
       "      <td>12692</td>\n",
       "      <td>60</td>\n",
       "    </tr>\n",
       "  </tbody>\n",
       "</table>\n",
       "</div>"
      ],
      "text/plain": [
       "   regional key  UJAHR  inj_light  inj_serious  inj_fatal  IstFuss  IstRad  \\\n",
       "8      01001000   2024        325           22          2       34     151   \n",
       "17     01002000   2024        930           93          4      102     514   \n",
       "26     01003000   2024       1008          109          1      104     611   \n",
       "35     01004000   2024        329           33          0       32     136   \n",
       "44     01051011   2024         51            9          0        5      25   \n",
       "\n",
       "    IstKrad ULAND         city   sq km  population  inj_total  \n",
       "8        29    01    Flensburg   56.73       96326        349  \n",
       "17       68    01         Kiel  118.65      252668       1027  \n",
       "26       93    01       Lübeck  214.19      216889       1118  \n",
       "35       28    01   Neumünster   71.66       79809        362  \n",
       "44       10    01  Brunsbüttel   65.21       12692         60  "
      ]
     },
     "execution_count": 697,
     "metadata": {},
     "output_type": "execute_result"
    }
   ],
   "source": [
    "df_merged[df_merged[\"UJAHR\"] == 2024].head()"
   ]
  },
  {
   "cell_type": "code",
   "execution_count": 698,
   "id": "fff11c3a",
   "metadata": {},
   "outputs": [
    {
     "data": {
      "application/vnd.microsoft.datawrangler.viewer.v0+json": {
       "columns": [
        {
         "name": "index",
         "rawType": "object",
         "type": "string"
        },
        {
         "name": "UJAHR",
         "rawType": "float64",
         "type": "float"
        },
        {
         "name": "inj_light",
         "rawType": "float64",
         "type": "float"
        },
        {
         "name": "inj_serious",
         "rawType": "float64",
         "type": "float"
        },
        {
         "name": "inj_fatal",
         "rawType": "float64",
         "type": "float"
        },
        {
         "name": "IstFuss",
         "rawType": "float64",
         "type": "float"
        },
        {
         "name": "IstRad",
         "rawType": "float64",
         "type": "float"
        },
        {
         "name": "IstKrad",
         "rawType": "float64",
         "type": "float"
        },
        {
         "name": "sq km",
         "rawType": "float64",
         "type": "float"
        },
        {
         "name": "population",
         "rawType": "float64",
         "type": "float"
        },
        {
         "name": "inj_total",
         "rawType": "float64",
         "type": "float"
        }
       ],
       "ref": "3b1d23d4-e5a3-4b80-9e7a-8a61ef54c2df",
       "rows": [
        [
         "count",
         "2050.0",
         "2050.0",
         "2050.0",
         "2050.0",
         "2050.0",
         "2050.0",
         "2050.0",
         "2050.0",
         "2050.0",
         "2050.0"
        ],
        [
         "mean",
         "2024.0",
         "84.53560975609756",
         "13.824390243902439",
         "0.6936585365853658",
         "10.487317073170733",
         "34.47707317073171",
         "12.174146341463414",
         "73.50181463414634",
         "29984.648292682927",
         "99.05365853658536"
        ],
        [
         "std",
         "0.0",
         "349.70744511604113",
         "46.972889081694916",
         "1.799031456924587",
         "53.79432375311184",
         "154.44271173045504",
         "51.19927684181192",
         "63.03993912563036",
         "113074.50893615013",
         "397.13057801793286"
        ],
        [
         "min",
         "2024.0",
         "0.0",
         "0.0",
         "0.0",
         "0.0",
         "0.0",
         "0.0",
         "2.71",
         "447.0",
         "1.0"
        ],
        [
         "25%",
         "2024.0",
         "12.0",
         "3.0",
         "0.0",
         "1.0",
         "3.0",
         "3.0",
         "32.645",
         "6264.25",
         "17.0"
        ],
        [
         "50%",
         "2024.0",
         "29.0",
         "7.0",
         "0.0",
         "3.0",
         "9.0",
         "6.0",
         "59.885000000000005",
         "12752.5",
         "37.0"
        ],
        [
         "75%",
         "2024.0",
         "65.0",
         "13.0",
         "1.0",
         "7.0",
         "26.0",
         "11.0",
         "93.60499999999999",
         "25174.5",
         "80.0"
        ],
        [
         "max",
         "2024.0",
         "10739.0",
         "1641.0",
         "48.0",
         "1712.0",
         "4452.0",
         "1929.0",
         "891.12",
         "3685265.0",
         "12428.0"
        ]
       ],
       "shape": {
        "columns": 10,
        "rows": 8
       }
      },
      "text/html": [
       "<div>\n",
       "<style scoped>\n",
       "    .dataframe tbody tr th:only-of-type {\n",
       "        vertical-align: middle;\n",
       "    }\n",
       "\n",
       "    .dataframe tbody tr th {\n",
       "        vertical-align: top;\n",
       "    }\n",
       "\n",
       "    .dataframe thead th {\n",
       "        text-align: right;\n",
       "    }\n",
       "</style>\n",
       "<table border=\"1\" class=\"dataframe\">\n",
       "  <thead>\n",
       "    <tr style=\"text-align: right;\">\n",
       "      <th></th>\n",
       "      <th>UJAHR</th>\n",
       "      <th>inj_light</th>\n",
       "      <th>inj_serious</th>\n",
       "      <th>inj_fatal</th>\n",
       "      <th>IstFuss</th>\n",
       "      <th>IstRad</th>\n",
       "      <th>IstKrad</th>\n",
       "      <th>sq km</th>\n",
       "      <th>population</th>\n",
       "      <th>inj_total</th>\n",
       "    </tr>\n",
       "  </thead>\n",
       "  <tbody>\n",
       "    <tr>\n",
       "      <th>count</th>\n",
       "      <td>2050.0</td>\n",
       "      <td>2050.000000</td>\n",
       "      <td>2050.000000</td>\n",
       "      <td>2050.000000</td>\n",
       "      <td>2050.000000</td>\n",
       "      <td>2050.000000</td>\n",
       "      <td>2050.000000</td>\n",
       "      <td>2050.000000</td>\n",
       "      <td>2.050000e+03</td>\n",
       "      <td>2050.000000</td>\n",
       "    </tr>\n",
       "    <tr>\n",
       "      <th>mean</th>\n",
       "      <td>2024.0</td>\n",
       "      <td>84.535610</td>\n",
       "      <td>13.824390</td>\n",
       "      <td>0.693659</td>\n",
       "      <td>10.487317</td>\n",
       "      <td>34.477073</td>\n",
       "      <td>12.174146</td>\n",
       "      <td>73.501815</td>\n",
       "      <td>2.998465e+04</td>\n",
       "      <td>99.053659</td>\n",
       "    </tr>\n",
       "    <tr>\n",
       "      <th>std</th>\n",
       "      <td>0.0</td>\n",
       "      <td>349.707445</td>\n",
       "      <td>46.972889</td>\n",
       "      <td>1.799031</td>\n",
       "      <td>53.794324</td>\n",
       "      <td>154.442712</td>\n",
       "      <td>51.199277</td>\n",
       "      <td>63.039939</td>\n",
       "      <td>1.130745e+05</td>\n",
       "      <td>397.130578</td>\n",
       "    </tr>\n",
       "    <tr>\n",
       "      <th>min</th>\n",
       "      <td>2024.0</td>\n",
       "      <td>0.000000</td>\n",
       "      <td>0.000000</td>\n",
       "      <td>0.000000</td>\n",
       "      <td>0.000000</td>\n",
       "      <td>0.000000</td>\n",
       "      <td>0.000000</td>\n",
       "      <td>2.710000</td>\n",
       "      <td>4.470000e+02</td>\n",
       "      <td>1.000000</td>\n",
       "    </tr>\n",
       "    <tr>\n",
       "      <th>25%</th>\n",
       "      <td>2024.0</td>\n",
       "      <td>12.000000</td>\n",
       "      <td>3.000000</td>\n",
       "      <td>0.000000</td>\n",
       "      <td>1.000000</td>\n",
       "      <td>3.000000</td>\n",
       "      <td>3.000000</td>\n",
       "      <td>32.645000</td>\n",
       "      <td>6.264250e+03</td>\n",
       "      <td>17.000000</td>\n",
       "    </tr>\n",
       "    <tr>\n",
       "      <th>50%</th>\n",
       "      <td>2024.0</td>\n",
       "      <td>29.000000</td>\n",
       "      <td>7.000000</td>\n",
       "      <td>0.000000</td>\n",
       "      <td>3.000000</td>\n",
       "      <td>9.000000</td>\n",
       "      <td>6.000000</td>\n",
       "      <td>59.885000</td>\n",
       "      <td>1.275250e+04</td>\n",
       "      <td>37.000000</td>\n",
       "    </tr>\n",
       "    <tr>\n",
       "      <th>75%</th>\n",
       "      <td>2024.0</td>\n",
       "      <td>65.000000</td>\n",
       "      <td>13.000000</td>\n",
       "      <td>1.000000</td>\n",
       "      <td>7.000000</td>\n",
       "      <td>26.000000</td>\n",
       "      <td>11.000000</td>\n",
       "      <td>93.605000</td>\n",
       "      <td>2.517450e+04</td>\n",
       "      <td>80.000000</td>\n",
       "    </tr>\n",
       "    <tr>\n",
       "      <th>max</th>\n",
       "      <td>2024.0</td>\n",
       "      <td>10739.000000</td>\n",
       "      <td>1641.000000</td>\n",
       "      <td>48.000000</td>\n",
       "      <td>1712.000000</td>\n",
       "      <td>4452.000000</td>\n",
       "      <td>1929.000000</td>\n",
       "      <td>891.120000</td>\n",
       "      <td>3.685265e+06</td>\n",
       "      <td>12428.000000</td>\n",
       "    </tr>\n",
       "  </tbody>\n",
       "</table>\n",
       "</div>"
      ],
      "text/plain": [
       "        UJAHR     inj_light  inj_serious    inj_fatal      IstFuss  \\\n",
       "count  2050.0   2050.000000  2050.000000  2050.000000  2050.000000   \n",
       "mean   2024.0     84.535610    13.824390     0.693659    10.487317   \n",
       "std       0.0    349.707445    46.972889     1.799031    53.794324   \n",
       "min    2024.0      0.000000     0.000000     0.000000     0.000000   \n",
       "25%    2024.0     12.000000     3.000000     0.000000     1.000000   \n",
       "50%    2024.0     29.000000     7.000000     0.000000     3.000000   \n",
       "75%    2024.0     65.000000    13.000000     1.000000     7.000000   \n",
       "max    2024.0  10739.000000  1641.000000    48.000000  1712.000000   \n",
       "\n",
       "            IstRad      IstKrad        sq km    population     inj_total  \n",
       "count  2050.000000  2050.000000  2050.000000  2.050000e+03   2050.000000  \n",
       "mean     34.477073    12.174146    73.501815  2.998465e+04     99.053659  \n",
       "std     154.442712    51.199277    63.039939  1.130745e+05    397.130578  \n",
       "min       0.000000     0.000000     2.710000  4.470000e+02      1.000000  \n",
       "25%       3.000000     3.000000    32.645000  6.264250e+03     17.000000  \n",
       "50%       9.000000     6.000000    59.885000  1.275250e+04     37.000000  \n",
       "75%      26.000000    11.000000    93.605000  2.517450e+04     80.000000  \n",
       "max    4452.000000  1929.000000   891.120000  3.685265e+06  12428.000000  "
      ]
     },
     "execution_count": 698,
     "metadata": {},
     "output_type": "execute_result"
    }
   ],
   "source": [
    "df_merged[df_merged[\"UJAHR\"] == 2024].describe()"
   ]
  },
  {
   "cell_type": "markdown",
   "id": "1b41ee82",
   "metadata": {},
   "source": [
    "## Gini\n",
    "\n",
    "We calculate the Gini index. Normally, the Gini index is used as a measure for wealth disparity. Here, we seek to use it as a metric to inform about the relative share of fatalities between cities. In this context, a Gini coefficient of 0 would mean that fatalities are equally distributed between cities while a Gini coefficient of 1 would mean that the fatalities are are concentrated in one city.\n"
   ]
  },
  {
   "cell_type": "code",
   "execution_count": null,
   "id": "dd489a95",
   "metadata": {},
   "outputs": [],
   "source": [
    "pop_label = \"population\"\n",
    "val_label = \"IstFuss\"\n",
    "\n",
    "\n",
    "# Gini Calculation Lifted from Lucas. Retrieved from:\n",
    "# https://gitlab.com/ComputationalScience/overdose-da\n",
    "def calc_gini(\n",
    "    df: pd.DataFrame, pop_label: str = pop_label, val_label: str = val_label\n",
    ") -> float:\n",
    "    pop = df.sort_values(pop_label, ascending=True)[pop_label].sum()\n",
    "    val = df.sort_values(pop_label, ascending=True)[val_label].sum()\n",
    "\n",
    "    \"\"\"\n",
    "        From Lucas:\n",
    "        gini = 1 - 2 * np.trapezoid(\n",
    "            [\n",
    "                data.sort_values(by=[\"Population\"], ascending=False)[:i][\"Deaths\"].sum()\n",
    "                / deaths\n",
    "                for i in range(\n",
    "                    len(data.sort_values(by=[\"Population\"], ascending=False)[\"Deaths\"])\n",
    "                )\n",
    "            ],\n",
    "            [\n",
    "                data.sort_values(by=[\"Population\"], ascending=False)[:i][\"Population\"]\n",
    "                .astype(int)\n",
    "                .sum()\n",
    "                / population\n",
    "                for i in range(\n",
    "                    len(data.sort_values(by=[\"Population\"], ascending=False)[\"Population\"])\n",
    "                )\n",
    "            ],\n",
    "        )\n",
    "    \"\"\"\n",
    "    return 1 - np.trapezoid(\n",
    "        [\n",
    "            df.sort_values(pop_label, ascending=True)[:i][val_label].sum() / val\n",
    "            for i in range(len(df.sort_values(pop_label, ascending=True)[val_label]))\n",
    "        ],\n",
    "        [\n",
    "            df.sort_values(pop_label, ascending=True)[:i][pop_label].sum() / pop\n",
    "            for i in range(len(df.sort_values(pop_label, ascending=True)[pop_label]))\n",
    "        ],\n",
    "    )"
   ]
  },
  {
   "cell_type": "code",
   "execution_count": 708,
   "id": "41951e06",
   "metadata": {},
   "outputs": [],
   "source": [
    "gini_arr: list[float] = []\n",
    "\n",
    "for year in YEARS:\n",
    "    df_yr = df_merged[df_merged[\"UJAHR\"] == year][[\"city\", pop_label, val_label]]\n",
    "\n",
    "    if SHOULD_LOG:\n",
    "        pop = df_yr.sort_values(pop_label, ascending=False)[pop_label].sum()\n",
    "        val = df_yr.sort_values(pop_label, ascending=False)[val_label].sum()\n",
    "\n",
    "        print(f\"Year {year}:\")\n",
    "        print(f\"  {pop_label}: {pop:,},\")\n",
    "        print(f\"  {val_label}: {val:,}\")\n",
    "\n",
    "    gini = calc_gini(df_yr)\n",
    "    gini_arr.append(gini)"
   ]
  },
  {
   "cell_type": "code",
   "execution_count": 709,
   "id": "1c496b1e",
   "metadata": {},
   "outputs": [],
   "source": [
    "if SHOULD_LOG:\n",
    "    print(\"\\n\".join([f\"{y}: {g:0.3f}\" for y, g in zip(YEARS, gini_arr)]))"
   ]
  },
  {
   "cell_type": "code",
   "execution_count": 710,
   "id": "3ade49db",
   "metadata": {},
   "outputs": [
    {
     "data": {
      "text/html": [
       "\n",
       "<style>\n",
       "  #altair-viz-b8b8325b7ade420c934142c818acb390.vega-embed {\n",
       "    width: 100%;\n",
       "    display: flex;\n",
       "  }\n",
       "\n",
       "  #altair-viz-b8b8325b7ade420c934142c818acb390.vega-embed details,\n",
       "  #altair-viz-b8b8325b7ade420c934142c818acb390.vega-embed details summary {\n",
       "    position: relative;\n",
       "  }\n",
       "</style>\n",
       "<div id=\"altair-viz-b8b8325b7ade420c934142c818acb390\"></div>\n",
       "<script type=\"text/javascript\">\n",
       "  var VEGA_DEBUG = (typeof VEGA_DEBUG == \"undefined\") ? {} : VEGA_DEBUG;\n",
       "  (function(spec, embedOpt){\n",
       "    let outputDiv = document.currentScript.previousElementSibling;\n",
       "    if (outputDiv.id !== \"altair-viz-b8b8325b7ade420c934142c818acb390\") {\n",
       "      outputDiv = document.getElementById(\"altair-viz-b8b8325b7ade420c934142c818acb390\");\n",
       "    }\n",
       "\n",
       "    const paths = {\n",
       "      \"vega\": \"https://cdn.jsdelivr.net/npm/vega@5?noext\",\n",
       "      \"vega-lib\": \"https://cdn.jsdelivr.net/npm/vega-lib?noext\",\n",
       "      \"vega-lite\": \"https://cdn.jsdelivr.net/npm/vega-lite@5.20.1?noext\",\n",
       "      \"vega-embed\": \"https://cdn.jsdelivr.net/npm/vega-embed@6?noext\",\n",
       "    };\n",
       "\n",
       "    function maybeLoadScript(lib, version) {\n",
       "      var key = `${lib.replace(\"-\", \"\")}_version`;\n",
       "      return (VEGA_DEBUG[key] == version) ?\n",
       "        Promise.resolve(paths[lib]) :\n",
       "        new Promise(function(resolve, reject) {\n",
       "          var s = document.createElement('script');\n",
       "          document.getElementsByTagName(\"head\")[0].appendChild(s);\n",
       "          s.async = true;\n",
       "          s.onload = () => {\n",
       "            VEGA_DEBUG[key] = version;\n",
       "            return resolve(paths[lib]);\n",
       "          };\n",
       "          s.onerror = () => reject(`Error loading script: ${paths[lib]}`);\n",
       "          s.src = paths[lib];\n",
       "        });\n",
       "    }\n",
       "\n",
       "    function showError(err) {\n",
       "      outputDiv.innerHTML = `<div class=\"error\" style=\"color:red;\">${err}</div>`;\n",
       "      throw err;\n",
       "    }\n",
       "\n",
       "    function displayChart(vegaEmbed) {\n",
       "      vegaEmbed(outputDiv, spec, embedOpt)\n",
       "        .catch(err => showError(`Javascript Error: ${err.message}<br>This usually means there's a typo in your chart specification. See the javascript console for the full traceback.`));\n",
       "    }\n",
       "\n",
       "    if(typeof define === \"function\" && define.amd) {\n",
       "      requirejs.config({paths});\n",
       "      let deps = [\"vega-embed\"];\n",
       "      require(deps, displayChart, err => showError(`Error loading script: ${err.message}`));\n",
       "    } else {\n",
       "      maybeLoadScript(\"vega\", \"5\")\n",
       "        .then(() => maybeLoadScript(\"vega-lite\", \"5.20.1\"))\n",
       "        .then(() => maybeLoadScript(\"vega-embed\", \"6\"))\n",
       "        .catch(showError)\n",
       "        .then(() => displayChart(vegaEmbed));\n",
       "    }\n",
       "  })({\"config\": {\"view\": {\"continuousWidth\": 300, \"continuousHeight\": 300}}, \"data\": {\"name\": \"data-ae3eacdee577a4c3bc921cd8817e6056\"}, \"mark\": {\"type\": \"line\", \"point\": true}, \"encoding\": {\"x\": {\"field\": \"Year\", \"type\": \"ordinal\"}, \"y\": {\"field\": \"Gini\", \"type\": \"quantitative\"}}, \"height\": 400, \"params\": [{\"name\": \"param_94\", \"select\": {\"type\": \"interval\", \"encodings\": [\"x\", \"y\"]}, \"bind\": \"scales\"}], \"title\": \"Gini Coefficient of IstFuss per Year\", \"width\": 600, \"$schema\": \"https://vega.github.io/schema/vega-lite/v5.20.1.json\", \"datasets\": {\"data-ae3eacdee577a4c3bc921cd8817e6056\": [{\"Year\": 2016, \"Gini\": 0.630480040058075}, {\"Year\": 2017, \"Gini\": 0.6180798041682422}, {\"Year\": 2018, \"Gini\": 0.6606848016793099}, {\"Year\": 2019, \"Gini\": 0.6381191293958216}, {\"Year\": 2020, \"Gini\": 0.635359641170415}, {\"Year\": 2021, \"Gini\": 0.6602055673693302}, {\"Year\": 2022, \"Gini\": 0.633167665377383}, {\"Year\": 2023, \"Gini\": 0.6385325003700291}, {\"Year\": 2024, \"Gini\": 0.6393675163199091}]}}, {\"mode\": \"vega-lite\"});\n",
       "</script>"
      ],
      "text/plain": [
       "alt.Chart(...)"
      ]
     },
     "metadata": {},
     "output_type": "display_data"
    }
   ],
   "source": [
    "title = \" \".join(val_label.split(\"_\")).title() if \"_\" in val_label else val_label\n",
    "\n",
    "chart = (\n",
    "    alt.Chart(pd.DataFrame({\"Year\": YEARS, \"Gini\": gini_arr}))\n",
    "    .mark_line(point=True)\n",
    "    .properties(\n",
    "        title=f\"Gini Coefficient of {title} per Year\",\n",
    "        width=600,\n",
    "        height=400,\n",
    "    )\n",
    "    .encode(x=\"Year:O\", y=\"Gini:Q\")\n",
    "    .interactive()\n",
    ")\n",
    "\n",
    "chart.save(os.path.join(\"img\", f\"gini_index_{title.replace(' ', '_').lower()}.png\"))\n",
    "chart.show()"
   ]
  },
  {
   "cell_type": "markdown",
   "id": "71862eaf",
   "metadata": {},
   "source": [
    "Lets now try to compare the gini index per state.\n"
   ]
  },
  {
   "cell_type": "code",
   "execution_count": 711,
   "id": "c9835439",
   "metadata": {},
   "outputs": [],
   "source": [
    "land_LUT: dict[int, str] = {\n",
    "    1: \"Schleswig-Holstein\",\n",
    "    2: \"Hamburg\",\n",
    "    3: \"Niedersachsen\",\n",
    "    4: \"Bremen\",\n",
    "    5: \"Nordrhein-Westfalen\",  # data as from 2019\n",
    "    6: \"Hessen\",\n",
    "    7: \"Rheinland-Pfalz\",  # data as from 2017\n",
    "    8: \"Baden-Württemberg\",\n",
    "    9: \"Bayern\",\n",
    "    10: \"Saarland\",  # data as from 2017\n",
    "    11: \"Berlin\",  # data as from 2018\n",
    "    12: \"Brandenburg\",  # data as from 2017\n",
    "    13: \"Mecklenburg-Vorpommern\",  # data as from 2020\n",
    "    14: \"Sachsen\",\n",
    "    15: \"Sachsen-Anhalt\",\n",
    "    16: \"Thüringen\",  # data as from 2019\n",
    "}"
   ]
  },
  {
   "cell_type": "code",
   "execution_count": 712,
   "id": "aeb411f1",
   "metadata": {},
   "outputs": [],
   "source": [
    "gini_arr: list[dict[str, float | str | int]] = []\n",
    "\n",
    "for year in YEARS:\n",
    "    # group by state for this year\n",
    "    df_yr = df_merged[df_merged[\"UJAHR\"] == year][[pop_label, val_label, \"ULAND\"]]\n",
    "    if SHOULD_LOG:\n",
    "        print(f\"Year {year}:\")\n",
    "\n",
    "    for l_id, l_name in land_LUT.items():\n",
    "        # We skip Berlin (11) and Hamburg (2) since they are city-states. Thus, the Gini\n",
    "        # is 1 and not informative\n",
    "        if l_id in [2, 11]:\n",
    "            continue\n",
    "\n",
    "        df_land = df_yr[df_yr[\"ULAND\"] == f\"{l_id:02}\"]\n",
    "\n",
    "        # Skip if we have no data for this land in this year\n",
    "        if df_land.empty:\n",
    "            continue\n",
    "\n",
    "        if SHOULD_LOG:\n",
    "            pop = df_land[pop_label].sum()\n",
    "            val = df_land[val_label].sum()\n",
    "\n",
    "            print(f\"  Land {l_name}:\")\n",
    "            print(f\"    {pop_label}: {pop:,}\")\n",
    "            print(f\"    {val_label}: {val:,}\")\n",
    "\n",
    "        gini = calc_gini(df_land)\n",
    "        gini_arr.append(\n",
    "            {\n",
    "                \"Year\": year,\n",
    "                \"Land\": l_name,\n",
    "                \"Gini\": gini,\n",
    "            }\n",
    "        )"
   ]
  },
  {
   "cell_type": "code",
   "execution_count": 713,
   "id": "c644b0f7",
   "metadata": {},
   "outputs": [
    {
     "data": {
      "application/vnd.microsoft.datawrangler.viewer.v0+json": {
       "columns": [
        {
         "name": "index",
         "rawType": "object",
         "type": "string"
        },
        {
         "name": "Year",
         "rawType": "float64",
         "type": "float"
        },
        {
         "name": "Gini",
         "rawType": "float64",
         "type": "float"
        }
       ],
       "ref": "c41bfe45-d5f9-46a6-ba40-08a224a40aa1",
       "rows": [
        [
         "count",
         "111.0",
         "111.0"
        ],
        [
         "mean",
         "2020.3873873873874",
         "0.7215932906960528"
        ],
        [
         "std",
         "2.46860715668194",
         "0.0948705928306357"
        ],
        [
         "min",
         "2016.0",
         "0.6024584337626906"
        ],
        [
         "25%",
         "2018.0",
         "0.6506001334612244"
        ],
        [
         "50%",
         "2020.0",
         "0.7058425666346584"
        ],
        [
         "75%",
         "2022.5",
         "0.7477420401032994"
        ],
        [
         "max",
         "2024.0",
         "0.9868605650666361"
        ]
       ],
       "shape": {
        "columns": 2,
        "rows": 8
       }
      },
      "text/html": [
       "<div>\n",
       "<style scoped>\n",
       "    .dataframe tbody tr th:only-of-type {\n",
       "        vertical-align: middle;\n",
       "    }\n",
       "\n",
       "    .dataframe tbody tr th {\n",
       "        vertical-align: top;\n",
       "    }\n",
       "\n",
       "    .dataframe thead th {\n",
       "        text-align: right;\n",
       "    }\n",
       "</style>\n",
       "<table border=\"1\" class=\"dataframe\">\n",
       "  <thead>\n",
       "    <tr style=\"text-align: right;\">\n",
       "      <th></th>\n",
       "      <th>Year</th>\n",
       "      <th>Gini</th>\n",
       "    </tr>\n",
       "  </thead>\n",
       "  <tbody>\n",
       "    <tr>\n",
       "      <th>count</th>\n",
       "      <td>111.000000</td>\n",
       "      <td>111.000000</td>\n",
       "    </tr>\n",
       "    <tr>\n",
       "      <th>mean</th>\n",
       "      <td>2020.387387</td>\n",
       "      <td>0.721593</td>\n",
       "    </tr>\n",
       "    <tr>\n",
       "      <th>std</th>\n",
       "      <td>2.468607</td>\n",
       "      <td>0.094871</td>\n",
       "    </tr>\n",
       "    <tr>\n",
       "      <th>min</th>\n",
       "      <td>2016.000000</td>\n",
       "      <td>0.602458</td>\n",
       "    </tr>\n",
       "    <tr>\n",
       "      <th>25%</th>\n",
       "      <td>2018.000000</td>\n",
       "      <td>0.650600</td>\n",
       "    </tr>\n",
       "    <tr>\n",
       "      <th>50%</th>\n",
       "      <td>2020.000000</td>\n",
       "      <td>0.705843</td>\n",
       "    </tr>\n",
       "    <tr>\n",
       "      <th>75%</th>\n",
       "      <td>2022.500000</td>\n",
       "      <td>0.747742</td>\n",
       "    </tr>\n",
       "    <tr>\n",
       "      <th>max</th>\n",
       "      <td>2024.000000</td>\n",
       "      <td>0.986861</td>\n",
       "    </tr>\n",
       "  </tbody>\n",
       "</table>\n",
       "</div>"
      ],
      "text/plain": [
       "              Year        Gini\n",
       "count   111.000000  111.000000\n",
       "mean   2020.387387    0.721593\n",
       "std       2.468607    0.094871\n",
       "min    2016.000000    0.602458\n",
       "25%    2018.000000    0.650600\n",
       "50%    2020.000000    0.705843\n",
       "75%    2022.500000    0.747742\n",
       "max    2024.000000    0.986861"
      ]
     },
     "execution_count": 713,
     "metadata": {},
     "output_type": "execute_result"
    }
   ],
   "source": [
    "df_gini = pd.DataFrame(gini_arr)\n",
    "df_gini.describe()"
   ]
  },
  {
   "cell_type": "code",
   "execution_count": 714,
   "id": "8c0a151b",
   "metadata": {},
   "outputs": [
    {
     "data": {
      "text/html": [
       "\n",
       "<style>\n",
       "  #altair-viz-6b5988b5ec6a477c95c7b1817ed20265.vega-embed {\n",
       "    width: 100%;\n",
       "    display: flex;\n",
       "  }\n",
       "\n",
       "  #altair-viz-6b5988b5ec6a477c95c7b1817ed20265.vega-embed details,\n",
       "  #altair-viz-6b5988b5ec6a477c95c7b1817ed20265.vega-embed details summary {\n",
       "    position: relative;\n",
       "  }\n",
       "</style>\n",
       "<div id=\"altair-viz-6b5988b5ec6a477c95c7b1817ed20265\"></div>\n",
       "<script type=\"text/javascript\">\n",
       "  var VEGA_DEBUG = (typeof VEGA_DEBUG == \"undefined\") ? {} : VEGA_DEBUG;\n",
       "  (function(spec, embedOpt){\n",
       "    let outputDiv = document.currentScript.previousElementSibling;\n",
       "    if (outputDiv.id !== \"altair-viz-6b5988b5ec6a477c95c7b1817ed20265\") {\n",
       "      outputDiv = document.getElementById(\"altair-viz-6b5988b5ec6a477c95c7b1817ed20265\");\n",
       "    }\n",
       "\n",
       "    const paths = {\n",
       "      \"vega\": \"https://cdn.jsdelivr.net/npm/vega@5?noext\",\n",
       "      \"vega-lib\": \"https://cdn.jsdelivr.net/npm/vega-lib?noext\",\n",
       "      \"vega-lite\": \"https://cdn.jsdelivr.net/npm/vega-lite@5.20.1?noext\",\n",
       "      \"vega-embed\": \"https://cdn.jsdelivr.net/npm/vega-embed@6?noext\",\n",
       "    };\n",
       "\n",
       "    function maybeLoadScript(lib, version) {\n",
       "      var key = `${lib.replace(\"-\", \"\")}_version`;\n",
       "      return (VEGA_DEBUG[key] == version) ?\n",
       "        Promise.resolve(paths[lib]) :\n",
       "        new Promise(function(resolve, reject) {\n",
       "          var s = document.createElement('script');\n",
       "          document.getElementsByTagName(\"head\")[0].appendChild(s);\n",
       "          s.async = true;\n",
       "          s.onload = () => {\n",
       "            VEGA_DEBUG[key] = version;\n",
       "            return resolve(paths[lib]);\n",
       "          };\n",
       "          s.onerror = () => reject(`Error loading script: ${paths[lib]}`);\n",
       "          s.src = paths[lib];\n",
       "        });\n",
       "    }\n",
       "\n",
       "    function showError(err) {\n",
       "      outputDiv.innerHTML = `<div class=\"error\" style=\"color:red;\">${err}</div>`;\n",
       "      throw err;\n",
       "    }\n",
       "\n",
       "    function displayChart(vegaEmbed) {\n",
       "      vegaEmbed(outputDiv, spec, embedOpt)\n",
       "        .catch(err => showError(`Javascript Error: ${err.message}<br>This usually means there's a typo in your chart specification. See the javascript console for the full traceback.`));\n",
       "    }\n",
       "\n",
       "    if(typeof define === \"function\" && define.amd) {\n",
       "      requirejs.config({paths});\n",
       "      let deps = [\"vega-embed\"];\n",
       "      require(deps, displayChart, err => showError(`Error loading script: ${err.message}`));\n",
       "    } else {\n",
       "      maybeLoadScript(\"vega\", \"5\")\n",
       "        .then(() => maybeLoadScript(\"vega-lite\", \"5.20.1\"))\n",
       "        .then(() => maybeLoadScript(\"vega-embed\", \"6\"))\n",
       "        .catch(showError)\n",
       "        .then(() => displayChart(vegaEmbed));\n",
       "    }\n",
       "  })({\"config\": {\"view\": {\"continuousWidth\": 300, \"continuousHeight\": 300}}, \"data\": {\"name\": \"data-8df676432b765cf76924c072b6ad06e3\"}, \"mark\": {\"type\": \"line\", \"point\": true}, \"encoding\": {\"color\": {\"field\": \"Land\", \"title\": \"State\", \"type\": \"nominal\"}, \"tooltip\": [{\"field\": \"Land\", \"type\": \"nominal\"}, {\"field\": \"Year\", \"title\": \"Year\", \"type\": \"ordinal\"}, {\"field\": \"Gini\", \"format\": \".3f\", \"type\": \"quantitative\"}], \"x\": {\"field\": \"Year\", \"title\": \"Year\", \"type\": \"ordinal\"}, \"y\": {\"field\": \"Gini\", \"title\": \"Gini Coefficient\", \"type\": \"quantitative\"}}, \"height\": 400, \"params\": [{\"name\": \"param_95\", \"select\": {\"type\": \"interval\", \"encodings\": [\"x\", \"y\"]}, \"bind\": \"scales\"}], \"title\": \"Gini Coefficient of IstFuss by State per Year\", \"width\": 800, \"$schema\": \"https://vega.github.io/schema/vega-lite/v5.20.1.json\", \"datasets\": {\"data-8df676432b765cf76924c072b6ad06e3\": [{\"Year\": 2016, \"Land\": \"Schleswig-Holstein\", \"Gini\": 0.6935324655583583}, {\"Year\": 2016, \"Land\": \"Bremen\", \"Gini\": 0.9861831464649254}, {\"Year\": 2016, \"Land\": \"Hessen\", \"Gini\": 0.7412416453717938}, {\"Year\": 2016, \"Land\": \"Rheinland-Pfalz\", \"Gini\": 0.616959759226467}, {\"Year\": 2016, \"Land\": \"Baden-W\\u00fcrttemberg\", \"Gini\": 0.6415787981463659}, {\"Year\": 2016, \"Land\": \"Bayern\", \"Gini\": 0.7498279315762244}, {\"Year\": 2016, \"Land\": \"Sachsen\", \"Gini\": 0.7182677360924272}, {\"Year\": 2017, \"Land\": \"Schleswig-Holstein\", \"Gini\": 0.6686766342984505}, {\"Year\": 2017, \"Land\": \"Niedersachsen\", \"Gini\": 0.6589510309668238}, {\"Year\": 2017, \"Land\": \"Bremen\", \"Gini\": 0.9833579578103832}, {\"Year\": 2017, \"Land\": \"Hessen\", \"Gini\": 0.736800305566644}, {\"Year\": 2017, \"Land\": \"Rheinland-Pfalz\", \"Gini\": 0.6051358915477232}, {\"Year\": 2017, \"Land\": \"Baden-W\\u00fcrttemberg\", \"Gini\": 0.6423522519891829}, {\"Year\": 2017, \"Land\": \"Bayern\", \"Gini\": 0.736511108140335}, {\"Year\": 2017, \"Land\": \"Saarland\", \"Gini\": 0.7936956967564478}, {\"Year\": 2017, \"Land\": \"Brandenburg\", \"Gini\": 0.6365297449124478}, {\"Year\": 2017, \"Land\": \"Sachsen\", \"Gini\": 0.7364507315200459}, {\"Year\": 2017, \"Land\": \"Sachsen-Anhalt\", \"Gini\": 0.7523530786207959}, {\"Year\": 2018, \"Land\": \"Schleswig-Holstein\", \"Gini\": 0.6651546211478689}, {\"Year\": 2018, \"Land\": \"Niedersachsen\", \"Gini\": 0.6638037955284005}, {\"Year\": 2018, \"Land\": \"Bremen\", \"Gini\": 0.9868605650666361}, {\"Year\": 2018, \"Land\": \"Hessen\", \"Gini\": 0.7385966608972921}, {\"Year\": 2018, \"Land\": \"Rheinland-Pfalz\", \"Gini\": 0.6274272002148108}, {\"Year\": 2018, \"Land\": \"Baden-W\\u00fcrttemberg\", \"Gini\": 0.6401228372959671}, {\"Year\": 2018, \"Land\": \"Bayern\", \"Gini\": 0.7431228990586756}, {\"Year\": 2018, \"Land\": \"Saarland\", \"Gini\": 0.8060613173333406}, {\"Year\": 2018, \"Land\": \"Brandenburg\", \"Gini\": 0.6437735654255692}, {\"Year\": 2018, \"Land\": \"Sachsen\", \"Gini\": 0.7242422149347322}, {\"Year\": 2018, \"Land\": \"Sachsen-Anhalt\", \"Gini\": 0.731110399637239}, {\"Year\": 2019, \"Land\": \"Schleswig-Holstein\", \"Gini\": 0.6630200901781854}, {\"Year\": 2019, \"Land\": \"Niedersachsen\", \"Gini\": 0.6467035862836874}, {\"Year\": 2019, \"Land\": \"Bremen\", \"Gini\": 0.986598001422521}, {\"Year\": 2019, \"Land\": \"Nordrhein-Westfalen\", \"Gini\": 0.6430540159864362}, {\"Year\": 2019, \"Land\": \"Hessen\", \"Gini\": 0.7390255479784081}, {\"Year\": 2019, \"Land\": \"Rheinland-Pfalz\", \"Gini\": 0.6419876479886342}, {\"Year\": 2019, \"Land\": \"Baden-W\\u00fcrttemberg\", \"Gini\": 0.6404517437721399}, {\"Year\": 2019, \"Land\": \"Bayern\", \"Gini\": 0.7477986209172189}, {\"Year\": 2019, \"Land\": \"Saarland\", \"Gini\": 0.8067206980830129}, {\"Year\": 2019, \"Land\": \"Brandenburg\", \"Gini\": 0.6505054559273845}, {\"Year\": 2019, \"Land\": \"Sachsen\", \"Gini\": 0.731096083486037}, {\"Year\": 2019, \"Land\": \"Sachsen-Anhalt\", \"Gini\": 0.7162728174425097}, {\"Year\": 2019, \"Land\": \"Th\\u00fcringen\", \"Gini\": 0.6803127839729627}, {\"Year\": 2020, \"Land\": \"Schleswig-Holstein\", \"Gini\": 0.6666387433827601}, {\"Year\": 2020, \"Land\": \"Niedersachsen\", \"Gini\": 0.6730785940491402}, {\"Year\": 2020, \"Land\": \"Bremen\", \"Gini\": 0.9838890868164347}, {\"Year\": 2020, \"Land\": \"Nordrhein-Westfalen\", \"Gini\": 0.6403328340546273}, {\"Year\": 2020, \"Land\": \"Hessen\", \"Gini\": 0.7370205950573383}, {\"Year\": 2020, \"Land\": \"Rheinland-Pfalz\", \"Gini\": 0.6067667353745828}, {\"Year\": 2020, \"Land\": \"Baden-W\\u00fcrttemberg\", \"Gini\": 0.643684537952945}, {\"Year\": 2020, \"Land\": \"Bayern\", \"Gini\": 0.7530581685274557}, {\"Year\": 2020, \"Land\": \"Saarland\", \"Gini\": 0.8058524458774451}, {\"Year\": 2020, \"Land\": \"Brandenburg\", \"Gini\": 0.6463785402670308}, {\"Year\": 2020, \"Land\": \"Mecklenburg-Vorpommern\", \"Gini\": 0.7241513254641598}, {\"Year\": 2020, \"Land\": \"Sachsen\", \"Gini\": 0.7406652698038569}, {\"Year\": 2020, \"Land\": \"Sachsen-Anhalt\", \"Gini\": 0.7298312305192021}, {\"Year\": 2020, \"Land\": \"Th\\u00fcringen\", \"Gini\": 0.6974525513886878}, {\"Year\": 2021, \"Land\": \"Schleswig-Holstein\", \"Gini\": 0.6871311820392897}, {\"Year\": 2021, \"Land\": \"Niedersachsen\", \"Gini\": 0.6669035530919235}, {\"Year\": 2021, \"Land\": \"Bremen\", \"Gini\": 0.9843081978736792}, {\"Year\": 2021, \"Land\": \"Hessen\", \"Gini\": 0.7557191450202784}, {\"Year\": 2021, \"Land\": \"Rheinland-Pfalz\", \"Gini\": 0.6201759039145619}, {\"Year\": 2021, \"Land\": \"Baden-W\\u00fcrttemberg\", \"Gini\": 0.6394517204247929}, {\"Year\": 2021, \"Land\": \"Bayern\", \"Gini\": 0.7550964713603311}, {\"Year\": 2021, \"Land\": \"Saarland\", \"Gini\": 0.8233611934698084}, {\"Year\": 2021, \"Land\": \"Brandenburg\", \"Gini\": 0.6707596898263892}, {\"Year\": 2021, \"Land\": \"Mecklenburg-Vorpommern\", \"Gini\": 0.7058425666346584}, {\"Year\": 2021, \"Land\": \"Sachsen\", \"Gini\": 0.731892373938499}, {\"Year\": 2021, \"Land\": \"Sachsen-Anhalt\", \"Gini\": 0.7554504422213683}, {\"Year\": 2021, \"Land\": \"Th\\u00fcringen\", \"Gini\": 0.6878693600622485}, {\"Year\": 2022, \"Land\": \"Schleswig-Holstein\", \"Gini\": 0.6506948109950641}, {\"Year\": 2022, \"Land\": \"Niedersachsen\", \"Gini\": 0.6586370971410425}, {\"Year\": 2022, \"Land\": \"Bremen\", \"Gini\": 0.9823717627176651}, {\"Year\": 2022, \"Land\": \"Nordrhein-Westfalen\", \"Gini\": 0.6429046633705763}, {\"Year\": 2022, \"Land\": \"Hessen\", \"Gini\": 0.7410023117580815}, {\"Year\": 2022, \"Land\": \"Rheinland-Pfalz\", \"Gini\": 0.6024584337626906}, {\"Year\": 2022, \"Land\": \"Baden-W\\u00fcrttemberg\", \"Gini\": 0.6381626578721824}, {\"Year\": 2022, \"Land\": \"Bayern\", \"Gini\": 0.7468453286829625}, {\"Year\": 2022, \"Land\": \"Saarland\", \"Gini\": 0.76688563211767}, {\"Year\": 2022, \"Land\": \"Brandenburg\", \"Gini\": 0.6549534194819225}, {\"Year\": 2022, \"Land\": \"Mecklenburg-Vorpommern\", \"Gini\": 0.7225946039758409}, {\"Year\": 2022, \"Land\": \"Sachsen\", \"Gini\": 0.7306821750793321}, {\"Year\": 2022, \"Land\": \"Sachsen-Anhalt\", \"Gini\": 0.7419833570117013}, {\"Year\": 2022, \"Land\": \"Th\\u00fcringen\", \"Gini\": 0.6878835780963535}, {\"Year\": 2023, \"Land\": \"Schleswig-Holstein\", \"Gini\": 0.6806832734923164}, {\"Year\": 2023, \"Land\": \"Niedersachsen\", \"Gini\": 0.6622027684014481}, {\"Year\": 2023, \"Land\": \"Bremen\", \"Gini\": 0.9842106331921567}, {\"Year\": 2023, \"Land\": \"Nordrhein-Westfalen\", \"Gini\": 0.6436209375686066}, {\"Year\": 2023, \"Land\": \"Hessen\", \"Gini\": 0.7373812487326731}, {\"Year\": 2023, \"Land\": \"Rheinland-Pfalz\", \"Gini\": 0.6064482233374473}, {\"Year\": 2023, \"Land\": \"Baden-W\\u00fcrttemberg\", \"Gini\": 0.6382232643543444}, {\"Year\": 2023, \"Land\": \"Bayern\", \"Gini\": 0.7548305671399278}, {\"Year\": 2023, \"Land\": \"Saarland\", \"Gini\": 0.8369579782207528}, {\"Year\": 2023, \"Land\": \"Brandenburg\", \"Gini\": 0.6709647851989207}, {\"Year\": 2023, \"Land\": \"Mecklenburg-Vorpommern\", \"Gini\": 0.7005337765996897}, {\"Year\": 2023, \"Land\": \"Sachsen\", \"Gini\": 0.7404522708050415}, {\"Year\": 2023, \"Land\": \"Sachsen-Anhalt\", \"Gini\": 0.7603067868329516}, {\"Year\": 2023, \"Land\": \"Th\\u00fcringen\", \"Gini\": 0.7003162851685647}, {\"Year\": 2024, \"Land\": \"Schleswig-Holstein\", \"Gini\": 0.6757647623227602}, {\"Year\": 2024, \"Land\": \"Niedersachsen\", \"Gini\": 0.6744224967565484}, {\"Year\": 2024, \"Land\": \"Bremen\", \"Gini\": 0.9828614359755077}, {\"Year\": 2024, \"Land\": \"Nordrhein-Westfalen\", \"Gini\": 0.6399594140864512}, {\"Year\": 2024, \"Land\": \"Hessen\", \"Gini\": 0.7476854592893798}, {\"Year\": 2024, \"Land\": \"Rheinland-Pfalz\", \"Gini\": 0.6180602829530357}, {\"Year\": 2024, \"Land\": \"Baden-W\\u00fcrttemberg\", \"Gini\": 0.6297050119234484}, {\"Year\": 2024, \"Land\": \"Bayern\", \"Gini\": 0.7589523053098166}, {\"Year\": 2024, \"Land\": \"Saarland\", \"Gini\": 0.8110494729366663}, {\"Year\": 2024, \"Land\": \"Brandenburg\", \"Gini\": 0.6599516357525259}, {\"Year\": 2024, \"Land\": \"Mecklenburg-Vorpommern\", \"Gini\": 0.7409039545828446}, {\"Year\": 2024, \"Land\": \"Sachsen\", \"Gini\": 0.7374513973015259}, {\"Year\": 2024, \"Land\": \"Sachsen-Anhalt\", \"Gini\": 0.7489914789374813}, {\"Year\": 2024, \"Land\": \"Th\\u00fcringen\", \"Gini\": 0.6909119850669314}]}}, {\"mode\": \"vega-lite\"});\n",
       "</script>"
      ],
      "text/plain": [
       "alt.Chart(...)"
      ]
     },
     "metadata": {},
     "output_type": "display_data"
    }
   ],
   "source": [
    "title = \" \".join(val_label.split(\"_\")).title() if \"_\" in val_label else val_label\n",
    "\n",
    "chart = (\n",
    "    alt.Chart(df_gini)\n",
    "    .mark_line(point=True)\n",
    "    .encode(\n",
    "        x=alt.X(\"Year:O\", title=\"Year\"),\n",
    "        y=alt.Y(\"Gini:Q\", title=\"Gini Coefficient\"),\n",
    "        color=alt.Color(\"Land:N\", title=\"State\"),\n",
    "        tooltip=[\n",
    "            \"Land\",\n",
    "            alt.Tooltip(\"Year:O\", title=\"Year\"),\n",
    "            alt.Tooltip(\"Gini:Q\", format=\".3f\"),\n",
    "        ],\n",
    "    )\n",
    "    .properties(\n",
    "        title=f\"Gini Coefficient of {title} by State per Year\",\n",
    "        width=800,\n",
    "        height=400,\n",
    "    )\n",
    "    .interactive()\n",
    ")\n",
    "\n",
    "chart.save(\n",
    "    os.path.join(\"img\", f\"gini_index-{title.replace(' ', '_').lower()}_land.png\")\n",
    ")\n",
    "chart.show()"
   ]
  }
 ],
 "metadata": {
  "kernelspec": {
   "display_name": ".envs",
   "language": "python",
   "name": "python3"
  },
  "language_info": {
   "codemirror_mode": {
    "name": "ipython",
    "version": 3
   },
   "file_extension": ".py",
   "mimetype": "text/x-python",
   "name": "python",
   "nbconvert_exporter": "python",
   "pygments_lexer": "ipython3",
   "version": "3.13.5"
  }
 },
 "nbformat": 4,
 "nbformat_minor": 5
}
