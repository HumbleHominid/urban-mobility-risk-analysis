{
 "cells": [
  {
   "cell_type": "markdown",
   "id": "ffa4bc62",
   "metadata": {},
   "source": [
    "# Gini\n"
   ]
  },
  {
   "cell_type": "code",
   "execution_count": 627,
   "id": "7b814a77",
   "metadata": {},
   "outputs": [
    {
     "name": "stdout",
     "output_type": "stream",
     "text": [
      "The autoreload extension is already loaded. To reload it, use:\n",
      "  %reload_ext autoreload\n"
     ]
    }
   ],
   "source": [
    "%load_ext autoreload\n",
    "%autoreload 2\n",
    "import altair as alt\n",
    "import fetch_data as fd\n",
    "import pandas as pd\n",
    "import numpy as np\n",
    "import os\n",
    "\n",
    "SHOULD_LOG = False"
   ]
  },
  {
   "cell_type": "code",
   "execution_count": 628,
   "id": "451b282f",
   "metadata": {},
   "outputs": [
    {
     "data": {
      "application/vnd.microsoft.datawrangler.viewer.v0+json": {
       "columns": [
        {
         "name": "index",
         "rawType": "int64",
         "type": "integer"
        },
        {
         "name": "regional key",
         "rawType": "object",
         "type": "string"
        },
        {
         "name": "city",
         "rawType": "object",
         "type": "string"
        },
        {
         "name": "sq km",
         "rawType": "float64",
         "type": "float"
        },
        {
         "name": "population",
         "rawType": "int64",
         "type": "integer"
        }
       ],
       "ref": "413aaff7-3be3-4170-99ae-800bb5f7e5ae",
       "rows": [
        [
         "0",
         "11000000",
         "Berlin",
         "891.12",
         "3685265"
        ],
        [
         "1",
         "02000000",
         "Hamburg",
         "755.09",
         "1862565"
        ],
        [
         "2",
         "09162000",
         "München",
         "310.7",
         "1505005"
        ],
        [
         "3",
         "05315000",
         "Köln",
         "405.02",
         "1024621"
        ],
        [
         "4",
         "06412000",
         "Frankfurt am Main",
         "248.31",
         "756021"
        ]
       ],
       "shape": {
        "columns": 4,
        "rows": 5
       }
      },
      "text/html": [
       "<div>\n",
       "<style scoped>\n",
       "    .dataframe tbody tr th:only-of-type {\n",
       "        vertical-align: middle;\n",
       "    }\n",
       "\n",
       "    .dataframe tbody tr th {\n",
       "        vertical-align: top;\n",
       "    }\n",
       "\n",
       "    .dataframe thead th {\n",
       "        text-align: right;\n",
       "    }\n",
       "</style>\n",
       "<table border=\"1\" class=\"dataframe\">\n",
       "  <thead>\n",
       "    <tr style=\"text-align: right;\">\n",
       "      <th></th>\n",
       "      <th>regional key</th>\n",
       "      <th>city</th>\n",
       "      <th>sq km</th>\n",
       "      <th>population</th>\n",
       "    </tr>\n",
       "  </thead>\n",
       "  <tbody>\n",
       "    <tr>\n",
       "      <th>0</th>\n",
       "      <td>11000000</td>\n",
       "      <td>Berlin</td>\n",
       "      <td>891.12</td>\n",
       "      <td>3685265</td>\n",
       "    </tr>\n",
       "    <tr>\n",
       "      <th>1</th>\n",
       "      <td>02000000</td>\n",
       "      <td>Hamburg</td>\n",
       "      <td>755.09</td>\n",
       "      <td>1862565</td>\n",
       "    </tr>\n",
       "    <tr>\n",
       "      <th>2</th>\n",
       "      <td>09162000</td>\n",
       "      <td>München</td>\n",
       "      <td>310.70</td>\n",
       "      <td>1505005</td>\n",
       "    </tr>\n",
       "    <tr>\n",
       "      <th>3</th>\n",
       "      <td>05315000</td>\n",
       "      <td>Köln</td>\n",
       "      <td>405.02</td>\n",
       "      <td>1024621</td>\n",
       "    </tr>\n",
       "    <tr>\n",
       "      <th>4</th>\n",
       "      <td>06412000</td>\n",
       "      <td>Frankfurt am Main</td>\n",
       "      <td>248.31</td>\n",
       "      <td>756021</td>\n",
       "    </tr>\n",
       "  </tbody>\n",
       "</table>\n",
       "</div>"
      ],
      "text/plain": [
       "  regional key               city   sq km  population\n",
       "0     11000000             Berlin  891.12     3685265\n",
       "1     02000000            Hamburg  755.09     1862565\n",
       "2     09162000            München  310.70     1505005\n",
       "3     05315000               Köln  405.02     1024621\n",
       "4     06412000  Frankfurt am Main  248.31      756021"
      ]
     },
     "execution_count": 628,
     "metadata": {},
     "output_type": "execute_result"
    }
   ],
   "source": [
    "city_info = fd.get_city_info()\n",
    "city_info.head()"
   ]
  },
  {
   "cell_type": "code",
   "execution_count": 629,
   "id": "9a128b0e",
   "metadata": {},
   "outputs": [],
   "source": [
    "YEARS = [i for i in range(2016, 2025)]\n",
    "df_dict = fd.get_dfs(YEARS)\n",
    "df = pd.concat(df_dict.values(), ignore_index=True)"
   ]
  },
  {
   "cell_type": "markdown",
   "id": "8a6bb874",
   "metadata": {},
   "source": [
    "## Data Cleaning\n"
   ]
  },
  {
   "cell_type": "markdown",
   "id": "c18106bc",
   "metadata": {},
   "source": [
    "Severity of accidents.\n"
   ]
  },
  {
   "cell_type": "code",
   "execution_count": 630,
   "id": "f244aef9",
   "metadata": {},
   "outputs": [],
   "source": [
    "df = pd.get_dummies(df, columns=[\"UKATEGORIE\"], prefix=\"inj\", dtype=int)\n",
    "df.rename(\n",
    "    columns={\n",
    "        \"inj_3\": \"inj_light\",\n",
    "        \"inj_2\": \"inj_serious\",\n",
    "        \"inj_1\": \"inj_fatal\",\n",
    "    },\n",
    "    inplace=True,\n",
    ")"
   ]
  },
  {
   "cell_type": "markdown",
   "id": "c99b617c",
   "metadata": {},
   "source": [
    "Group on the `Community_key` (city) and `UJAHR` the year. Additionally, aggregate metrics we care about.\n"
   ]
  },
  {
   "cell_type": "code",
   "execution_count": 631,
   "id": "bf376bca",
   "metadata": {},
   "outputs": [],
   "source": [
    "agg_methods = {\n",
    "    \"inj_light\": \"sum\",\n",
    "    \"inj_serious\": \"sum\",\n",
    "    \"inj_fatal\": \"sum\",\n",
    "    \"IstFuss\": \"sum\",\n",
    "    \"IstRad\": \"sum\",\n",
    "    \"ULAND\": \"first\",\n",
    "}\n",
    "\n",
    "\n",
    "df_grouped = df.groupby([\"Community_key\", \"UJAHR\"]).agg(agg_methods).reset_index()"
   ]
  },
  {
   "cell_type": "markdown",
   "id": "b61ecd4f",
   "metadata": {},
   "source": [
    "Perform an inner join on `\"regional key\"` with `df_grouped` and `city_info`.\n"
   ]
  },
  {
   "cell_type": "code",
   "execution_count": 632,
   "id": "83eebfe5",
   "metadata": {},
   "outputs": [],
   "source": [
    "df_grouped.rename(columns={\"Community_key\": \"regional key\"}, inplace=True)\n",
    "df_merged = df_grouped.merge(city_info, on=\"regional key\", how=\"inner\")"
   ]
  },
  {
   "cell_type": "markdown",
   "id": "df73cdb5",
   "metadata": {},
   "source": [
    "Calculate some metrics we care about.\n"
   ]
  },
  {
   "cell_type": "code",
   "execution_count": 633,
   "id": "79b355e5",
   "metadata": {},
   "outputs": [],
   "source": [
    "# Calculate the total personal injury accidents\n",
    "df_merged[\"inj_total\"] = (\n",
    "    df_merged[\"inj_light\"] + df_merged[\"inj_serious\"] + df_merged[\"inj_fatal\"]\n",
    ")"
   ]
  },
  {
   "cell_type": "code",
   "execution_count": 634,
   "id": "5c8f15b6",
   "metadata": {},
   "outputs": [
    {
     "data": {
      "application/vnd.microsoft.datawrangler.viewer.v0+json": {
       "columns": [
        {
         "name": "index",
         "rawType": "int64",
         "type": "integer"
        },
        {
         "name": "regional key",
         "rawType": "object",
         "type": "string"
        },
        {
         "name": "UJAHR",
         "rawType": "int64",
         "type": "integer"
        },
        {
         "name": "inj_light",
         "rawType": "int64",
         "type": "integer"
        },
        {
         "name": "inj_serious",
         "rawType": "int64",
         "type": "integer"
        },
        {
         "name": "inj_fatal",
         "rawType": "int64",
         "type": "integer"
        },
        {
         "name": "IstFuss",
         "rawType": "int64",
         "type": "integer"
        },
        {
         "name": "IstRad",
         "rawType": "int64",
         "type": "integer"
        },
        {
         "name": "ULAND",
         "rawType": "object",
         "type": "string"
        },
        {
         "name": "city",
         "rawType": "object",
         "type": "string"
        },
        {
         "name": "sq km",
         "rawType": "float64",
         "type": "float"
        },
        {
         "name": "population",
         "rawType": "int64",
         "type": "integer"
        },
        {
         "name": "inj_total",
         "rawType": "int64",
         "type": "integer"
        }
       ],
       "ref": "40265e8b-bcde-4fa1-aa5e-efc3ae116df1",
       "rows": [
        [
         "8",
         "01001000",
         "2024",
         "325",
         "22",
         "2",
         "34",
         "151",
         "01",
         "Flensburg",
         "56.73",
         "96326",
         "349"
        ],
        [
         "17",
         "01002000",
         "2024",
         "930",
         "93",
         "4",
         "102",
         "514",
         "01",
         "Kiel",
         "118.65",
         "252668",
         "1027"
        ],
        [
         "26",
         "01003000",
         "2024",
         "1008",
         "109",
         "1",
         "104",
         "611",
         "01",
         "Lübeck",
         "214.19",
         "216889",
         "1118"
        ],
        [
         "35",
         "01004000",
         "2024",
         "329",
         "33",
         "0",
         "32",
         "136",
         "01",
         "Neumünster",
         "71.66",
         "79809",
         "362"
        ],
        [
         "44",
         "01051011",
         "2024",
         "51",
         "9",
         "0",
         "5",
         "25",
         "01",
         "Brunsbüttel",
         "65.21",
         "12692",
         "60"
        ]
       ],
       "shape": {
        "columns": 12,
        "rows": 5
       }
      },
      "text/html": [
       "<div>\n",
       "<style scoped>\n",
       "    .dataframe tbody tr th:only-of-type {\n",
       "        vertical-align: middle;\n",
       "    }\n",
       "\n",
       "    .dataframe tbody tr th {\n",
       "        vertical-align: top;\n",
       "    }\n",
       "\n",
       "    .dataframe thead th {\n",
       "        text-align: right;\n",
       "    }\n",
       "</style>\n",
       "<table border=\"1\" class=\"dataframe\">\n",
       "  <thead>\n",
       "    <tr style=\"text-align: right;\">\n",
       "      <th></th>\n",
       "      <th>regional key</th>\n",
       "      <th>UJAHR</th>\n",
       "      <th>inj_light</th>\n",
       "      <th>inj_serious</th>\n",
       "      <th>inj_fatal</th>\n",
       "      <th>IstFuss</th>\n",
       "      <th>IstRad</th>\n",
       "      <th>ULAND</th>\n",
       "      <th>city</th>\n",
       "      <th>sq km</th>\n",
       "      <th>population</th>\n",
       "      <th>inj_total</th>\n",
       "    </tr>\n",
       "  </thead>\n",
       "  <tbody>\n",
       "    <tr>\n",
       "      <th>8</th>\n",
       "      <td>01001000</td>\n",
       "      <td>2024</td>\n",
       "      <td>325</td>\n",
       "      <td>22</td>\n",
       "      <td>2</td>\n",
       "      <td>34</td>\n",
       "      <td>151</td>\n",
       "      <td>01</td>\n",
       "      <td>Flensburg</td>\n",
       "      <td>56.73</td>\n",
       "      <td>96326</td>\n",
       "      <td>349</td>\n",
       "    </tr>\n",
       "    <tr>\n",
       "      <th>17</th>\n",
       "      <td>01002000</td>\n",
       "      <td>2024</td>\n",
       "      <td>930</td>\n",
       "      <td>93</td>\n",
       "      <td>4</td>\n",
       "      <td>102</td>\n",
       "      <td>514</td>\n",
       "      <td>01</td>\n",
       "      <td>Kiel</td>\n",
       "      <td>118.65</td>\n",
       "      <td>252668</td>\n",
       "      <td>1027</td>\n",
       "    </tr>\n",
       "    <tr>\n",
       "      <th>26</th>\n",
       "      <td>01003000</td>\n",
       "      <td>2024</td>\n",
       "      <td>1008</td>\n",
       "      <td>109</td>\n",
       "      <td>1</td>\n",
       "      <td>104</td>\n",
       "      <td>611</td>\n",
       "      <td>01</td>\n",
       "      <td>Lübeck</td>\n",
       "      <td>214.19</td>\n",
       "      <td>216889</td>\n",
       "      <td>1118</td>\n",
       "    </tr>\n",
       "    <tr>\n",
       "      <th>35</th>\n",
       "      <td>01004000</td>\n",
       "      <td>2024</td>\n",
       "      <td>329</td>\n",
       "      <td>33</td>\n",
       "      <td>0</td>\n",
       "      <td>32</td>\n",
       "      <td>136</td>\n",
       "      <td>01</td>\n",
       "      <td>Neumünster</td>\n",
       "      <td>71.66</td>\n",
       "      <td>79809</td>\n",
       "      <td>362</td>\n",
       "    </tr>\n",
       "    <tr>\n",
       "      <th>44</th>\n",
       "      <td>01051011</td>\n",
       "      <td>2024</td>\n",
       "      <td>51</td>\n",
       "      <td>9</td>\n",
       "      <td>0</td>\n",
       "      <td>5</td>\n",
       "      <td>25</td>\n",
       "      <td>01</td>\n",
       "      <td>Brunsbüttel</td>\n",
       "      <td>65.21</td>\n",
       "      <td>12692</td>\n",
       "      <td>60</td>\n",
       "    </tr>\n",
       "  </tbody>\n",
       "</table>\n",
       "</div>"
      ],
      "text/plain": [
       "   regional key  UJAHR  inj_light  inj_serious  inj_fatal  IstFuss  IstRad  \\\n",
       "8      01001000   2024        325           22          2       34     151   \n",
       "17     01002000   2024        930           93          4      102     514   \n",
       "26     01003000   2024       1008          109          1      104     611   \n",
       "35     01004000   2024        329           33          0       32     136   \n",
       "44     01051011   2024         51            9          0        5      25   \n",
       "\n",
       "   ULAND         city   sq km  population  inj_total  \n",
       "8     01    Flensburg   56.73       96326        349  \n",
       "17    01         Kiel  118.65      252668       1027  \n",
       "26    01       Lübeck  214.19      216889       1118  \n",
       "35    01   Neumünster   71.66       79809        362  \n",
       "44    01  Brunsbüttel   65.21       12692         60  "
      ]
     },
     "execution_count": 634,
     "metadata": {},
     "output_type": "execute_result"
    }
   ],
   "source": [
    "df_merged[df_merged[\"UJAHR\"] == 2024].head()"
   ]
  },
  {
   "cell_type": "code",
   "execution_count": 635,
   "id": "fff11c3a",
   "metadata": {},
   "outputs": [
    {
     "data": {
      "application/vnd.microsoft.datawrangler.viewer.v0+json": {
       "columns": [
        {
         "name": "index",
         "rawType": "object",
         "type": "string"
        },
        {
         "name": "UJAHR",
         "rawType": "float64",
         "type": "float"
        },
        {
         "name": "inj_light",
         "rawType": "float64",
         "type": "float"
        },
        {
         "name": "inj_serious",
         "rawType": "float64",
         "type": "float"
        },
        {
         "name": "inj_fatal",
         "rawType": "float64",
         "type": "float"
        },
        {
         "name": "IstFuss",
         "rawType": "float64",
         "type": "float"
        },
        {
         "name": "IstRad",
         "rawType": "float64",
         "type": "float"
        },
        {
         "name": "sq km",
         "rawType": "float64",
         "type": "float"
        },
        {
         "name": "population",
         "rawType": "float64",
         "type": "float"
        },
        {
         "name": "inj_total",
         "rawType": "float64",
         "type": "float"
        }
       ],
       "ref": "90b2db16-572a-45d9-ba19-d0ab80168d4b",
       "rows": [
        [
         "count",
         "2050.0",
         "2050.0",
         "2050.0",
         "2050.0",
         "2050.0",
         "2050.0",
         "2050.0",
         "2050.0",
         "2050.0"
        ],
        [
         "mean",
         "2024.0",
         "84.53560975609756",
         "13.824390243902439",
         "0.6936585365853658",
         "10.487317073170733",
         "34.47707317073171",
         "73.50181463414634",
         "29984.648292682927",
         "99.05365853658536"
        ],
        [
         "std",
         "0.0",
         "349.70744511604113",
         "46.972889081694916",
         "1.799031456924587",
         "53.79432375311184",
         "154.44271173045504",
         "63.03993912563036",
         "113074.50893615013",
         "397.13057801793286"
        ],
        [
         "min",
         "2024.0",
         "0.0",
         "0.0",
         "0.0",
         "0.0",
         "0.0",
         "2.71",
         "447.0",
         "1.0"
        ],
        [
         "25%",
         "2024.0",
         "12.0",
         "3.0",
         "0.0",
         "1.0",
         "3.0",
         "32.645",
         "6264.25",
         "17.0"
        ],
        [
         "50%",
         "2024.0",
         "29.0",
         "7.0",
         "0.0",
         "3.0",
         "9.0",
         "59.885000000000005",
         "12752.5",
         "37.0"
        ],
        [
         "75%",
         "2024.0",
         "65.0",
         "13.0",
         "1.0",
         "7.0",
         "26.0",
         "93.60499999999999",
         "25174.5",
         "80.0"
        ],
        [
         "max",
         "2024.0",
         "10739.0",
         "1641.0",
         "48.0",
         "1712.0",
         "4452.0",
         "891.12",
         "3685265.0",
         "12428.0"
        ]
       ],
       "shape": {
        "columns": 9,
        "rows": 8
       }
      },
      "text/html": [
       "<div>\n",
       "<style scoped>\n",
       "    .dataframe tbody tr th:only-of-type {\n",
       "        vertical-align: middle;\n",
       "    }\n",
       "\n",
       "    .dataframe tbody tr th {\n",
       "        vertical-align: top;\n",
       "    }\n",
       "\n",
       "    .dataframe thead th {\n",
       "        text-align: right;\n",
       "    }\n",
       "</style>\n",
       "<table border=\"1\" class=\"dataframe\">\n",
       "  <thead>\n",
       "    <tr style=\"text-align: right;\">\n",
       "      <th></th>\n",
       "      <th>UJAHR</th>\n",
       "      <th>inj_light</th>\n",
       "      <th>inj_serious</th>\n",
       "      <th>inj_fatal</th>\n",
       "      <th>IstFuss</th>\n",
       "      <th>IstRad</th>\n",
       "      <th>sq km</th>\n",
       "      <th>population</th>\n",
       "      <th>inj_total</th>\n",
       "    </tr>\n",
       "  </thead>\n",
       "  <tbody>\n",
       "    <tr>\n",
       "      <th>count</th>\n",
       "      <td>2050.0</td>\n",
       "      <td>2050.000000</td>\n",
       "      <td>2050.000000</td>\n",
       "      <td>2050.000000</td>\n",
       "      <td>2050.000000</td>\n",
       "      <td>2050.000000</td>\n",
       "      <td>2050.000000</td>\n",
       "      <td>2.050000e+03</td>\n",
       "      <td>2050.000000</td>\n",
       "    </tr>\n",
       "    <tr>\n",
       "      <th>mean</th>\n",
       "      <td>2024.0</td>\n",
       "      <td>84.535610</td>\n",
       "      <td>13.824390</td>\n",
       "      <td>0.693659</td>\n",
       "      <td>10.487317</td>\n",
       "      <td>34.477073</td>\n",
       "      <td>73.501815</td>\n",
       "      <td>2.998465e+04</td>\n",
       "      <td>99.053659</td>\n",
       "    </tr>\n",
       "    <tr>\n",
       "      <th>std</th>\n",
       "      <td>0.0</td>\n",
       "      <td>349.707445</td>\n",
       "      <td>46.972889</td>\n",
       "      <td>1.799031</td>\n",
       "      <td>53.794324</td>\n",
       "      <td>154.442712</td>\n",
       "      <td>63.039939</td>\n",
       "      <td>1.130745e+05</td>\n",
       "      <td>397.130578</td>\n",
       "    </tr>\n",
       "    <tr>\n",
       "      <th>min</th>\n",
       "      <td>2024.0</td>\n",
       "      <td>0.000000</td>\n",
       "      <td>0.000000</td>\n",
       "      <td>0.000000</td>\n",
       "      <td>0.000000</td>\n",
       "      <td>0.000000</td>\n",
       "      <td>2.710000</td>\n",
       "      <td>4.470000e+02</td>\n",
       "      <td>1.000000</td>\n",
       "    </tr>\n",
       "    <tr>\n",
       "      <th>25%</th>\n",
       "      <td>2024.0</td>\n",
       "      <td>12.000000</td>\n",
       "      <td>3.000000</td>\n",
       "      <td>0.000000</td>\n",
       "      <td>1.000000</td>\n",
       "      <td>3.000000</td>\n",
       "      <td>32.645000</td>\n",
       "      <td>6.264250e+03</td>\n",
       "      <td>17.000000</td>\n",
       "    </tr>\n",
       "    <tr>\n",
       "      <th>50%</th>\n",
       "      <td>2024.0</td>\n",
       "      <td>29.000000</td>\n",
       "      <td>7.000000</td>\n",
       "      <td>0.000000</td>\n",
       "      <td>3.000000</td>\n",
       "      <td>9.000000</td>\n",
       "      <td>59.885000</td>\n",
       "      <td>1.275250e+04</td>\n",
       "      <td>37.000000</td>\n",
       "    </tr>\n",
       "    <tr>\n",
       "      <th>75%</th>\n",
       "      <td>2024.0</td>\n",
       "      <td>65.000000</td>\n",
       "      <td>13.000000</td>\n",
       "      <td>1.000000</td>\n",
       "      <td>7.000000</td>\n",
       "      <td>26.000000</td>\n",
       "      <td>93.605000</td>\n",
       "      <td>2.517450e+04</td>\n",
       "      <td>80.000000</td>\n",
       "    </tr>\n",
       "    <tr>\n",
       "      <th>max</th>\n",
       "      <td>2024.0</td>\n",
       "      <td>10739.000000</td>\n",
       "      <td>1641.000000</td>\n",
       "      <td>48.000000</td>\n",
       "      <td>1712.000000</td>\n",
       "      <td>4452.000000</td>\n",
       "      <td>891.120000</td>\n",
       "      <td>3.685265e+06</td>\n",
       "      <td>12428.000000</td>\n",
       "    </tr>\n",
       "  </tbody>\n",
       "</table>\n",
       "</div>"
      ],
      "text/plain": [
       "        UJAHR     inj_light  inj_serious    inj_fatal      IstFuss  \\\n",
       "count  2050.0   2050.000000  2050.000000  2050.000000  2050.000000   \n",
       "mean   2024.0     84.535610    13.824390     0.693659    10.487317   \n",
       "std       0.0    349.707445    46.972889     1.799031    53.794324   \n",
       "min    2024.0      0.000000     0.000000     0.000000     0.000000   \n",
       "25%    2024.0     12.000000     3.000000     0.000000     1.000000   \n",
       "50%    2024.0     29.000000     7.000000     0.000000     3.000000   \n",
       "75%    2024.0     65.000000    13.000000     1.000000     7.000000   \n",
       "max    2024.0  10739.000000  1641.000000    48.000000  1712.000000   \n",
       "\n",
       "            IstRad        sq km    population     inj_total  \n",
       "count  2050.000000  2050.000000  2.050000e+03   2050.000000  \n",
       "mean     34.477073    73.501815  2.998465e+04     99.053659  \n",
       "std     154.442712    63.039939  1.130745e+05    397.130578  \n",
       "min       0.000000     2.710000  4.470000e+02      1.000000  \n",
       "25%       3.000000    32.645000  6.264250e+03     17.000000  \n",
       "50%       9.000000    59.885000  1.275250e+04     37.000000  \n",
       "75%      26.000000    93.605000  2.517450e+04     80.000000  \n",
       "max    4452.000000   891.120000  3.685265e+06  12428.000000  "
      ]
     },
     "execution_count": 635,
     "metadata": {},
     "output_type": "execute_result"
    }
   ],
   "source": [
    "df_merged[df_merged[\"UJAHR\"] == 2024].describe()"
   ]
  },
  {
   "cell_type": "markdown",
   "id": "1b41ee82",
   "metadata": {},
   "source": [
    "## Gini\n",
    "\n",
    "We calculate the Gini index. Normally, the Gini index is used as a measure for wealth disparity. Here, we seek to use it as a metric to inform about the relative share of fatalities between cities. In this context, a Gini coefficient of 0 would mean that fatalities are equally distributed between cities while a Gini coefficient of 1 would mean that the fatalities are are concentrated in one city.\n"
   ]
  },
  {
   "cell_type": "code",
   "execution_count": 636,
   "id": "dd489a95",
   "metadata": {},
   "outputs": [],
   "source": [
    "pop_label = \"population\"\n",
    "val_label = \"inj_fatal\"\n",
    "\n",
    "\n",
    "# Gini Calculation Lifted from Lucas. Retrieved from:\n",
    "# https://gitlab.com/ComputationalScience/overdose-da\n",
    "def calc_gini(\n",
    "    df: pd.DataFrame, pop_label: str = pop_label, val_label: str = val_label\n",
    ") -> float:\n",
    "    pop = df.sort_values(pop_label, ascending=True)[pop_label].sum()\n",
    "    val = df.sort_values(pop_label, ascending=True)[val_label].sum()\n",
    "\n",
    "    \"\"\"\n",
    "        From Lucas:\n",
    "        gini = 1 - 2 * np.trapezoid(\n",
    "            [\n",
    "                data.sort_values(by=[\"Population\"], ascending=False)[:i][\"Deaths\"].sum()\n",
    "                / deaths\n",
    "                for i in range(\n",
    "                    len(data.sort_values(by=[\"Population\"], ascending=False)[\"Deaths\"])\n",
    "                )\n",
    "            ],\n",
    "            [\n",
    "                data.sort_values(by=[\"Population\"], ascending=False)[:i][\"Population\"]\n",
    "                .astype(int)\n",
    "                .sum()\n",
    "                / population\n",
    "                for i in range(\n",
    "                    len(data.sort_values(by=[\"Population\"], ascending=False)[\"Population\"])\n",
    "                )\n",
    "            ],\n",
    "        )\n",
    "    \"\"\"\n",
    "    return 1 - np.trapezoid(\n",
    "        [\n",
    "            df.sort_values(pop_label, ascending=True)[:i][val_label].sum() / val\n",
    "            for i in range(len(df.sort_values(pop_label, ascending=True)[val_label]))\n",
    "        ],\n",
    "        [\n",
    "            df.sort_values(pop_label, ascending=True)[:i][pop_label].sum() / pop\n",
    "            for i in range(len(df.sort_values(pop_label, ascending=True)[pop_label]))\n",
    "        ],\n",
    "    )"
   ]
  },
  {
   "cell_type": "code",
   "execution_count": 646,
   "id": "41951e06",
   "metadata": {},
   "outputs": [],
   "source": [
    "gini_arr: list[float] = []\n",
    "\n",
    "for year in YEARS:\n",
    "    df_yr = df_merged[df_merged[\"UJAHR\"] == year][[pop_label, val_label]]\n",
    "\n",
    "    if SHOULD_LOG:\n",
    "        pop = df_yr.sort_values(pop_label, ascending=False)[pop_label].sum()\n",
    "        val = df_yr.sort_values(pop_label, ascending=False)[val_label].sum()\n",
    "\n",
    "        print(f\"Year {year}:\")\n",
    "        print(f\"  {pop_label}: {pop:,},\")\n",
    "        print(f\"  {val_label}: {val:,}\")\n",
    "\n",
    "    gini = calc_gini(df_yr)\n",
    "    gini_arr.append(gini)"
   ]
  },
  {
   "cell_type": "code",
   "execution_count": 647,
   "id": "1c496b1e",
   "metadata": {},
   "outputs": [],
   "source": [
    "if SHOULD_LOG:\n",
    "    print(\"\\n\".join([f\"{y}: {g:0.3f}\" for y, g in zip(YEARS, gini_arr)]))"
   ]
  },
  {
   "cell_type": "code",
   "execution_count": 648,
   "id": "3ade49db",
   "metadata": {},
   "outputs": [
    {
     "data": {
      "text/html": [
       "\n",
       "<style>\n",
       "  #altair-viz-c10c665203944eb7b3c941e56eda225f.vega-embed {\n",
       "    width: 100%;\n",
       "    display: flex;\n",
       "  }\n",
       "\n",
       "  #altair-viz-c10c665203944eb7b3c941e56eda225f.vega-embed details,\n",
       "  #altair-viz-c10c665203944eb7b3c941e56eda225f.vega-embed details summary {\n",
       "    position: relative;\n",
       "  }\n",
       "</style>\n",
       "<div id=\"altair-viz-c10c665203944eb7b3c941e56eda225f\"></div>\n",
       "<script type=\"text/javascript\">\n",
       "  var VEGA_DEBUG = (typeof VEGA_DEBUG == \"undefined\") ? {} : VEGA_DEBUG;\n",
       "  (function(spec, embedOpt){\n",
       "    let outputDiv = document.currentScript.previousElementSibling;\n",
       "    if (outputDiv.id !== \"altair-viz-c10c665203944eb7b3c941e56eda225f\") {\n",
       "      outputDiv = document.getElementById(\"altair-viz-c10c665203944eb7b3c941e56eda225f\");\n",
       "    }\n",
       "\n",
       "    const paths = {\n",
       "      \"vega\": \"https://cdn.jsdelivr.net/npm/vega@5?noext\",\n",
       "      \"vega-lib\": \"https://cdn.jsdelivr.net/npm/vega-lib?noext\",\n",
       "      \"vega-lite\": \"https://cdn.jsdelivr.net/npm/vega-lite@5.20.1?noext\",\n",
       "      \"vega-embed\": \"https://cdn.jsdelivr.net/npm/vega-embed@6?noext\",\n",
       "    };\n",
       "\n",
       "    function maybeLoadScript(lib, version) {\n",
       "      var key = `${lib.replace(\"-\", \"\")}_version`;\n",
       "      return (VEGA_DEBUG[key] == version) ?\n",
       "        Promise.resolve(paths[lib]) :\n",
       "        new Promise(function(resolve, reject) {\n",
       "          var s = document.createElement('script');\n",
       "          document.getElementsByTagName(\"head\")[0].appendChild(s);\n",
       "          s.async = true;\n",
       "          s.onload = () => {\n",
       "            VEGA_DEBUG[key] = version;\n",
       "            return resolve(paths[lib]);\n",
       "          };\n",
       "          s.onerror = () => reject(`Error loading script: ${paths[lib]}`);\n",
       "          s.src = paths[lib];\n",
       "        });\n",
       "    }\n",
       "\n",
       "    function showError(err) {\n",
       "      outputDiv.innerHTML = `<div class=\"error\" style=\"color:red;\">${err}</div>`;\n",
       "      throw err;\n",
       "    }\n",
       "\n",
       "    function displayChart(vegaEmbed) {\n",
       "      vegaEmbed(outputDiv, spec, embedOpt)\n",
       "        .catch(err => showError(`Javascript Error: ${err.message}<br>This usually means there's a typo in your chart specification. See the javascript console for the full traceback.`));\n",
       "    }\n",
       "\n",
       "    if(typeof define === \"function\" && define.amd) {\n",
       "      requirejs.config({paths});\n",
       "      let deps = [\"vega-embed\"];\n",
       "      require(deps, displayChart, err => showError(`Error loading script: ${err.message}`));\n",
       "    } else {\n",
       "      maybeLoadScript(\"vega\", \"5\")\n",
       "        .then(() => maybeLoadScript(\"vega-lite\", \"5.20.1\"))\n",
       "        .then(() => maybeLoadScript(\"vega-embed\", \"6\"))\n",
       "        .catch(showError)\n",
       "        .then(() => displayChart(vegaEmbed));\n",
       "    }\n",
       "  })({\"config\": {\"view\": {\"continuousWidth\": 300, \"continuousHeight\": 300}}, \"data\": {\"name\": \"data-d92179c8d6b138fbce51c3b793a769a9\"}, \"mark\": {\"type\": \"line\", \"point\": true}, \"encoding\": {\"x\": {\"field\": \"Year\", \"type\": \"ordinal\"}, \"y\": {\"field\": \"Gini\", \"type\": \"quantitative\"}}, \"height\": 400, \"params\": [{\"name\": \"param_85\", \"select\": {\"type\": \"interval\", \"encodings\": [\"x\", \"y\"]}, \"bind\": \"scales\"}], \"title\": \"Gini Coefficient of Inj Fatal per Year\", \"width\": 600, \"$schema\": \"https://vega.github.io/schema/vega-lite/v5.20.1.json\", \"datasets\": {\"data-d92179c8d6b138fbce51c3b793a769a9\": [{\"Year\": 2016, \"Gini\": 0.4357583423888788}, {\"Year\": 2017, \"Gini\": 0.411619095138952}, {\"Year\": 2018, \"Gini\": 0.4340355911870737}, {\"Year\": 2019, \"Gini\": 0.42427399389885767}, {\"Year\": 2020, \"Gini\": 0.4303713877670162}, {\"Year\": 2021, \"Gini\": 0.4288399824885494}, {\"Year\": 2022, \"Gini\": 0.4166304944047001}, {\"Year\": 2023, \"Gini\": 0.42966003006558406}, {\"Year\": 2024, \"Gini\": 0.4446070391455911}]}}, {\"mode\": \"vega-lite\"});\n",
       "</script>"
      ],
      "text/plain": [
       "alt.Chart(...)"
      ]
     },
     "metadata": {},
     "output_type": "display_data"
    }
   ],
   "source": [
    "title = \" \".join(val_label.split(\"_\")).title() if \"_\" in val_label else val_label\n",
    "\n",
    "chart = (\n",
    "    alt.Chart(pd.DataFrame({\"Year\": YEARS, \"Gini\": gini_arr}))\n",
    "    .mark_line(point=True)\n",
    "    .properties(\n",
    "        title=f\"Gini Coefficient of {title} per Year\",\n",
    "        width=600,\n",
    "        height=400,\n",
    "    )\n",
    "    .encode(x=\"Year:O\", y=\"Gini:Q\")\n",
    "    .interactive()\n",
    ")\n",
    "\n",
    "chart.save(os.path.join(\"img\", f\"gini_index_{title.replace(' ', '_').lower()}.png\"))\n",
    "chart.show()"
   ]
  },
  {
   "cell_type": "markdown",
   "id": "71862eaf",
   "metadata": {},
   "source": [
    "Lets now try to compare the gini index per state.\n"
   ]
  },
  {
   "cell_type": "code",
   "execution_count": 649,
   "id": "c9835439",
   "metadata": {},
   "outputs": [],
   "source": [
    "land_LUT: dict[int, str] = {\n",
    "    1: \"Schleswig-Holstein\",\n",
    "    2: \"Hamburg\",\n",
    "    3: \"Niedersachsen\",\n",
    "    4: \"Bremen\",\n",
    "    5: \"Nordrhein-Westfalen\",  # data as from 2019\n",
    "    6: \"Hessen\",\n",
    "    7: \"Rheinland-Pfalz\",  # data as from 2017\n",
    "    8: \"Baden-Württemberg\",\n",
    "    9: \"Bayern\",\n",
    "    10: \"Saarland\",  # data as from 2017\n",
    "    11: \"Berlin\",  # data as from 2018\n",
    "    12: \"Brandenburg\",  # data as from 2017\n",
    "    13: \"Mecklenburg-Vorpommern\",  # data as from 2020\n",
    "    14: \"Sachsen\",\n",
    "    15: \"Sachsen-Anhalt\",\n",
    "    16: \"Thüringen\",  # data as from 2019\n",
    "}"
   ]
  },
  {
   "cell_type": "code",
   "execution_count": 650,
   "id": "aeb411f1",
   "metadata": {},
   "outputs": [],
   "source": [
    "gini_arr: list[dict[str, float | str | int]] = []\n",
    "\n",
    "for year in YEARS:\n",
    "    # group by state for this year\n",
    "    df_yr = df_merged[df_merged[\"UJAHR\"] == year][[pop_label, val_label, \"ULAND\"]]\n",
    "    if SHOULD_LOG:\n",
    "        print(f\"Year {year}:\")\n",
    "\n",
    "    for l_id, l_name in land_LUT.items():\n",
    "        # We skip Berlin (11) and Hamburg (2) since they are city-states. Thus, the Gini\n",
    "        # is 1 and not informative\n",
    "        if l_id in [2, 11]:\n",
    "            continue\n",
    "\n",
    "        df_land = df_yr[df_yr[\"ULAND\"] == f\"{l_id:02}\"]\n",
    "\n",
    "        # Skip if we have no data for this land in this year\n",
    "        if df_land.empty:\n",
    "            continue\n",
    "\n",
    "        if SHOULD_LOG:\n",
    "            pop = df_land[pop_label].sum()\n",
    "            val = df_land[val_label].sum()\n",
    "\n",
    "            print(f\"  Land {l_name}:\")\n",
    "            print(f\"    {pop_label}: {pop:,}\")\n",
    "            print(f\"    {val_label}: {val:,}\")\n",
    "\n",
    "        gini = calc_gini(df_land)\n",
    "        gini_arr.append(\n",
    "            {\n",
    "                \"Year\": year,\n",
    "                \"Land\": l_name,\n",
    "                \"Gini\": gini,\n",
    "            }\n",
    "        )"
   ]
  },
  {
   "cell_type": "code",
   "execution_count": 651,
   "id": "c644b0f7",
   "metadata": {},
   "outputs": [
    {
     "data": {
      "application/vnd.microsoft.datawrangler.viewer.v0+json": {
       "columns": [
        {
         "name": "index",
         "rawType": "object",
         "type": "string"
        },
        {
         "name": "Year",
         "rawType": "float64",
         "type": "float"
        },
        {
         "name": "Gini",
         "rawType": "float64",
         "type": "float"
        }
       ],
       "ref": "62f0a842-70a6-4205-99e4-14544ba8f035",
       "rows": [
        [
         "count",
         "111.0",
         "111.0"
        ],
        [
         "mean",
         "2020.3873873873874",
         "0.5679196796067871"
        ],
        [
         "std",
         "2.46860715668194",
         "0.14491078432468615"
        ],
        [
         "min",
         "2016.0",
         "0.4328589040166463"
        ],
        [
         "25%",
         "2018.0",
         "0.4782304187539882"
        ],
        [
         "50%",
         "2020.0",
         "0.5265069817612964"
        ],
        [
         "75%",
         "2022.5",
         "0.5698039985706893"
        ],
        [
         "max",
         "2024.0",
         "1.0"
        ]
       ],
       "shape": {
        "columns": 2,
        "rows": 8
       }
      },
      "text/html": [
       "<div>\n",
       "<style scoped>\n",
       "    .dataframe tbody tr th:only-of-type {\n",
       "        vertical-align: middle;\n",
       "    }\n",
       "\n",
       "    .dataframe tbody tr th {\n",
       "        vertical-align: top;\n",
       "    }\n",
       "\n",
       "    .dataframe thead th {\n",
       "        text-align: right;\n",
       "    }\n",
       "</style>\n",
       "<table border=\"1\" class=\"dataframe\">\n",
       "  <thead>\n",
       "    <tr style=\"text-align: right;\">\n",
       "      <th></th>\n",
       "      <th>Year</th>\n",
       "      <th>Gini</th>\n",
       "    </tr>\n",
       "  </thead>\n",
       "  <tbody>\n",
       "    <tr>\n",
       "      <th>count</th>\n",
       "      <td>111.000000</td>\n",
       "      <td>111.000000</td>\n",
       "    </tr>\n",
       "    <tr>\n",
       "      <th>mean</th>\n",
       "      <td>2020.387387</td>\n",
       "      <td>0.567920</td>\n",
       "    </tr>\n",
       "    <tr>\n",
       "      <th>std</th>\n",
       "      <td>2.468607</td>\n",
       "      <td>0.144911</td>\n",
       "    </tr>\n",
       "    <tr>\n",
       "      <th>min</th>\n",
       "      <td>2016.000000</td>\n",
       "      <td>0.432859</td>\n",
       "    </tr>\n",
       "    <tr>\n",
       "      <th>25%</th>\n",
       "      <td>2018.000000</td>\n",
       "      <td>0.478230</td>\n",
       "    </tr>\n",
       "    <tr>\n",
       "      <th>50%</th>\n",
       "      <td>2020.000000</td>\n",
       "      <td>0.526507</td>\n",
       "    </tr>\n",
       "    <tr>\n",
       "      <th>75%</th>\n",
       "      <td>2022.500000</td>\n",
       "      <td>0.569804</td>\n",
       "    </tr>\n",
       "    <tr>\n",
       "      <th>max</th>\n",
       "      <td>2024.000000</td>\n",
       "      <td>1.000000</td>\n",
       "    </tr>\n",
       "  </tbody>\n",
       "</table>\n",
       "</div>"
      ],
      "text/plain": [
       "              Year        Gini\n",
       "count   111.000000  111.000000\n",
       "mean   2020.387387    0.567920\n",
       "std       2.468607    0.144911\n",
       "min    2016.000000    0.432859\n",
       "25%    2018.000000    0.478230\n",
       "50%    2020.000000    0.526507\n",
       "75%    2022.500000    0.569804\n",
       "max    2024.000000    1.000000"
      ]
     },
     "execution_count": 651,
     "metadata": {},
     "output_type": "execute_result"
    }
   ],
   "source": [
    "df_gini = pd.DataFrame(gini_arr)\n",
    "df_gini.describe()"
   ]
  },
  {
   "cell_type": "code",
   "execution_count": 652,
   "id": "8c0a151b",
   "metadata": {},
   "outputs": [
    {
     "data": {
      "text/html": [
       "\n",
       "<style>\n",
       "  #altair-viz-d1937aaf3275419db5915e54590d3549.vega-embed {\n",
       "    width: 100%;\n",
       "    display: flex;\n",
       "  }\n",
       "\n",
       "  #altair-viz-d1937aaf3275419db5915e54590d3549.vega-embed details,\n",
       "  #altair-viz-d1937aaf3275419db5915e54590d3549.vega-embed details summary {\n",
       "    position: relative;\n",
       "  }\n",
       "</style>\n",
       "<div id=\"altair-viz-d1937aaf3275419db5915e54590d3549\"></div>\n",
       "<script type=\"text/javascript\">\n",
       "  var VEGA_DEBUG = (typeof VEGA_DEBUG == \"undefined\") ? {} : VEGA_DEBUG;\n",
       "  (function(spec, embedOpt){\n",
       "    let outputDiv = document.currentScript.previousElementSibling;\n",
       "    if (outputDiv.id !== \"altair-viz-d1937aaf3275419db5915e54590d3549\") {\n",
       "      outputDiv = document.getElementById(\"altair-viz-d1937aaf3275419db5915e54590d3549\");\n",
       "    }\n",
       "\n",
       "    const paths = {\n",
       "      \"vega\": \"https://cdn.jsdelivr.net/npm/vega@5?noext\",\n",
       "      \"vega-lib\": \"https://cdn.jsdelivr.net/npm/vega-lib?noext\",\n",
       "      \"vega-lite\": \"https://cdn.jsdelivr.net/npm/vega-lite@5.20.1?noext\",\n",
       "      \"vega-embed\": \"https://cdn.jsdelivr.net/npm/vega-embed@6?noext\",\n",
       "    };\n",
       "\n",
       "    function maybeLoadScript(lib, version) {\n",
       "      var key = `${lib.replace(\"-\", \"\")}_version`;\n",
       "      return (VEGA_DEBUG[key] == version) ?\n",
       "        Promise.resolve(paths[lib]) :\n",
       "        new Promise(function(resolve, reject) {\n",
       "          var s = document.createElement('script');\n",
       "          document.getElementsByTagName(\"head\")[0].appendChild(s);\n",
       "          s.async = true;\n",
       "          s.onload = () => {\n",
       "            VEGA_DEBUG[key] = version;\n",
       "            return resolve(paths[lib]);\n",
       "          };\n",
       "          s.onerror = () => reject(`Error loading script: ${paths[lib]}`);\n",
       "          s.src = paths[lib];\n",
       "        });\n",
       "    }\n",
       "\n",
       "    function showError(err) {\n",
       "      outputDiv.innerHTML = `<div class=\"error\" style=\"color:red;\">${err}</div>`;\n",
       "      throw err;\n",
       "    }\n",
       "\n",
       "    function displayChart(vegaEmbed) {\n",
       "      vegaEmbed(outputDiv, spec, embedOpt)\n",
       "        .catch(err => showError(`Javascript Error: ${err.message}<br>This usually means there's a typo in your chart specification. See the javascript console for the full traceback.`));\n",
       "    }\n",
       "\n",
       "    if(typeof define === \"function\" && define.amd) {\n",
       "      requirejs.config({paths});\n",
       "      let deps = [\"vega-embed\"];\n",
       "      require(deps, displayChart, err => showError(`Error loading script: ${err.message}`));\n",
       "    } else {\n",
       "      maybeLoadScript(\"vega\", \"5\")\n",
       "        .then(() => maybeLoadScript(\"vega-lite\", \"5.20.1\"))\n",
       "        .then(() => maybeLoadScript(\"vega-embed\", \"6\"))\n",
       "        .catch(showError)\n",
       "        .then(() => displayChart(vegaEmbed));\n",
       "    }\n",
       "  })({\"config\": {\"view\": {\"continuousWidth\": 300, \"continuousHeight\": 300}}, \"data\": {\"name\": \"data-e177c02b27699ac458029a4032550519\"}, \"mark\": {\"type\": \"line\", \"point\": true}, \"encoding\": {\"color\": {\"field\": \"Land\", \"title\": \"State\", \"type\": \"nominal\"}, \"tooltip\": [{\"field\": \"Land\", \"type\": \"nominal\"}, {\"field\": \"Year\", \"title\": \"Year\", \"type\": \"ordinal\"}, {\"field\": \"Gini\", \"format\": \".3f\", \"type\": \"quantitative\"}], \"x\": {\"field\": \"Year\", \"title\": \"Year\", \"type\": \"ordinal\"}, \"y\": {\"field\": \"Gini\", \"title\": \"Gini Coefficient\", \"type\": \"quantitative\"}}, \"height\": 400, \"params\": [{\"name\": \"param_86\", \"select\": {\"type\": \"interval\", \"encodings\": [\"x\", \"y\"]}, \"bind\": \"scales\"}], \"title\": \"Gini Coefficient of Inj Fatal by State per Year\", \"width\": 800, \"$schema\": \"https://vega.github.io/schema/vega-lite/v5.20.1.json\", \"datasets\": {\"data-e177c02b27699ac458029a4032550519\": [{\"Year\": 2016, \"Land\": \"Schleswig-Holstein\", \"Gini\": 0.5790576970220522}, {\"Year\": 2016, \"Land\": \"Bremen\", \"Gini\": 0.9859775385254154}, {\"Year\": 2016, \"Land\": \"Hessen\", \"Gini\": 0.5315617400288042}, {\"Year\": 2016, \"Land\": \"Rheinland-Pfalz\", \"Gini\": 0.5465797766574682}, {\"Year\": 2016, \"Land\": \"Baden-W\\u00fcrttemberg\", \"Gini\": 0.47714602784237803}, {\"Year\": 2016, \"Land\": \"Bayern\", \"Gini\": 0.5254754108647501}, {\"Year\": 2016, \"Land\": \"Sachsen\", \"Gini\": 0.5448919170512837}, {\"Year\": 2017, \"Land\": \"Schleswig-Holstein\", \"Gini\": 0.5563441906628276}, {\"Year\": 2017, \"Land\": \"Niedersachsen\", \"Gini\": 0.5061823595099075}, {\"Year\": 2017, \"Land\": \"Bremen\", \"Gini\": 0.9626067694011078}, {\"Year\": 2017, \"Land\": \"Hessen\", \"Gini\": 0.533940023076676}, {\"Year\": 2017, \"Land\": \"Rheinland-Pfalz\", \"Gini\": 0.4648894753917243}, {\"Year\": 2017, \"Land\": \"Baden-W\\u00fcrttemberg\", \"Gini\": 0.47839563417935327}, {\"Year\": 2017, \"Land\": \"Bayern\", \"Gini\": 0.5254004954635236}, {\"Year\": 2017, \"Land\": \"Saarland\", \"Gini\": 0.7231630690603634}, {\"Year\": 2017, \"Land\": \"Brandenburg\", \"Gini\": 0.48209355041545576}, {\"Year\": 2017, \"Land\": \"Sachsen\", \"Gini\": 0.5487792756507757}, {\"Year\": 2017, \"Land\": \"Sachsen-Anhalt\", \"Gini\": 0.4918475933017947}, {\"Year\": 2018, \"Land\": \"Schleswig-Holstein\", \"Gini\": 0.6164482470081613}, {\"Year\": 2018, \"Land\": \"Niedersachsen\", \"Gini\": 0.5199052475582644}, {\"Year\": 2018, \"Land\": \"Bremen\", \"Gini\": 0.9831730462304985}, {\"Year\": 2018, \"Land\": \"Hessen\", \"Gini\": 0.5280392771296105}, {\"Year\": 2018, \"Land\": \"Rheinland-Pfalz\", \"Gini\": 0.4961281553794923}, {\"Year\": 2018, \"Land\": \"Baden-W\\u00fcrttemberg\", \"Gini\": 0.4333403303546153}, {\"Year\": 2018, \"Land\": \"Bayern\", \"Gini\": 0.5061519225062538}, {\"Year\": 2018, \"Land\": \"Saarland\", \"Gini\": 0.8049860657901928}, {\"Year\": 2018, \"Land\": \"Brandenburg\", \"Gini\": 0.47255874926293495}, {\"Year\": 2018, \"Land\": \"Sachsen\", \"Gini\": 0.5463199025624366}, {\"Year\": 2018, \"Land\": \"Sachsen-Anhalt\", \"Gini\": 0.4780652033286231}, {\"Year\": 2019, \"Land\": \"Schleswig-Holstein\", \"Gini\": 0.6259181510139908}, {\"Year\": 2019, \"Land\": \"Niedersachsen\", \"Gini\": 0.4935576784794552}, {\"Year\": 2019, \"Land\": \"Bremen\", \"Gini\": 0.9894831538940616}, {\"Year\": 2019, \"Land\": \"Nordrhein-Westfalen\", \"Gini\": 0.4569247633987066}, {\"Year\": 2019, \"Land\": \"Hessen\", \"Gini\": 0.5769663074021211}, {\"Year\": 2019, \"Land\": \"Rheinland-Pfalz\", \"Gini\": 0.4544356969103256}, {\"Year\": 2019, \"Land\": \"Baden-W\\u00fcrttemberg\", \"Gini\": 0.44708939283224414}, {\"Year\": 2019, \"Land\": \"Bayern\", \"Gini\": 0.55538296863692}, {\"Year\": 2019, \"Land\": \"Saarland\", \"Gini\": 0.7368370702670171}, {\"Year\": 2019, \"Land\": \"Brandenburg\", \"Gini\": 0.5060041727919022}, {\"Year\": 2019, \"Land\": \"Sachsen\", \"Gini\": 0.538597628765085}, {\"Year\": 2019, \"Land\": \"Sachsen-Anhalt\", \"Gini\": 0.4690290380523101}, {\"Year\": 2019, \"Land\": \"Th\\u00fcringen\", \"Gini\": 0.48751643828448055}, {\"Year\": 2020, \"Land\": \"Schleswig-Holstein\", \"Gini\": 0.5470980656689541}, {\"Year\": 2020, \"Land\": \"Niedersachsen\", \"Gini\": 0.4712740572190244}, {\"Year\": 2020, \"Land\": \"Bremen\", \"Gini\": 0.9789663077881231}, {\"Year\": 2020, \"Land\": \"Nordrhein-Westfalen\", \"Gini\": 0.4487920320098088}, {\"Year\": 2020, \"Land\": \"Hessen\", \"Gini\": 0.5326292271386985}, {\"Year\": 2020, \"Land\": \"Rheinland-Pfalz\", \"Gini\": 0.543905123826506}, {\"Year\": 2020, \"Land\": \"Baden-W\\u00fcrttemberg\", \"Gini\": 0.45447032132176224}, {\"Year\": 2020, \"Land\": \"Bayern\", \"Gini\": 0.5765082567459804}, {\"Year\": 2020, \"Land\": \"Saarland\", \"Gini\": 0.6726902733691509}, {\"Year\": 2020, \"Land\": \"Brandenburg\", \"Gini\": 0.4632636635876597}, {\"Year\": 2020, \"Land\": \"Mecklenburg-Vorpommern\", \"Gini\": 0.5500564559437093}, {\"Year\": 2020, \"Land\": \"Sachsen\", \"Gini\": 0.5659418394444083}, {\"Year\": 2020, \"Land\": \"Sachsen-Anhalt\", \"Gini\": 0.4863135982618694}, {\"Year\": 2020, \"Land\": \"Th\\u00fcringen\", \"Gini\": 0.5488860172588533}, {\"Year\": 2021, \"Land\": \"Schleswig-Holstein\", \"Gini\": 0.5246258676193473}, {\"Year\": 2021, \"Land\": \"Niedersachsen\", \"Gini\": 0.4553670668787717}, {\"Year\": 2021, \"Land\": \"Bremen\", \"Gini\": 1.0}, {\"Year\": 2021, \"Land\": \"Hessen\", \"Gini\": 0.5480712947597342}, {\"Year\": 2021, \"Land\": \"Rheinland-Pfalz\", \"Gini\": 0.5318348577179841}, {\"Year\": 2021, \"Land\": \"Baden-W\\u00fcrttemberg\", \"Gini\": 0.45403513098491055}, {\"Year\": 2021, \"Land\": \"Bayern\", \"Gini\": 0.5446430274594154}, {\"Year\": 2021, \"Land\": \"Saarland\", \"Gini\": 0.7646088503172266}, {\"Year\": 2021, \"Land\": \"Brandenburg\", \"Gini\": 0.4650809071991231}, {\"Year\": 2021, \"Land\": \"Mecklenburg-Vorpommern\", \"Gini\": 0.47134100031793646}, {\"Year\": 2021, \"Land\": \"Sachsen\", \"Gini\": 0.5265069817612964}, {\"Year\": 2021, \"Land\": \"Sachsen-Anhalt\", \"Gini\": 0.45731290917419276}, {\"Year\": 2021, \"Land\": \"Th\\u00fcringen\", \"Gini\": 0.5631916856117891}, {\"Year\": 2022, \"Land\": \"Schleswig-Holstein\", \"Gini\": 0.6001080323637219}, {\"Year\": 2022, \"Land\": \"Niedersachsen\", \"Gini\": 0.4633033593445224}, {\"Year\": 2022, \"Land\": \"Bremen\", \"Gini\": 0.9813033847005539}, {\"Year\": 2022, \"Land\": \"Nordrhein-Westfalen\", \"Gini\": 0.43834084636572146}, {\"Year\": 2022, \"Land\": \"Hessen\", \"Gini\": 0.5104953111223323}, {\"Year\": 2022, \"Land\": \"Rheinland-Pfalz\", \"Gini\": 0.48093206183751425}, {\"Year\": 2022, \"Land\": \"Baden-W\\u00fcrttemberg\", \"Gini\": 0.46825284060832106}, {\"Year\": 2022, \"Land\": \"Bayern\", \"Gini\": 0.5470551516446024}, {\"Year\": 2022, \"Land\": \"Saarland\", \"Gini\": 0.7263929917150249}, {\"Year\": 2022, \"Land\": \"Brandenburg\", \"Gini\": 0.45847777088245234}, {\"Year\": 2022, \"Land\": \"Mecklenburg-Vorpommern\", \"Gini\": 0.5736661576969704}, {\"Year\": 2022, \"Land\": \"Sachsen\", \"Gini\": 0.5631821819043914}, {\"Year\": 2022, \"Land\": \"Sachsen-Anhalt\", \"Gini\": 0.5115410428032947}, {\"Year\": 2022, \"Land\": \"Th\\u00fcringen\", \"Gini\": 0.5224823814605573}, {\"Year\": 2023, \"Land\": \"Schleswig-Holstein\", \"Gini\": 0.5871676670775194}, {\"Year\": 2023, \"Land\": \"Niedersachsen\", \"Gini\": 0.5029683441547499}, {\"Year\": 2023, \"Land\": \"Bremen\", \"Gini\": 0.9923513846502265}, {\"Year\": 2023, \"Land\": \"Nordrhein-Westfalen\", \"Gini\": 0.4555938995031654}, {\"Year\": 2023, \"Land\": \"Hessen\", \"Gini\": 0.543509691678727}, {\"Year\": 2023, \"Land\": \"Rheinland-Pfalz\", \"Gini\": 0.5063524125721367}, {\"Year\": 2023, \"Land\": \"Baden-W\\u00fcrttemberg\", \"Gini\": 0.5227970343913779}, {\"Year\": 2023, \"Land\": \"Bayern\", \"Gini\": 0.5298917532821371}, {\"Year\": 2023, \"Land\": \"Saarland\", \"Gini\": 0.7378766978194186}, {\"Year\": 2023, \"Land\": \"Brandenburg\", \"Gini\": 0.44003655770422645}, {\"Year\": 2023, \"Land\": \"Mecklenburg-Vorpommern\", \"Gini\": 0.53471499825315}, {\"Year\": 2023, \"Land\": \"Sachsen\", \"Gini\": 0.5367132233734564}, {\"Year\": 2023, \"Land\": \"Sachsen-Anhalt\", \"Gini\": 0.519510813912252}, {\"Year\": 2023, \"Land\": \"Th\\u00fcringen\", \"Gini\": 0.5374752046664066}, {\"Year\": 2024, \"Land\": \"Schleswig-Holstein\", \"Gini\": 0.6347298202950009}, {\"Year\": 2024, \"Land\": \"Niedersachsen\", \"Gini\": 0.4645054119168759}, {\"Year\": 2024, \"Land\": \"Bremen\", \"Gini\": 0.9915865231152492}, {\"Year\": 2024, \"Land\": \"Nordrhein-Westfalen\", \"Gini\": 0.45430939554457084}, {\"Year\": 2024, \"Land\": \"Hessen\", \"Gini\": 0.5016902993034797}, {\"Year\": 2024, \"Land\": \"Rheinland-Pfalz\", \"Gini\": 0.4956302155726875}, {\"Year\": 2024, \"Land\": \"Baden-W\\u00fcrttemberg\", \"Gini\": 0.4996627767042129}, {\"Year\": 2024, \"Land\": \"Bayern\", \"Gini\": 0.5927061714167894}, {\"Year\": 2024, \"Land\": \"Saarland\", \"Gini\": 0.7783593736534344}, {\"Year\": 2024, \"Land\": \"Brandenburg\", \"Gini\": 0.4328589040166463}, {\"Year\": 2024, \"Land\": \"Mecklenburg-Vorpommern\", \"Gini\": 0.5186664931488175}, {\"Year\": 2024, \"Land\": \"Sachsen\", \"Gini\": 0.5784876823357271}, {\"Year\": 2024, \"Land\": \"Sachsen-Anhalt\", \"Gini\": 0.457099144569745}, {\"Year\": 2024, \"Land\": \"Th\\u00fcringen\", \"Gini\": 0.5116930559396027}]}}, {\"mode\": \"vega-lite\"});\n",
       "</script>"
      ],
      "text/plain": [
       "alt.Chart(...)"
      ]
     },
     "metadata": {},
     "output_type": "display_data"
    }
   ],
   "source": [
    "title = \" \".join(val_label.split(\"_\")).title() if \"_\" in val_label else val_label\n",
    "\n",
    "chart = (\n",
    "    alt.Chart(df_gini)\n",
    "    .mark_line(point=True)\n",
    "    .encode(\n",
    "        x=alt.X(\"Year:O\", title=\"Year\"),\n",
    "        y=alt.Y(\"Gini:Q\", title=\"Gini Coefficient\"),\n",
    "        color=alt.Color(\"Land:N\", title=\"State\"),\n",
    "        tooltip=[\n",
    "            \"Land\",\n",
    "            alt.Tooltip(\"Year:O\", title=\"Year\"),\n",
    "            alt.Tooltip(\"Gini:Q\", format=\".3f\"),\n",
    "        ],\n",
    "    )\n",
    "    .properties(\n",
    "        title=f\"Gini Coefficient of {title} by State per Year\",\n",
    "        width=800,\n",
    "        height=400,\n",
    "    )\n",
    "    .interactive()\n",
    ")\n",
    "\n",
    "chart.save(\n",
    "    os.path.join(\"img\", f\"gini_index-{title.replace(' ', '_').lower()}_land.png\")\n",
    ")\n",
    "chart.show()"
   ]
  }
 ],
 "metadata": {
  "kernelspec": {
   "display_name": ".envs",
   "language": "python",
   "name": "python3"
  },
  "language_info": {
   "codemirror_mode": {
    "name": "ipython",
    "version": 3
   },
   "file_extension": ".py",
   "mimetype": "text/x-python",
   "name": "python",
   "nbconvert_exporter": "python",
   "pygments_lexer": "ipython3",
   "version": "3.13.5"
  }
 },
 "nbformat": 4,
 "nbformat_minor": 5
}
