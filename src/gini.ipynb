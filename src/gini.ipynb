{
 "cells": [
  {
   "cell_type": "markdown",
   "id": "ffa4bc62",
   "metadata": {},
   "source": [
    "# Gini\n"
   ]
  },
  {
   "cell_type": "code",
   "execution_count": 387,
   "id": "7b814a77",
   "metadata": {},
   "outputs": [
    {
     "name": "stdout",
     "output_type": "stream",
     "text": [
      "The autoreload extension is already loaded. To reload it, use:\n",
      "  %reload_ext autoreload\n"
     ]
    }
   ],
   "source": [
    "%load_ext autoreload\n",
    "%autoreload 2\n",
    "import altair as alt\n",
    "import fetch_data as fd\n",
    "import pandas as pd\n",
    "import numpy as np\n",
    "import os\n",
    "\n",
    "SHOULD_LOG = False"
   ]
  },
  {
   "cell_type": "code",
   "execution_count": 388,
   "id": "451b282f",
   "metadata": {},
   "outputs": [
    {
     "data": {
      "application/vnd.microsoft.datawrangler.viewer.v0+json": {
       "columns": [
        {
         "name": "index",
         "rawType": "int64",
         "type": "integer"
        },
        {
         "name": "regional key",
         "rawType": "object",
         "type": "string"
        },
        {
         "name": "city",
         "rawType": "object",
         "type": "string"
        },
        {
         "name": "sq km",
         "rawType": "float64",
         "type": "float"
        },
        {
         "name": "population",
         "rawType": "int64",
         "type": "integer"
        }
       ],
       "ref": "1536bb2e-2cb2-42c9-bd6a-6f96728e9827",
       "rows": [
        [
         "0",
         "11000000",
         "Berlin",
         "891.12",
         "3685265"
        ],
        [
         "1",
         "02000000",
         "Hamburg",
         "755.09",
         "1862565"
        ],
        [
         "2",
         "09162000",
         "München",
         "310.7",
         "1505005"
        ],
        [
         "3",
         "05315000",
         "Köln",
         "405.02",
         "1024621"
        ],
        [
         "4",
         "06412000",
         "Frankfurt am Main",
         "248.31",
         "756021"
        ]
       ],
       "shape": {
        "columns": 4,
        "rows": 5
       }
      },
      "text/html": [
       "<div>\n",
       "<style scoped>\n",
       "    .dataframe tbody tr th:only-of-type {\n",
       "        vertical-align: middle;\n",
       "    }\n",
       "\n",
       "    .dataframe tbody tr th {\n",
       "        vertical-align: top;\n",
       "    }\n",
       "\n",
       "    .dataframe thead th {\n",
       "        text-align: right;\n",
       "    }\n",
       "</style>\n",
       "<table border=\"1\" class=\"dataframe\">\n",
       "  <thead>\n",
       "    <tr style=\"text-align: right;\">\n",
       "      <th></th>\n",
       "      <th>regional key</th>\n",
       "      <th>city</th>\n",
       "      <th>sq km</th>\n",
       "      <th>population</th>\n",
       "    </tr>\n",
       "  </thead>\n",
       "  <tbody>\n",
       "    <tr>\n",
       "      <th>0</th>\n",
       "      <td>11000000</td>\n",
       "      <td>Berlin</td>\n",
       "      <td>891.12</td>\n",
       "      <td>3685265</td>\n",
       "    </tr>\n",
       "    <tr>\n",
       "      <th>1</th>\n",
       "      <td>02000000</td>\n",
       "      <td>Hamburg</td>\n",
       "      <td>755.09</td>\n",
       "      <td>1862565</td>\n",
       "    </tr>\n",
       "    <tr>\n",
       "      <th>2</th>\n",
       "      <td>09162000</td>\n",
       "      <td>München</td>\n",
       "      <td>310.70</td>\n",
       "      <td>1505005</td>\n",
       "    </tr>\n",
       "    <tr>\n",
       "      <th>3</th>\n",
       "      <td>05315000</td>\n",
       "      <td>Köln</td>\n",
       "      <td>405.02</td>\n",
       "      <td>1024621</td>\n",
       "    </tr>\n",
       "    <tr>\n",
       "      <th>4</th>\n",
       "      <td>06412000</td>\n",
       "      <td>Frankfurt am Main</td>\n",
       "      <td>248.31</td>\n",
       "      <td>756021</td>\n",
       "    </tr>\n",
       "  </tbody>\n",
       "</table>\n",
       "</div>"
      ],
      "text/plain": [
       "  regional key               city   sq km  population\n",
       "0     11000000             Berlin  891.12     3685265\n",
       "1     02000000            Hamburg  755.09     1862565\n",
       "2     09162000            München  310.70     1505005\n",
       "3     05315000               Köln  405.02     1024621\n",
       "4     06412000  Frankfurt am Main  248.31      756021"
      ]
     },
     "execution_count": 388,
     "metadata": {},
     "output_type": "execute_result"
    }
   ],
   "source": [
    "city_info = fd.get_city_info()\n",
    "city_info.head()"
   ]
  },
  {
   "cell_type": "code",
   "execution_count": 389,
   "id": "9a128b0e",
   "metadata": {},
   "outputs": [],
   "source": [
    "YEARS = [i for i in range(2016, 2025)]\n",
    "df_dict = fd.get_dfs(YEARS)\n",
    "df = pd.concat(df_dict.values(), ignore_index=True)"
   ]
  },
  {
   "cell_type": "markdown",
   "id": "8a6bb874",
   "metadata": {},
   "source": [
    "## Data Cleaning\n"
   ]
  },
  {
   "cell_type": "markdown",
   "id": "c18106bc",
   "metadata": {},
   "source": [
    "Severity of accidents.\n"
   ]
  },
  {
   "cell_type": "code",
   "execution_count": 390,
   "id": "f244aef9",
   "metadata": {},
   "outputs": [],
   "source": [
    "df = pd.get_dummies(df, columns=[\"UKATEGORIE\"], prefix=\"inj\", dtype=int)\n",
    "df.rename(\n",
    "    columns={\n",
    "        \"inj_3\": \"inj_light\",\n",
    "        \"inj_2\": \"inj_serious\",\n",
    "        \"inj_1\": \"inj_fatal\",\n",
    "    },\n",
    "    inplace=True,\n",
    ")"
   ]
  },
  {
   "cell_type": "markdown",
   "id": "c99b617c",
   "metadata": {},
   "source": [
    "Group on the `Community_key` (city) and `UJAHR` (year). Additionally, aggregate metrics we care about.\n"
   ]
  },
  {
   "cell_type": "code",
   "execution_count": 391,
   "id": "bf376bca",
   "metadata": {},
   "outputs": [],
   "source": [
    "agg_methods = {\n",
    "    \"inj_light\": \"sum\",\n",
    "    \"inj_serious\": \"sum\",\n",
    "    \"inj_fatal\": \"sum\",\n",
    "    \"IstFuss\": \"sum\",\n",
    "    \"IstRad\": \"sum\",\n",
    "    \"IstKrad\": \"sum\",\n",
    "    \"ULAND\": \"first\",\n",
    "}\n",
    "\n",
    "\n",
    "df_grouped = df.groupby([\"Community_key\", \"UJAHR\"]).agg(agg_methods).reset_index()"
   ]
  },
  {
   "cell_type": "markdown",
   "id": "b61ecd4f",
   "metadata": {},
   "source": [
    "Perform an inner join on `\"regional key\"` with `df_grouped` and `city_info`.\n"
   ]
  },
  {
   "cell_type": "code",
   "execution_count": 392,
   "id": "83eebfe5",
   "metadata": {},
   "outputs": [],
   "source": [
    "df_grouped.rename(columns={\"Community_key\": \"regional key\"}, inplace=True)\n",
    "df_merged = df_grouped.merge(city_info, on=\"regional key\", how=\"inner\")"
   ]
  },
  {
   "cell_type": "markdown",
   "id": "df73cdb5",
   "metadata": {},
   "source": [
    "Calculate some metrics we care about.\n"
   ]
  },
  {
   "cell_type": "code",
   "execution_count": 393,
   "id": "79b355e5",
   "metadata": {},
   "outputs": [],
   "source": [
    "# Calculate the total personal injury accidents\n",
    "df_merged[\"inj_total\"] = (\n",
    "    df_merged[\"inj_light\"] + df_merged[\"inj_serious\"] + df_merged[\"inj_fatal\"]\n",
    ")"
   ]
  },
  {
   "cell_type": "code",
   "execution_count": 394,
   "id": "5c8f15b6",
   "metadata": {},
   "outputs": [
    {
     "data": {
      "application/vnd.microsoft.datawrangler.viewer.v0+json": {
       "columns": [
        {
         "name": "index",
         "rawType": "int64",
         "type": "integer"
        },
        {
         "name": "regional key",
         "rawType": "object",
         "type": "string"
        },
        {
         "name": "UJAHR",
         "rawType": "int64",
         "type": "integer"
        },
        {
         "name": "inj_light",
         "rawType": "int64",
         "type": "integer"
        },
        {
         "name": "inj_serious",
         "rawType": "int64",
         "type": "integer"
        },
        {
         "name": "inj_fatal",
         "rawType": "int64",
         "type": "integer"
        },
        {
         "name": "IstFuss",
         "rawType": "int64",
         "type": "integer"
        },
        {
         "name": "IstRad",
         "rawType": "int64",
         "type": "integer"
        },
        {
         "name": "IstKrad",
         "rawType": "int64",
         "type": "integer"
        },
        {
         "name": "ULAND",
         "rawType": "object",
         "type": "string"
        },
        {
         "name": "city",
         "rawType": "object",
         "type": "string"
        },
        {
         "name": "sq km",
         "rawType": "float64",
         "type": "float"
        },
        {
         "name": "population",
         "rawType": "int64",
         "type": "integer"
        },
        {
         "name": "inj_total",
         "rawType": "int64",
         "type": "integer"
        }
       ],
       "ref": "c2a8d8e3-c02c-43d6-a743-895e95f5b889",
       "rows": [
        [
         "8",
         "01001000",
         "2024",
         "325",
         "22",
         "2",
         "34",
         "151",
         "29",
         "01",
         "Flensburg",
         "56.73",
         "96326",
         "349"
        ],
        [
         "17",
         "01002000",
         "2024",
         "930",
         "93",
         "4",
         "102",
         "514",
         "68",
         "01",
         "Kiel",
         "118.65",
         "252668",
         "1027"
        ],
        [
         "26",
         "01003000",
         "2024",
         "1008",
         "109",
         "1",
         "104",
         "611",
         "93",
         "01",
         "Lübeck",
         "214.19",
         "216889",
         "1118"
        ],
        [
         "35",
         "01004000",
         "2024",
         "329",
         "33",
         "0",
         "32",
         "136",
         "28",
         "01",
         "Neumünster",
         "71.66",
         "79809",
         "362"
        ],
        [
         "44",
         "01051011",
         "2024",
         "51",
         "9",
         "0",
         "5",
         "25",
         "10",
         "01",
         "Brunsbüttel",
         "65.21",
         "12692",
         "60"
        ]
       ],
       "shape": {
        "columns": 13,
        "rows": 5
       }
      },
      "text/html": [
       "<div>\n",
       "<style scoped>\n",
       "    .dataframe tbody tr th:only-of-type {\n",
       "        vertical-align: middle;\n",
       "    }\n",
       "\n",
       "    .dataframe tbody tr th {\n",
       "        vertical-align: top;\n",
       "    }\n",
       "\n",
       "    .dataframe thead th {\n",
       "        text-align: right;\n",
       "    }\n",
       "</style>\n",
       "<table border=\"1\" class=\"dataframe\">\n",
       "  <thead>\n",
       "    <tr style=\"text-align: right;\">\n",
       "      <th></th>\n",
       "      <th>regional key</th>\n",
       "      <th>UJAHR</th>\n",
       "      <th>inj_light</th>\n",
       "      <th>inj_serious</th>\n",
       "      <th>inj_fatal</th>\n",
       "      <th>IstFuss</th>\n",
       "      <th>IstRad</th>\n",
       "      <th>IstKrad</th>\n",
       "      <th>ULAND</th>\n",
       "      <th>city</th>\n",
       "      <th>sq km</th>\n",
       "      <th>population</th>\n",
       "      <th>inj_total</th>\n",
       "    </tr>\n",
       "  </thead>\n",
       "  <tbody>\n",
       "    <tr>\n",
       "      <th>8</th>\n",
       "      <td>01001000</td>\n",
       "      <td>2024</td>\n",
       "      <td>325</td>\n",
       "      <td>22</td>\n",
       "      <td>2</td>\n",
       "      <td>34</td>\n",
       "      <td>151</td>\n",
       "      <td>29</td>\n",
       "      <td>01</td>\n",
       "      <td>Flensburg</td>\n",
       "      <td>56.73</td>\n",
       "      <td>96326</td>\n",
       "      <td>349</td>\n",
       "    </tr>\n",
       "    <tr>\n",
       "      <th>17</th>\n",
       "      <td>01002000</td>\n",
       "      <td>2024</td>\n",
       "      <td>930</td>\n",
       "      <td>93</td>\n",
       "      <td>4</td>\n",
       "      <td>102</td>\n",
       "      <td>514</td>\n",
       "      <td>68</td>\n",
       "      <td>01</td>\n",
       "      <td>Kiel</td>\n",
       "      <td>118.65</td>\n",
       "      <td>252668</td>\n",
       "      <td>1027</td>\n",
       "    </tr>\n",
       "    <tr>\n",
       "      <th>26</th>\n",
       "      <td>01003000</td>\n",
       "      <td>2024</td>\n",
       "      <td>1008</td>\n",
       "      <td>109</td>\n",
       "      <td>1</td>\n",
       "      <td>104</td>\n",
       "      <td>611</td>\n",
       "      <td>93</td>\n",
       "      <td>01</td>\n",
       "      <td>Lübeck</td>\n",
       "      <td>214.19</td>\n",
       "      <td>216889</td>\n",
       "      <td>1118</td>\n",
       "    </tr>\n",
       "    <tr>\n",
       "      <th>35</th>\n",
       "      <td>01004000</td>\n",
       "      <td>2024</td>\n",
       "      <td>329</td>\n",
       "      <td>33</td>\n",
       "      <td>0</td>\n",
       "      <td>32</td>\n",
       "      <td>136</td>\n",
       "      <td>28</td>\n",
       "      <td>01</td>\n",
       "      <td>Neumünster</td>\n",
       "      <td>71.66</td>\n",
       "      <td>79809</td>\n",
       "      <td>362</td>\n",
       "    </tr>\n",
       "    <tr>\n",
       "      <th>44</th>\n",
       "      <td>01051011</td>\n",
       "      <td>2024</td>\n",
       "      <td>51</td>\n",
       "      <td>9</td>\n",
       "      <td>0</td>\n",
       "      <td>5</td>\n",
       "      <td>25</td>\n",
       "      <td>10</td>\n",
       "      <td>01</td>\n",
       "      <td>Brunsbüttel</td>\n",
       "      <td>65.21</td>\n",
       "      <td>12692</td>\n",
       "      <td>60</td>\n",
       "    </tr>\n",
       "  </tbody>\n",
       "</table>\n",
       "</div>"
      ],
      "text/plain": [
       "   regional key  UJAHR  inj_light  inj_serious  inj_fatal  IstFuss  IstRad  \\\n",
       "8      01001000   2024        325           22          2       34     151   \n",
       "17     01002000   2024        930           93          4      102     514   \n",
       "26     01003000   2024       1008          109          1      104     611   \n",
       "35     01004000   2024        329           33          0       32     136   \n",
       "44     01051011   2024         51            9          0        5      25   \n",
       "\n",
       "    IstKrad ULAND         city   sq km  population  inj_total  \n",
       "8        29    01    Flensburg   56.73       96326        349  \n",
       "17       68    01         Kiel  118.65      252668       1027  \n",
       "26       93    01       Lübeck  214.19      216889       1118  \n",
       "35       28    01   Neumünster   71.66       79809        362  \n",
       "44       10    01  Brunsbüttel   65.21       12692         60  "
      ]
     },
     "execution_count": 394,
     "metadata": {},
     "output_type": "execute_result"
    }
   ],
   "source": [
    "df_merged[df_merged[\"UJAHR\"] == 2024].head()"
   ]
  },
  {
   "cell_type": "code",
   "execution_count": 395,
   "id": "fff11c3a",
   "metadata": {},
   "outputs": [
    {
     "data": {
      "application/vnd.microsoft.datawrangler.viewer.v0+json": {
       "columns": [
        {
         "name": "index",
         "rawType": "object",
         "type": "string"
        },
        {
         "name": "UJAHR",
         "rawType": "float64",
         "type": "float"
        },
        {
         "name": "inj_light",
         "rawType": "float64",
         "type": "float"
        },
        {
         "name": "inj_serious",
         "rawType": "float64",
         "type": "float"
        },
        {
         "name": "inj_fatal",
         "rawType": "float64",
         "type": "float"
        },
        {
         "name": "IstFuss",
         "rawType": "float64",
         "type": "float"
        },
        {
         "name": "IstRad",
         "rawType": "float64",
         "type": "float"
        },
        {
         "name": "IstKrad",
         "rawType": "float64",
         "type": "float"
        },
        {
         "name": "sq km",
         "rawType": "float64",
         "type": "float"
        },
        {
         "name": "population",
         "rawType": "float64",
         "type": "float"
        },
        {
         "name": "inj_total",
         "rawType": "float64",
         "type": "float"
        }
       ],
       "ref": "314efcf8-c439-4671-b470-4d718b4fc801",
       "rows": [
        [
         "count",
         "2050.0",
         "2050.0",
         "2050.0",
         "2050.0",
         "2050.0",
         "2050.0",
         "2050.0",
         "2050.0",
         "2050.0",
         "2050.0"
        ],
        [
         "mean",
         "2024.0",
         "84.53560975609756",
         "13.824390243902439",
         "0.6936585365853658",
         "10.487317073170733",
         "34.47707317073171",
         "12.174146341463414",
         "73.50181463414634",
         "29984.648292682927",
         "99.05365853658536"
        ],
        [
         "std",
         "0.0",
         "349.70744511604113",
         "46.972889081694916",
         "1.799031456924587",
         "53.79432375311184",
         "154.44271173045504",
         "51.19927684181192",
         "63.03993912563036",
         "113074.50893615013",
         "397.13057801793286"
        ],
        [
         "min",
         "2024.0",
         "0.0",
         "0.0",
         "0.0",
         "0.0",
         "0.0",
         "0.0",
         "2.71",
         "447.0",
         "1.0"
        ],
        [
         "25%",
         "2024.0",
         "12.0",
         "3.0",
         "0.0",
         "1.0",
         "3.0",
         "3.0",
         "32.645",
         "6264.25",
         "17.0"
        ],
        [
         "50%",
         "2024.0",
         "29.0",
         "7.0",
         "0.0",
         "3.0",
         "9.0",
         "6.0",
         "59.885000000000005",
         "12752.5",
         "37.0"
        ],
        [
         "75%",
         "2024.0",
         "65.0",
         "13.0",
         "1.0",
         "7.0",
         "26.0",
         "11.0",
         "93.60499999999999",
         "25174.5",
         "80.0"
        ],
        [
         "max",
         "2024.0",
         "10739.0",
         "1641.0",
         "48.0",
         "1712.0",
         "4452.0",
         "1929.0",
         "891.12",
         "3685265.0",
         "12428.0"
        ]
       ],
       "shape": {
        "columns": 10,
        "rows": 8
       }
      },
      "text/html": [
       "<div>\n",
       "<style scoped>\n",
       "    .dataframe tbody tr th:only-of-type {\n",
       "        vertical-align: middle;\n",
       "    }\n",
       "\n",
       "    .dataframe tbody tr th {\n",
       "        vertical-align: top;\n",
       "    }\n",
       "\n",
       "    .dataframe thead th {\n",
       "        text-align: right;\n",
       "    }\n",
       "</style>\n",
       "<table border=\"1\" class=\"dataframe\">\n",
       "  <thead>\n",
       "    <tr style=\"text-align: right;\">\n",
       "      <th></th>\n",
       "      <th>UJAHR</th>\n",
       "      <th>inj_light</th>\n",
       "      <th>inj_serious</th>\n",
       "      <th>inj_fatal</th>\n",
       "      <th>IstFuss</th>\n",
       "      <th>IstRad</th>\n",
       "      <th>IstKrad</th>\n",
       "      <th>sq km</th>\n",
       "      <th>population</th>\n",
       "      <th>inj_total</th>\n",
       "    </tr>\n",
       "  </thead>\n",
       "  <tbody>\n",
       "    <tr>\n",
       "      <th>count</th>\n",
       "      <td>2050.0</td>\n",
       "      <td>2050.000000</td>\n",
       "      <td>2050.000000</td>\n",
       "      <td>2050.000000</td>\n",
       "      <td>2050.000000</td>\n",
       "      <td>2050.000000</td>\n",
       "      <td>2050.000000</td>\n",
       "      <td>2050.000000</td>\n",
       "      <td>2.050000e+03</td>\n",
       "      <td>2050.000000</td>\n",
       "    </tr>\n",
       "    <tr>\n",
       "      <th>mean</th>\n",
       "      <td>2024.0</td>\n",
       "      <td>84.535610</td>\n",
       "      <td>13.824390</td>\n",
       "      <td>0.693659</td>\n",
       "      <td>10.487317</td>\n",
       "      <td>34.477073</td>\n",
       "      <td>12.174146</td>\n",
       "      <td>73.501815</td>\n",
       "      <td>2.998465e+04</td>\n",
       "      <td>99.053659</td>\n",
       "    </tr>\n",
       "    <tr>\n",
       "      <th>std</th>\n",
       "      <td>0.0</td>\n",
       "      <td>349.707445</td>\n",
       "      <td>46.972889</td>\n",
       "      <td>1.799031</td>\n",
       "      <td>53.794324</td>\n",
       "      <td>154.442712</td>\n",
       "      <td>51.199277</td>\n",
       "      <td>63.039939</td>\n",
       "      <td>1.130745e+05</td>\n",
       "      <td>397.130578</td>\n",
       "    </tr>\n",
       "    <tr>\n",
       "      <th>min</th>\n",
       "      <td>2024.0</td>\n",
       "      <td>0.000000</td>\n",
       "      <td>0.000000</td>\n",
       "      <td>0.000000</td>\n",
       "      <td>0.000000</td>\n",
       "      <td>0.000000</td>\n",
       "      <td>0.000000</td>\n",
       "      <td>2.710000</td>\n",
       "      <td>4.470000e+02</td>\n",
       "      <td>1.000000</td>\n",
       "    </tr>\n",
       "    <tr>\n",
       "      <th>25%</th>\n",
       "      <td>2024.0</td>\n",
       "      <td>12.000000</td>\n",
       "      <td>3.000000</td>\n",
       "      <td>0.000000</td>\n",
       "      <td>1.000000</td>\n",
       "      <td>3.000000</td>\n",
       "      <td>3.000000</td>\n",
       "      <td>32.645000</td>\n",
       "      <td>6.264250e+03</td>\n",
       "      <td>17.000000</td>\n",
       "    </tr>\n",
       "    <tr>\n",
       "      <th>50%</th>\n",
       "      <td>2024.0</td>\n",
       "      <td>29.000000</td>\n",
       "      <td>7.000000</td>\n",
       "      <td>0.000000</td>\n",
       "      <td>3.000000</td>\n",
       "      <td>9.000000</td>\n",
       "      <td>6.000000</td>\n",
       "      <td>59.885000</td>\n",
       "      <td>1.275250e+04</td>\n",
       "      <td>37.000000</td>\n",
       "    </tr>\n",
       "    <tr>\n",
       "      <th>75%</th>\n",
       "      <td>2024.0</td>\n",
       "      <td>65.000000</td>\n",
       "      <td>13.000000</td>\n",
       "      <td>1.000000</td>\n",
       "      <td>7.000000</td>\n",
       "      <td>26.000000</td>\n",
       "      <td>11.000000</td>\n",
       "      <td>93.605000</td>\n",
       "      <td>2.517450e+04</td>\n",
       "      <td>80.000000</td>\n",
       "    </tr>\n",
       "    <tr>\n",
       "      <th>max</th>\n",
       "      <td>2024.0</td>\n",
       "      <td>10739.000000</td>\n",
       "      <td>1641.000000</td>\n",
       "      <td>48.000000</td>\n",
       "      <td>1712.000000</td>\n",
       "      <td>4452.000000</td>\n",
       "      <td>1929.000000</td>\n",
       "      <td>891.120000</td>\n",
       "      <td>3.685265e+06</td>\n",
       "      <td>12428.000000</td>\n",
       "    </tr>\n",
       "  </tbody>\n",
       "</table>\n",
       "</div>"
      ],
      "text/plain": [
       "        UJAHR     inj_light  inj_serious    inj_fatal      IstFuss  \\\n",
       "count  2050.0   2050.000000  2050.000000  2050.000000  2050.000000   \n",
       "mean   2024.0     84.535610    13.824390     0.693659    10.487317   \n",
       "std       0.0    349.707445    46.972889     1.799031    53.794324   \n",
       "min    2024.0      0.000000     0.000000     0.000000     0.000000   \n",
       "25%    2024.0     12.000000     3.000000     0.000000     1.000000   \n",
       "50%    2024.0     29.000000     7.000000     0.000000     3.000000   \n",
       "75%    2024.0     65.000000    13.000000     1.000000     7.000000   \n",
       "max    2024.0  10739.000000  1641.000000    48.000000  1712.000000   \n",
       "\n",
       "            IstRad      IstKrad        sq km    population     inj_total  \n",
       "count  2050.000000  2050.000000  2050.000000  2.050000e+03   2050.000000  \n",
       "mean     34.477073    12.174146    73.501815  2.998465e+04     99.053659  \n",
       "std     154.442712    51.199277    63.039939  1.130745e+05    397.130578  \n",
       "min       0.000000     0.000000     2.710000  4.470000e+02      1.000000  \n",
       "25%       3.000000     3.000000    32.645000  6.264250e+03     17.000000  \n",
       "50%       9.000000     6.000000    59.885000  1.275250e+04     37.000000  \n",
       "75%      26.000000    11.000000    93.605000  2.517450e+04     80.000000  \n",
       "max    4452.000000  1929.000000   891.120000  3.685265e+06  12428.000000  "
      ]
     },
     "execution_count": 395,
     "metadata": {},
     "output_type": "execute_result"
    }
   ],
   "source": [
    "df_merged[df_merged[\"UJAHR\"] == 2024].describe()"
   ]
  },
  {
   "cell_type": "markdown",
   "id": "1b41ee82",
   "metadata": {},
   "source": [
    "## Gini\n",
    "\n",
    "We calculate the Gini index. Normally, the Gini index is used as a measure for wealth disparity. Here, we seek to use it as a metric to inform about the relative share of fatalities between cities. In this context, a Gini coefficient of 0 would mean that fatalities are equally distributed between cities while a Gini coefficient of 1 would mean that the fatalities are are concentrated in one city.\n"
   ]
  },
  {
   "cell_type": "code",
   "execution_count": 482,
   "id": "e0a600fd",
   "metadata": {},
   "outputs": [],
   "source": [
    "pop_label = \"population\"\n",
    "val_label = \"IstRad\""
   ]
  },
  {
   "cell_type": "code",
   "execution_count": 483,
   "id": "dd489a95",
   "metadata": {},
   "outputs": [],
   "source": [
    "# Gini Calculation Lifted from Lucas. Retrieved from:\n",
    "# https://gitlab.com/ComputationalScience/overdose-da\n",
    "def calc_gini(\n",
    "    df: pd.DataFrame, pop_label: str = pop_label, val_label: str = val_label\n",
    ") -> float:\n",
    "    df_sorted = df.sort_values(pop_label, ascending=True)\n",
    "    pop = df_sorted[pop_label].sum()\n",
    "    val = df_sorted[val_label].sum()\n",
    "\n",
    "    gini = 1 - 2 * np.trapezoid(\n",
    "        x=[df_sorted[:i][pop_label].sum() / pop for i in range(1 + len(df_sorted))],\n",
    "        y=[df_sorted[:i][val_label].sum() / val for i in range(1 + len(df_sorted))],\n",
    "    )\n",
    "\n",
    "    # NOTE: We take the absolute value to avoid negative gini index due to shifting\n",
    "    # distributions of values. This doesn't change the interpretation of the gini index.\n",
    "    return abs(gini)"
   ]
  },
  {
   "cell_type": "code",
   "execution_count": 484,
   "id": "f436022f",
   "metadata": {},
   "outputs": [],
   "source": [
    "def plot_lorenz_curve(\n",
    "    df: pd.DataFrame, year: int, pop_label: str = pop_label, val_label: str = val_label\n",
    ") -> None:\n",
    "    \"\"\"Plot the Lorenz curve for the given DataFrame.\"\"\"\n",
    "    df_sorted = df.sort_values(by=pop_label, ascending=True)\n",
    "    pop = df_sorted[pop_label].sum()\n",
    "    val = df_sorted[val_label].sum()\n",
    "\n",
    "    X = [df_sorted[:i][pop_label].sum() / pop for i in range(1 + len(df_sorted))]\n",
    "    Y = [df_sorted[:i][val_label].sum() / val for i in range(1 + len(df_sorted))]\n",
    "\n",
    "    lorenz = (\n",
    "        alt.Chart(pd.DataFrame({\"X\": X, \"Y\": Y}))\n",
    "        .mark_line(point=True)\n",
    "        .encode(\n",
    "            x=\"X\",\n",
    "            y=\"Y\",\n",
    "            tooltip=[\"X\", \"Y\"],\n",
    "        )\n",
    "        .properties(\n",
    "            title=f\"Lorenz Curve for Gini Index of {val_label.replace('_', ' ').title()} ({year})\",\n",
    "            width=600,\n",
    "            height=600,\n",
    "        )\n",
    "        .interactive()\n",
    "    )\n",
    "\n",
    "    line = (\n",
    "        alt.Chart(pd.DataFrame({\"X\": [0, 1], \"Y\": [0, 1]}))\n",
    "        .mark_line(color=\"red\", strokeDash=[5, 5])\n",
    "        .encode(x=\"X\", y=\"Y\")\n",
    "    )\n",
    "\n",
    "    (lorenz + line).show()"
   ]
  },
  {
   "cell_type": "markdown",
   "id": "9955e6a8",
   "metadata": {},
   "source": [
    "### Gini of Germany\n"
   ]
  },
  {
   "cell_type": "code",
   "execution_count": 485,
   "id": "41951e06",
   "metadata": {},
   "outputs": [],
   "source": [
    "gini_arr: list[float] = []\n",
    "\n",
    "for year in YEARS:\n",
    "    df_yr = df_merged[df_merged[\"UJAHR\"] == year][[\"city\", pop_label, val_label]]\n",
    "\n",
    "    if SHOULD_LOG:\n",
    "        pop = df_yr.sort_values(pop_label, ascending=False)[pop_label].sum()\n",
    "        val = df_yr.sort_values(pop_label, ascending=False)[val_label].sum()\n",
    "\n",
    "        print(f\"Year {year}:\")\n",
    "        print(f\"  {pop_label}: {pop:,},\")\n",
    "        print(f\"  {val_label}: {val:,}\")\n",
    "\n",
    "    gini = calc_gini(df_yr)\n",
    "    gini_arr.append(gini)"
   ]
  },
  {
   "cell_type": "code",
   "execution_count": 486,
   "id": "426793d5",
   "metadata": {},
   "outputs": [
    {
     "data": {
      "text/html": [
       "\n",
       "<style>\n",
       "  #altair-viz-7bae918877654adf80ab57ad34e3779e.vega-embed {\n",
       "    width: 100%;\n",
       "    display: flex;\n",
       "  }\n",
       "\n",
       "  #altair-viz-7bae918877654adf80ab57ad34e3779e.vega-embed details,\n",
       "  #altair-viz-7bae918877654adf80ab57ad34e3779e.vega-embed details summary {\n",
       "    position: relative;\n",
       "  }\n",
       "</style>\n",
       "<div id=\"altair-viz-7bae918877654adf80ab57ad34e3779e\"></div>\n",
       "<script type=\"text/javascript\">\n",
       "  var VEGA_DEBUG = (typeof VEGA_DEBUG == \"undefined\") ? {} : VEGA_DEBUG;\n",
       "  (function(spec, embedOpt){\n",
       "    let outputDiv = document.currentScript.previousElementSibling;\n",
       "    if (outputDiv.id !== \"altair-viz-7bae918877654adf80ab57ad34e3779e\") {\n",
       "      outputDiv = document.getElementById(\"altair-viz-7bae918877654adf80ab57ad34e3779e\");\n",
       "    }\n",
       "\n",
       "    const paths = {\n",
       "      \"vega\": \"https://cdn.jsdelivr.net/npm/vega@5?noext\",\n",
       "      \"vega-lib\": \"https://cdn.jsdelivr.net/npm/vega-lib?noext\",\n",
       "      \"vega-lite\": \"https://cdn.jsdelivr.net/npm/vega-lite@5.20.1?noext\",\n",
       "      \"vega-embed\": \"https://cdn.jsdelivr.net/npm/vega-embed@6?noext\",\n",
       "    };\n",
       "\n",
       "    function maybeLoadScript(lib, version) {\n",
       "      var key = `${lib.replace(\"-\", \"\")}_version`;\n",
       "      return (VEGA_DEBUG[key] == version) ?\n",
       "        Promise.resolve(paths[lib]) :\n",
       "        new Promise(function(resolve, reject) {\n",
       "          var s = document.createElement('script');\n",
       "          document.getElementsByTagName(\"head\")[0].appendChild(s);\n",
       "          s.async = true;\n",
       "          s.onload = () => {\n",
       "            VEGA_DEBUG[key] = version;\n",
       "            return resolve(paths[lib]);\n",
       "          };\n",
       "          s.onerror = () => reject(`Error loading script: ${paths[lib]}`);\n",
       "          s.src = paths[lib];\n",
       "        });\n",
       "    }\n",
       "\n",
       "    function showError(err) {\n",
       "      outputDiv.innerHTML = `<div class=\"error\" style=\"color:red;\">${err}</div>`;\n",
       "      throw err;\n",
       "    }\n",
       "\n",
       "    function displayChart(vegaEmbed) {\n",
       "      vegaEmbed(outputDiv, spec, embedOpt)\n",
       "        .catch(err => showError(`Javascript Error: ${err.message}<br>This usually means there's a typo in your chart specification. See the javascript console for the full traceback.`));\n",
       "    }\n",
       "\n",
       "    if(typeof define === \"function\" && define.amd) {\n",
       "      requirejs.config({paths});\n",
       "      let deps = [\"vega-embed\"];\n",
       "      require(deps, displayChart, err => showError(`Error loading script: ${err.message}`));\n",
       "    } else {\n",
       "      maybeLoadScript(\"vega\", \"5\")\n",
       "        .then(() => maybeLoadScript(\"vega-lite\", \"5.20.1\"))\n",
       "        .then(() => maybeLoadScript(\"vega-embed\", \"6\"))\n",
       "        .catch(showError)\n",
       "        .then(() => displayChart(vegaEmbed));\n",
       "    }\n",
       "  })({\"config\": {\"view\": {\"continuousWidth\": 300, \"continuousHeight\": 300}}, \"layer\": [{\"data\": {\"name\": \"data-d80facdd47fe762455150bf2561ed1ae\"}, \"mark\": {\"type\": \"line\", \"point\": true}, \"encoding\": {\"tooltip\": [{\"field\": \"X\", \"type\": \"quantitative\"}, {\"field\": \"Y\", \"type\": \"quantitative\"}], \"x\": {\"field\": \"X\", \"type\": \"quantitative\"}, \"y\": {\"field\": \"Y\", \"type\": \"quantitative\"}}, \"name\": \"view_175\", \"title\": \"Lorenz Curve for Gini Index of Istrad (2024)\"}, {\"data\": {\"name\": \"data-17c951caf5cc960ba72d40507d192801\"}, \"mark\": {\"type\": \"line\", \"color\": \"red\", \"strokeDash\": [5, 5]}, \"encoding\": {\"x\": {\"field\": \"X\", \"type\": \"quantitative\"}, \"y\": {\"field\": \"Y\", \"type\": \"quantitative\"}}}], \"height\": 600, \"params\": [{\"name\": \"param_311\", \"select\": {\"type\": \"interval\", \"encodings\": [\"x\", \"y\"]}, \"bind\": \"scales\", \"views\": [\"view_175\"]}], \"width\": 600, \"$schema\": \"https://vega.github.io/schema/vega-lite/v5.20.1.json\", \"datasets\": {\"data-d80facdd47fe762455150bf2561ed1ae\": [{\"X\": 0.0, \"Y\": 0.0}, {\"X\": 7.272013943915918e-06, \"Y\": 0.0}, {\"X\": 1.745608716291226e-05, \"Y\": 2.8297348538441947e-05}, {\"X\": 3.0275655368294238e-05, \"Y\": 2.8297348538441947e-05}, {\"X\": 4.322537147423847e-05, \"Y\": 4.2446022807662924e-05}, {\"X\": 5.7362687172813264e-05, \"Y\": 4.2446022807662924e-05}, {\"X\": 7.198805749849651e-05, \"Y\": 4.2446022807662924e-05}, {\"X\": 8.726416732699102e-05, \"Y\": 7.074337134610486e-05}, {\"X\": 0.00010289818388203173, \"Y\": 8.489204561532585e-05}, {\"X\": 0.0001189226441387592, \"Y\": 8.489204561532585e-05}, {\"X\": 0.00013551650146044654, \"Y\": 8.489204561532585e-05}, {\"X\": 0.00015258214492167203, \"Y\": 8.489204561532585e-05}, {\"X\": 0.00016990808418402203, \"Y\": 8.489204561532585e-05}, {\"X\": 0.00018749431924749654, \"Y\": 8.489204561532585e-05}, {\"X\": 0.00020516189674882248, \"Y\": 8.489204561532585e-05}, {\"X\": 0.00022403334233034924, \"Y\": 8.489204561532585e-05}, {\"X\": 0.00024366940682767925, \"Y\": 8.489204561532585e-05}, {\"X\": 0.00026358203561370404, \"Y\": 9.904071988454682e-05}, {\"X\": 0.0002838851081014156, \"Y\": 0.00014148674269220973}, {\"X\": 0.00030457862429081393, \"Y\": 0.00014148674269220973}, {\"X\": 0.0003257439266197504, \"Y\": 0.00014148674269220973}, {\"X\": 0.000347608773914209, \"Y\": 0.00014148674269220973}, {\"X\": 0.0003696851115470813, \"Y\": 0.00014148674269220973}, {\"X\": 0.0003919729395183672, \"Y\": 0.0001556354169614307}, {\"X\": 0.00041430957295236396, \"Y\": 0.0001556354169614307}, {\"X\": 0.00043682515974963383, \"Y\": 0.00018393276549987265}, {\"X\": 0.00045938955200961455, \"Y\": 0.00021223011403831462}, {\"X\": 0.0004821979715831495, \"Y\": 0.00021223011403831462}, {\"X\": 0.0005055269827589334, \"Y\": 0.00021223011403831462}, {\"X\": 0.0005298483716765045, \"Y\": 0.00022637878830753557}, {\"X\": 0.0005542348345443568, \"Y\": 0.0002688248111151985}, {\"X\": 0.000578849056238193, \"Y\": 0.0002688248111151985}, {\"X\": 0.0006038699901212863, \"Y\": 0.0003254195081920824}, {\"X\": 0.0006294928580444799, \"Y\": 0.0003254195081920824}, {\"X\": 0.0006553922902563684, \"Y\": 0.0003678655309997453}, {\"X\": 0.0006813730649061082, \"Y\": 0.0003820142052689663}, {\"X\": 0.0007074514504812699, \"Y\": 0.0003820142052689663}, {\"X\": 0.0007342781864846644, \"Y\": 0.0003820142052689663}, {\"X\": 0.0007612676073637618, \"Y\": 0.0003820142052689663}, {\"X\": 0.000788257028242859, \"Y\": 0.00039616287953818727}, {\"X\": 0.0008155880873609323, \"Y\": 0.00041031155380740825}, {\"X\": 0.0008429354149665758, \"Y\": 0.00045275757661507115}, {\"X\": 0.0008707057232490466, \"Y\": 0.00045275757661507115}, {\"X\": 0.000898557373969369, \"Y\": 0.000523500947961176}, {\"X\": 0.0009265391725902535, \"Y\": 0.000551798296499618}, {\"X\": 0.0009549927573506762, \"Y\": 0.0005659469707688389}, {\"X\": 0.000983983202200918, \"Y\": 0.00058009564503806}, {\"X\": 0.001013364090752847, \"Y\": 0.00058009564503806}, {\"X\": 0.0010428588587177675, \"Y\": 0.0006366903421149439}, {\"X\": 0.0010724837745832506, \"Y\": 0.0006366903421149439}, {\"X\": 0.0011024503286877095, \"Y\": 0.0006366903421149439}, {\"X\": 0.0011324982252300198, \"Y\": 0.0006508390163841648}, {\"X\": 0.0011627413436231734, \"Y\": 0.0006649876906533857}, {\"X\": 0.0011930169989914675, \"Y\": 0.0006649876906533857}, {\"X\": 0.0012239596623501434, \"Y\": 0.0006932850391918277}, {\"X\": 0.001255178889997514, \"Y\": 0.0006932850391918277}, {\"X\": 0.001286479460082736, \"Y\": 0.0006932850391918277}, {\"X\": 0.0013178613726058093, \"Y\": 0.0006932850391918277}, {\"X\": 0.001349942830094405, \"Y\": 0.0006932850391918277}, {\"X\": 0.0013820242875830003, \"Y\": 0.0007074337134610487}, {\"X\": 0.0014142521614597284, \"Y\": 0.0007074337134610487}, {\"X\": 0.001446626451724589, \"Y\": 0.0007215823877302697}, {\"X\": 0.0014790983529148712, \"Y\": 0.0007357310619994906}, {\"X\": 0.001511651596543005, \"Y\": 0.0007498797362687116}, {\"X\": 0.001544692894798247, \"Y\": 0.0007498797362687116}, {\"X\": 0.0015778480724664811, \"Y\": 0.0007781770848071536}, {\"X\": 0.001611214740473129, \"Y\": 0.0007781770848071536}, {\"X\": 0.0016447440933554794, \"Y\": 0.0007923257590763745}, {\"X\": 0.0016787777693525088, \"Y\": 0.0007923257590763745}, {\"X\": 0.0017130229356879518, \"Y\": 0.0007923257590763745}, {\"X\": 0.0017479839154764872, \"Y\": 0.0007923257590763745}, {\"X\": 0.0017829774322401632, \"Y\": 0.0008913664789609214}, {\"X\": 0.0018182149763173933, \"Y\": 0.0008913664789609214}, {\"X\": 0.0018535175943449045, \"Y\": 0.0009055151532301423}, {\"X\": 0.001888999165735689, \"Y\": 0.0009338125017685843}, {\"X\": 0.001924757301415168, \"Y\": 0.0009621098503070262}, {\"X\": 0.0019605154370946473, \"Y\": 0.0009762585245762472}, {\"X\": 0.0019964362576498293, \"Y\": 0.000990407198845468}, {\"X\": 0.002032405883667722, \"Y\": 0.0010045558731146891}, {\"X\": 0.00206868461094945, \"Y\": 0.0010045558731146891}, {\"X\": 0.0021053700504204353, \"Y\": 0.0010187045473839102}, {\"X\": 0.0021422832487174048, \"Y\": 0.001061150570191573}, {\"X\": 0.002179261520964655, \"Y\": 0.001061150570191573}, {\"X\": 0.002216467552037889, \"Y\": 0.001061150570191573}, {\"X\": 0.002254340591101505, \"Y\": 0.001089447918730015}, {\"X\": 0.002292278704115402, \"Y\": 0.001103596592999236}, {\"X\": 0.002330412038980142, \"Y\": 0.001117745267268457}, {\"X\": 0.0023685453738448827, \"Y\": 0.001117745267268457}, {\"X\": 0.0024067112456847635, \"Y\": 0.001117745267268457}, {\"X\": 0.002444974728450066, \"Y\": 0.0011318939415376778}, {\"X\": 0.0024833683591159307, \"Y\": 0.0011460426158068989}, {\"X\": 0.0025218921376823577, \"Y\": 0.0012026373128837828}, {\"X\": 0.0025605623326369173, \"Y\": 0.0012167859871530038}, {\"X\": 0.002599248796079047, \"Y\": 0.0012309346614222247}, {\"X\": 0.00263811421288445, \"Y\": 0.0012592320099606667}, {\"X\": 0.002677142314565556, \"Y\": 0.0012875293584991086}, {\"X\": 0.0027163981750726457, \"Y\": 0.0013158267070375507}, {\"X\": 0.002755963136843571, \"Y\": 0.0013441240555759925}, {\"X\": 0.002795576904077207, \"Y\": 0.0013724214041144344}, {\"X\": 0.002835564846524959, \"Y\": 0.0014007187526528765}, {\"X\": 0.002876089649062531, \"Y\": 0.0014007187526528765}, {\"X\": 0.0029168259419385164, \"Y\": 0.0014148674269220975}, {\"X\": 0.002957594771789642, \"Y\": 0.0014148674269220975}, {\"X\": 0.0029984286755910493, \"Y\": 0.0014148674269220975}, {\"X\": 0.003039295116367597, \"Y\": 0.0014290161011913183}, {\"X\": 0.0030802103626068555, \"Y\": 0.0014431647754605394}, {\"X\": 0.003121272025234246, \"Y\": 0.0014997594725374233}, {\"X\": 0.003162366224836778, \"Y\": 0.0015139081468066443}, {\"X\": 0.0032037695257031446, \"Y\": 0.001570502843883528}, {\"X\": 0.003245368048420355, \"Y\": 0.001584651518152749}, {\"X\": 0.003286982839625136, \"Y\": 0.001584651518152749}, {\"X\": 0.0033286138993174866, \"Y\": 0.001584651518152749}, {\"X\": 0.0033703100329601186, \"Y\": 0.0015988001924219701}, {\"X\": 0.0034120549720654614, \"Y\": 0.001612948866691191}, {\"X\": 0.0034539300590713663, \"Y\": 0.001612948866691191}, {\"X\": 0.003496813792306629, \"Y\": 0.001627097540960412}, {\"X\": 0.003539941552855446, \"Y\": 0.001641246215229633}, {\"X\": 0.003583150655842114, \"Y\": 0.001655394889498854}, {\"X\": 0.0036263760273163525, \"Y\": 0.001697840912306517}, {\"X\": 0.003669715278203583, \"Y\": 0.0017119895865757378}, {\"X\": 0.003713103334553524, \"Y\": 0.0017544356093834009}, {\"X\": 0.0037570770564559954, \"Y\": 0.0017685842836526217}, {\"X\": 0.003801457490547724, \"Y\": 0.0017827329579218427}, {\"X\": 0.0038465212011174043, \"Y\": 0.0017827329579218427}, {\"X\": 0.003891780133537928, \"Y\": 0.0017827329579218427}, {\"X\": 0.0039371204083963034, \"Y\": 0.0017968816321910638}, {\"X\": 0.00398257456266767, \"Y\": 0.0018251789807295056}, {\"X\": 0.004028386623665584, \"Y\": 0.0018676250035371685}, {\"X\": 0.0040742637586137775, \"Y\": 0.0018959223520756106}, {\"X\": 0.004120498800288518, \"Y\": 0.0018959223520756106}, {\"X\": 0.004166815184401111, \"Y\": 0.0019242197006140525}, {\"X\": 0.004213294253389405, \"Y\": 0.0019242197006140525}, {\"X\": 0.004259887201790692, \"Y\": 0.001980814397690936}, {\"X\": 0.004306480150191978, \"Y\": 0.0020091117462293783}, {\"X\": 0.0043530893670808354, \"Y\": 0.0020091117462293783}, {\"X\": 0.004399942611283247, \"Y\": 0.0020091117462293783}, {\"X\": 0.004446795855485659, \"Y\": 0.0020515577690370414}, {\"X\": 0.004493958200951905, \"Y\": 0.0020657064433062624}, {\"X\": 0.004541169351880862, \"Y\": 0.002094003791844704}, {\"X\": 0.004588510650710382, \"Y\": 0.002108152466113925}, {\"X\": 0.004636030902903175, \"Y\": 0.002164747163190809}, {\"X\": 0.0046837789139219516, \"Y\": 0.002235490534536914}, {\"X\": 0.004731543193428299, \"Y\": 0.002249639208806135}, {\"X\": 0.004779323741422216, \"Y\": 0.0022920852316137977}, {\"X\": 0.004827136826391274, \"Y\": 0.00232038258015224}, {\"X\": 0.0048751288647236055, \"Y\": 0.002334531254421461}, {\"X\": 0.0049236577631457555, \"Y\": 0.002334531254421461}, {\"X\": 0.004972235467030617, \"Y\": 0.002348679928690682}, {\"X\": 0.005020861976378189, \"Y\": 0.0023769772772291235}, {\"X\": 0.005069537291188472, \"Y\": 0.0024052746257675656}, {\"X\": 0.005118326485411746, \"Y\": 0.0024052746257675656}, {\"X\": 0.005167164485097732, \"Y\": 0.0024052746257675656}, {\"X\": 0.005216083827221569, \"Y\": 0.0024194233000367866}, {\"X\": 0.005265279733634101, \"Y\": 0.0024194233000367866}, {\"X\": 0.0053146057879471945, \"Y\": 0.0024335719743060077}, {\"X\": 0.005363964379235429, \"Y\": 0.0024335719743060077}, {\"X\": 0.005413355507498805, \"Y\": 0.0024760179971136703}, {\"X\": 0.005462958126100594, \"Y\": 0.0024901666713828914}, {\"X\": 0.005512837308991077, \"Y\": 0.0025184640199213335}, {\"X\": 0.005562749028856701, \"Y\": 0.0025184640199213335}, {\"X\": 0.005612725822672607, \"Y\": 0.0025184640199213335}, {\"X\": 0.005662767690438794, \"Y\": 0.0025184640199213335}, {\"X\": 0.005713053585518534, \"Y\": 0.0026316534140751013}, {\"X\": 0.005763355749085845, \"Y\": 0.0026316534140751013}, {\"X\": 0.0058137717920661485, \"Y\": 0.0026316534140751013}, {\"X\": 0.005864187835046451, \"Y\": 0.002702396785421206}, {\"X\": 0.005914652683489465, \"Y\": 0.002702396785421206}, {\"X\": 0.0059652151428579, \"Y\": 0.0027448428082288688}, {\"X\": 0.006015826407689047, \"Y\": 0.002773140156767311}, {\"X\": 0.006066535283445615, \"Y\": 0.002815586179574974}, {\"X\": 0.006117292964664894, \"Y\": 0.002829734853844195}, {\"X\": 0.006168083182859313, \"Y\": 0.0029004782251902997}, {\"X\": 0.006219052354417006, \"Y\": 0.002928775573728742}, {\"X\": 0.00627011913690012, \"Y\": 0.0029570729222671835}, {\"X\": 0.006321364872746507, \"Y\": 0.0030561136421517303}, {\"X\": 0.006372724488005886, \"Y\": 0.0030702623164209513}, {\"X\": 0.006424474546966953, \"Y\": 0.003141005687767056}, {\"X\": 0.006476468633241573, \"Y\": 0.003183451710574719}, {\"X\": 0.0065286416728794665, \"Y\": 0.003225897733382382}, {\"X\": 0.006581026202855773, \"Y\": 0.003254195081920824}, {\"X\": 0.006633671028633205, \"Y\": 0.0033249384532669287}, {\"X\": 0.006686624955674472, \"Y\": 0.0033249384532669287}, {\"X\": 0.006739578882715739, \"Y\": 0.0033249384532669287}, {\"X\": 0.006792549078244576, \"Y\": 0.0033390871275361497}, {\"X\": 0.006845519273773413, \"Y\": 0.003367384476074592}, {\"X\": 0.006898570811740102, \"Y\": 0.003395681824613034}, {\"X\": 0.006951785034582493, \"Y\": 0.0034522765216899176}, {\"X\": 0.007005178210788158, \"Y\": 0.0034805738702283597}, {\"X\": 0.007058929293720369, \"Y\": 0.0034947225444975807}, {\"X\": 0.007112761719090431, \"Y\": 0.0035230198930360224}, {\"X\": 0.007166756829336196, \"Y\": 0.0035230198930360224}, {\"X\": 0.007220833282019812, \"Y\": 0.0035513172415744644}, {\"X\": 0.007274909734703429, \"Y\": 0.0035796145901129065}, {\"X\": 0.0073292952886508805, \"Y\": 0.0035796145901129065}, {\"X\": 0.0073836971110859025, \"Y\": 0.003622060612920569}, {\"X\": 0.007438131470496065, \"Y\": 0.003791844704151221}, {\"X\": 0.007492923736632773, \"Y\": 0.003820142052689663}, {\"X\": 0.007547797345207333, \"Y\": 0.003862588075497326}, {\"X\": 0.007602719759244605, \"Y\": 0.003862588075497326}, {\"X\": 0.007657674710257016, \"Y\": 0.003876736749766547}, {\"X\": 0.007712889957070553, \"Y\": 0.003890885424035768}, {\"X\": 0.007768235351784651, \"Y\": 0.0039050340983049887}, {\"X\": 0.007823759699862022, \"Y\": 0.003961628795381872}, {\"X\": 0.007879349121889674, \"Y\": 0.0039899261439203144}, {\"X\": 0.007935182571230881, \"Y\": 0.004004074818189536}, {\"X\": 0.007991325121835924, \"Y\": 0.004004074818189536}, {\"X\": 0.008047483940928536, \"Y\": 0.004032372166727978}, {\"X\": 0.00810370783397143, \"Y\": 0.004060669515266419}, {\"X\": 0.008159947995501893, \"Y\": 0.004088966863804861}, {\"X\": 0.008216236962495068, \"Y\": 0.004131412886612525}, {\"X\": 0.008272672345876374, \"Y\": 0.004188007583689408}, {\"X\": 0.008329319219596096, \"Y\": 0.004230453606497072}, {\"X\": 0.008386454147942925, \"Y\": 0.004272899629304734}, {\"X\": 0.008443621613264896, \"Y\": 0.004272899629304734}, {\"X\": 0.008500837884049576, \"Y\": 0.004301196977843176}, {\"X\": 0.008558363256098092, \"Y\": 0.00435779167492006}, {\"X\": 0.00861598623907203, \"Y\": 0.004386089023458502}, {\"X\": 0.008673625490533538, \"Y\": 0.004442683720535386}, {\"X\": 0.008731411158383178, \"Y\": 0.0044568323948046065}, {\"X\": 0.008789440853546373, \"Y\": 0.004570021788958375}, {\"X\": 0.008847470548709569, \"Y\": 0.004584170463227595}, {\"X\": 0.008905662928748465, \"Y\": 0.004669062508842922}, {\"X\": 0.00896419694702634, \"Y\": 0.0047681032287274685}, {\"X\": 0.009022861113204775, \"Y\": 0.004782251902996689}, {\"X\": 0.009081525279383211, \"Y\": 0.004782251902996689}, {\"X\": 0.009140238251024358, \"Y\": 0.004782251902996689}, {\"X\": 0.009199048833590925, \"Y\": 0.004838846600073573}, {\"X\": 0.009257859416157494, \"Y\": 0.004867143948612015}, {\"X\": 0.009316800146624624, \"Y\": 0.004923738645688899}, {\"X\": 0.009375871024992318, \"Y\": 0.004923738645688899}, {\"X\": 0.009435088319748142, \"Y\": 0.00493788731995812}, {\"X\": 0.009494370688454249, \"Y\": 0.004980333342765783}, {\"X\": 0.009553734399598208, \"Y\": 0.004994482017035004}, {\"X\": 0.009613130647717306, \"Y\": 0.005065225388381109}, {\"X\": 0.009673014950463512, \"Y\": 0.005065225388381109}, {\"X\": 0.009733387307836829, \"Y\": 0.005093522736919551}, {\"X\": 0.009794036229498839, \"Y\": 0.005164266108265656}, {\"X\": 0.009854945446961973, \"Y\": 0.0052067121310733185}, {\"X\": 0.009916147497201372, \"Y\": 0.0052350094796117606}, {\"X\": 0.009977463426853765, \"Y\": 0.0053623475480347495}, {\"X\": 0.01003895830986943, \"Y\": 0.005390644896573191}, {\"X\": 0.010100664683223508, \"Y\": 0.005433090919380854}, {\"X\": 0.010162533741453289, \"Y\": 0.005475536942188517}, {\"X\": 0.010224500410608493, \"Y\": 0.0054896856164577375}, {\"X\": 0.010286613496151828, \"Y\": 0.005503834290726959}, {\"X\": 0.010348807924133015, \"Y\": 0.005503834290726959}, {\"X\": 0.010411018620601772, \"Y\": 0.00551798296499618}, {\"X\": 0.01047329439102081, \"Y\": 0.005532131639265401}, {\"X\": 0.010535814188753403, \"Y\": 0.005560428987803843}, {\"X\": 0.010598643087749831, \"Y\": 0.005588726336342284}, {\"X\": 0.010661764819522523, \"Y\": 0.0056453210334191685}, {\"X\": 0.010725163115583912, \"Y\": 0.005687767056226831}, {\"X\": 0.010788724096521003, \"Y\": 0.005701915730496053}, {\"X\": 0.010852529104771646, \"Y\": 0.005716064404765273}, {\"X\": 0.010916382918485002, \"Y\": 0.005744361753303715}, {\"X\": 0.010980497027999482, \"Y\": 0.005744361753303715}, {\"X\": 0.011044627406001532, \"Y\": 0.0058009564503805995}, {\"X\": 0.011109197033167982, \"Y\": 0.0058292537989190416}, {\"X\": 0.011174157104036115, \"Y\": 0.005914145844534367}, {\"X\": 0.01123914971187939, \"Y\": 0.0059565918673420305}, {\"X\": 0.011304760522250337, \"Y\": 0.005999037890149693}, {\"X\": 0.011370566554472127, \"Y\": 0.006013186564418914}, {\"X\": 0.011436405123669056, \"Y\": 0.006126375958572682}, {\"X\": 0.011502292498328697, \"Y\": 0.006126375958572682}, {\"X\": 0.011568196141475908, \"Y\": 0.006140524632841903}, {\"X\": 0.01163411605311069, \"Y\": 0.006140524632841903}, {\"X\": 0.011700263723571455, \"Y\": 0.006154673307111124}, {\"X\": 0.011766964522609611, \"Y\": 0.006168821981380345}, {\"X\": 0.011833811738035898, \"Y\": 0.0062395653527264495}, {\"X\": 0.011900724027412466, \"Y\": 0.006522538838110869}, {\"X\": 0.011968059297465862, \"Y\": 0.006522538838110869}, {\"X\": 0.012035427104494399, \"Y\": 0.006550836186649311}, {\"X\": 0.012102843716985646, \"Y\": 0.006564984860918532}, {\"X\": 0.012170423014352597, \"Y\": 0.006564984860918532}, {\"X\": 0.012238099922644968, \"Y\": 0.006579133535187753}, {\"X\": 0.012305906978837903, \"Y\": 0.006593282209456974}, {\"X\": 0.012373990599319531, \"Y\": 0.006607430883726195}, {\"X\": 0.012442139293751441, \"Y\": 0.006635728232264637}, {\"X\": 0.012510287988183351, \"Y\": 0.006664025580803079}, {\"X\": 0.012578534293540684, \"Y\": 0.0066781742550722995}, {\"X\": 0.012647138505624562, \"Y\": 0.006692322929341521}, {\"X\": 0.01271580779165872, \"Y\": 0.006748917626418404}, {\"X\": 0.012784639762568582, \"Y\": 0.006763066300687626}, {\"X\": 0.012853618149866576, \"Y\": 0.006777214974956846}, {\"X\": 0.012922889369940837, \"Y\": 0.0068338096720337305}, {\"X\": 0.012992274469428087, \"Y\": 0.0068338096720337305}, {\"X\": 0.013061871059253752, \"Y\": 0.006876255694841393}, {\"X\": 0.013131500186054558, \"Y\": 0.006932850391918277}, {\"X\": 0.013201291997731067, \"Y\": 0.006932850391918277}, {\"X\": 0.013271181420332998, \"Y\": 0.006946999066187498}, {\"X\": 0.013341087111422498, \"Y\": 0.007003593763264382}, {\"X\": 0.013411057876462278, \"Y\": 0.007102634483148929}, {\"X\": 0.01348104490998963, \"Y\": 0.0071450805059565916}, {\"X\": 0.013551064480492123, \"Y\": 0.0071450805059565916}, {\"X\": 0.013621149124944897, \"Y\": 0.007201675203033476}, {\"X\": 0.013691347648810663, \"Y\": 0.00725826990011036}, {\"X\": 0.013761643783601849, \"Y\": 0.0073007159229180225}, {\"X\": 0.013832004992343317, \"Y\": 0.00769687880245621}, {\"X\": 0.01390265903386105, \"Y\": 0.00769687880245621}, {\"X\": 0.01397357337117991, \"Y\": 0.007725176150994652}, {\"X\": 0.014044617856399329, \"Y\": 0.007753473499533094}, {\"X\": 0.01411569487859389, \"Y\": 0.007753473499533094}, {\"X\": 0.014186836974738732, \"Y\": 0.007795919522340757}, {\"X\": 0.014258076681808996, \"Y\": 0.007824216870879199}, {\"X\": 0.014329836980481507, \"Y\": 0.00783836554514842}, {\"X\": 0.014401629816129162, \"Y\": 0.007866662893686862}, {\"X\": 0.014473552799677377, \"Y\": 0.007923257590763745}, {\"X\": 0.014545671005076435, \"Y\": 0.007951554939302188}, {\"X\": 0.014617789210475494, \"Y\": 0.008008149636379072}, {\"X\": 0.014690037563775115, \"Y\": 0.008022298310648292}, {\"X\": 0.014762448601950438, \"Y\": 0.008050595659186734}, {\"X\": 0.014834859640125762, \"Y\": 0.008064744333455956}, {\"X\": 0.014907303215276228, \"Y\": 0.008078893007725177}, {\"X\": 0.014979909475302394, \"Y\": 0.008093041681994397}, {\"X\": 0.015052532003816132, \"Y\": 0.008107190356263618}, {\"X\": 0.015125317217205572, \"Y\": 0.008107190356263618}, {\"X\": 0.015198102430595013, \"Y\": 0.008121339030532838}, {\"X\": 0.015271099134322867, \"Y\": 0.008206231076148165}, {\"X\": 0.01534409583805072, \"Y\": 0.008206231076148165}, {\"X\": 0.015417173884216425, \"Y\": 0.008220379750417386}, {\"X\": 0.01549126057661149, \"Y\": 0.008234528424686607}, {\"X\": 0.015565461148419543, \"Y\": 0.008305271796032711}, {\"X\": 0.01563967798871517, \"Y\": 0.008333569144571154}, {\"X\": 0.015713959902961074, \"Y\": 0.008347717818840375}, {\"X\": 0.01578837196510754, \"Y\": 0.008347717818840375}, {\"X\": 0.01586288163817943, \"Y\": 0.008376015167378816}, {\"X\": 0.015937440116714035, \"Y\": 0.008376015167378816}, {\"X\": 0.016011998595248635, \"Y\": 0.00841846119018648}, {\"X\": 0.01608663841622109, \"Y\": 0.0084326098644557}, {\"X\": 0.016161489727531952, \"Y\": 0.008460907212994143}, {\"X\": 0.016236682677081796, \"Y\": 0.008489204561532585}, {\"X\": 0.01631192443209435, \"Y\": 0.008503353235801805}, {\"X\": 0.016387442751395597, \"Y\": 0.008517501910071026}, {\"X\": 0.016463107487084978, \"Y\": 0.00855994793287869}, {\"X\": 0.01653899998160034, \"Y\": 0.008630691304224794}, {\"X\": 0.0166150063555287, \"Y\": 0.008687286001301678}, {\"X\": 0.016691207951307897, \"Y\": 0.008758029372647783}, {\"X\": 0.016767409547087095, \"Y\": 0.008814624069724667}, {\"X\": 0.016843790096229567, \"Y\": 0.008842921418263108}, {\"X\": 0.016920382135710454, \"Y\": 0.008871218766801551}, {\"X\": 0.01699744596133088, \"Y\": 0.008899516115339992}, {\"X\": 0.017074672471827007, \"Y\": 0.008927813463878435}, {\"X\": 0.017152029130223696, \"Y\": 0.00901270550949376}, {\"X\": 0.017229385788620384, \"Y\": 0.00901270550949376}, {\"X\": 0.01730695393735549, \"Y\": 0.009055151532301423}, {\"X\": 0.01738453835457816, \"Y\": 0.009182489600724411}, {\"X\": 0.017462171577263545, \"Y\": 0.009224935623532075}, {\"X\": 0.017540000021799774, \"Y\": 0.009239084297801296}, {\"X\": 0.01761786100331114, \"Y\": 0.0093098276691474}, {\"X\": 0.01769580332726036, \"Y\": 0.009323976343416623}, {\"X\": 0.017774087289448556, \"Y\": 0.009338125017685843}, {\"X\": 0.017852403788611894, \"Y\": 0.009352273691955064}, {\"X\": 0.017930720287775228, \"Y\": 0.00943716573757039}, {\"X\": 0.018009053055426136, \"Y\": 0.009493760434647273}, {\"X\": 0.01808743462853975, \"Y\": 0.009507909108916494}, {\"X\": 0.018166157839892345, \"Y\": 0.009564503805993378}, {\"X\": 0.018244897319732507, \"Y\": 0.009592801154531821}, {\"X\": 0.018323880826886227, \"Y\": 0.009677693200147146}, {\"X\": 0.018402896871015085, \"Y\": 0.009748436571493251}, {\"X\": 0.018482091868507217, \"Y\": 0.009762585245762472}, {\"X\": 0.01856128686599935, \"Y\": 0.009819179942839356}, {\"X\": 0.018640856038705595, \"Y\": 0.009833328617108577}, {\"X\": 0.018720555359312406, \"Y\": 0.009847477291377797}, {\"X\": 0.018800352290844636, \"Y\": 0.00987577463991624}, {\"X\": 0.01888014922237687, \"Y\": 0.009918220662723902}, {\"X\": 0.01895996242239667, \"Y\": 0.009946518011262345}, {\"X\": 0.019039808159391613, \"Y\": 0.009988964034070008}, {\"X\": 0.019119686433361698, \"Y\": 0.01003141005687767}, {\"X\": 0.01919962978128206, \"Y\": 0.01004555873114689}, {\"X\": 0.019279605666177566, \"Y\": 0.010102153428223775}, {\"X\": 0.019359711698973634, \"Y\": 0.01015874812530066}, {\"X\": 0.019439996685132972, \"Y\": 0.010187045473839102}, {\"X\": 0.019520411819192875, \"Y\": 0.010215342822377543}, {\"X\": 0.01960087575871549, \"Y\": 0.010286086193723648}, {\"X\": 0.019681518651601376, \"Y\": 0.010286086193723648}, {\"X\": 0.01976221034994997, \"Y\": 0.010328532216531312}, {\"X\": 0.019843081001661843, \"Y\": 0.010385126913608196}, {\"X\": 0.019923967921861283, \"Y\": 0.010413424262146637}, {\"X\": 0.020004919916011006, \"Y\": 0.010441721610685078}, {\"X\": 0.020085936984111007, \"Y\": 0.010470018959223521}, {\"X\": 0.02016695405221101, \"Y\": 0.010512464982031183}, {\"X\": 0.020248166342161856, \"Y\": 0.010554911004838846}, {\"X\": 0.02032975280732682, \"Y\": 0.010625654376184951}, {\"X\": 0.020411924938044314, \"Y\": 0.010668100398992615}, {\"X\": 0.02049422721666237, \"Y\": 0.010668100398992615}, {\"X\": 0.02057698501293239, \"Y\": 0.010696397747531056}, {\"X\": 0.020659872957102976, \"Y\": 0.01075299244460794}, {\"X\": 0.0207432326874131, \"Y\": 0.010781289793146381}, {\"X\": 0.020826608686210793, \"Y\": 0.010837884490223266}, {\"X\": 0.020910000953496058, \"Y\": 0.010866181838761708}, {\"X\": 0.020993620979607306, \"Y\": 0.010880330513030929}, {\"X\": 0.021077729060345662, \"Y\": 0.010922776535838593}, {\"X\": 0.021161853409571586, \"Y\": 0.010965222558646254}, {\"X\": 0.021246221786111068, \"Y\": 0.010965222558646254}, {\"X\": 0.02133065523660083, \"Y\": 0.011007668581453918}, {\"X\": 0.021415186298016014, \"Y\": 0.011021817255723139}, {\"X\": 0.021499717359431198, \"Y\": 0.011120857975607686}, {\"X\": 0.021584248420846382, \"Y\": 0.011149155324146127}, {\"X\": 0.021668958435624837, \"Y\": 0.011177452672684569}, {\"X\": 0.021753831135278998, \"Y\": 0.011205750021223012}, {\"X\": 0.021839061741659702, \"Y\": 0.011276493392569116}, {\"X\": 0.021924536375353965, \"Y\": 0.011347236763915221}, {\"X\": 0.022010189962411497, \"Y\": 0.011389682786722885}, {\"X\": 0.022096152650732864, \"Y\": 0.011403831460992105}, {\"X\": 0.022182196681492086, \"Y\": 0.011403831460992105}, {\"X\": 0.022268598618977852, \"Y\": 0.01147457483233821}, {\"X\": 0.02235501682495119, \"Y\": 0.011502872180876651}, {\"X\": 0.022441760400675928, \"Y\": 0.011545318203684315}, {\"X\": 0.022528666661276373, \"Y\": 0.011573615552222756}, {\"X\": 0.02261558919036439, \"Y\": 0.011899035060414839}, {\"X\": 0.022702593061890257, \"Y\": 0.011941481083222502}, {\"X\": 0.022789645738878834, \"Y\": 0.011955629757491723}, {\"X\": 0.022876714684354982, \"Y\": 0.011955629757491723}, {\"X\": 0.022963816166806268, \"Y\": 0.012040521803107048}, {\"X\": 0.02305098272320784, \"Y\": 0.012068819151645491}, {\"X\": 0.023138181816584547, \"Y\": 0.012111265174453155}, {\"X\": 0.02322549478937425, \"Y\": 0.012153711197260816}, {\"X\": 0.023312872836114232, \"Y\": 0.012167859871530037}, {\"X\": 0.023400804011431606, \"Y\": 0.012238603242876142}, {\"X\": 0.02348878399221169, \"Y\": 0.012266900591414585}, {\"X\": 0.023576975463330187, \"Y\": 0.01233764396276069}, {\"X\": 0.023665183202936254, \"Y\": 0.012422536008376015}, {\"X\": 0.023753423479517463, \"Y\": 0.012578171425337447}, {\"X\": 0.02384166375609867, \"Y\": 0.012606468773875888}, {\"X\": 0.02393009925453072, \"Y\": 0.012634766122414329}, {\"X\": 0.024018762511788756, \"Y\": 0.012663063470952772}, {\"X\": 0.02410742576904679, \"Y\": 0.012663063470952772}, {\"X\": 0.024196170368742678, \"Y\": 0.01277625286510654}, {\"X\": 0.024285663318866797, \"Y\": 0.01291773960779875}, {\"X\": 0.0243752213429412, \"Y\": 0.012974334304875634}, {\"X\": 0.024465072199791865, \"Y\": 0.013016780327683296}, {\"X\": 0.024555036936055524, \"Y\": 0.013030929001952516}, {\"X\": 0.02464500167231918, \"Y\": 0.01305922635049096}, {\"X\": 0.02473512909345854, \"Y\": 0.013101672373298621}, {\"X\": 0.02482527278308547, \"Y\": 0.013186564418913948}, {\"X\": 0.024915465278175113, \"Y\": 0.01322901044172161}, {\"X\": 0.025005706578727464, \"Y\": 0.013243159115990832}, {\"X\": 0.025095980416254958, \"Y\": 0.013299753813067715}, {\"X\": 0.025186335596220303, \"Y\": 0.01337049718441382}, {\"X\": 0.02527682092408621, \"Y\": 0.013384645858683042}, {\"X\": 0.025367420131365108, \"Y\": 0.013412943207221483}, {\"X\": 0.025458035607131578, \"Y\": 0.013483686578567588}, {\"X\": 0.025548651082898048, \"Y\": 0.013497835252836808}, {\"X\": 0.025639282827152086, \"Y\": 0.013596875972721356}, {\"X\": 0.025729914571406127, \"Y\": 0.013625173321259797}, {\"X\": 0.02582079034297372, \"Y\": 0.013681768018336682}, {\"X\": 0.025911861336392155, \"Y\": 0.013823254761028891}, {\"X\": 0.026003534263850693, \"Y\": 0.013823254761028891}, {\"X\": 0.026095337339209792, \"Y\": 0.013851552109567334}, {\"X\": 0.0261874657843203, \"Y\": 0.013908146806644218}, {\"X\": 0.026280098552545483, \"Y\": 0.01393644415518266}, {\"X\": 0.026372747589258238, \"Y\": 0.01395059282945188}, {\"X\": 0.026465689458747256, \"Y\": 0.014007187526528764}, {\"X\": 0.026558663865211416, \"Y\": 0.014035484875067207}, {\"X\": 0.026651654540163147, \"Y\": 0.01409207957214409}, {\"X\": 0.026744742826040297, \"Y\": 0.014134525594951753}, {\"X\": 0.02683789618586773, \"Y\": 0.014191120292028637}, {\"X\": 0.02693129357300872, \"Y\": 0.014247714989105521}, {\"X\": 0.02702483737653784, \"Y\": 0.014247714989105521}, {\"X\": 0.027118495059479948, \"Y\": 0.014261863663374742}, {\"X\": 0.027212282890322622, \"Y\": 0.01438920173179773}, {\"X\": 0.02730618460057829, \"Y\": 0.014403350406066951}, {\"X\": 0.027400167653271808, \"Y\": 0.014474093777413056}, {\"X\": 0.027494264585378316, \"Y\": 0.014502391125951499}, {\"X\": 0.027588459128410247, \"Y\": 0.014629729194374486}, {\"X\": 0.027682718745392458, \"Y\": 0.01467217521718215}, {\"X\": 0.02777749895397692, \"Y\": 0.014757067262797475}, {\"X\": 0.027872506921387364, \"Y\": 0.014799513285605139}, {\"X\": 0.02796756369426052, \"Y\": 0.014856107982682023}, {\"X\": 0.028062718078059098, \"Y\": 0.014955148702566569}, {\"X\": 0.028157904998832816, \"Y\": 0.015040040748181896}, {\"X\": 0.02825330340994495, \"Y\": 0.015139081468066442}, {\"X\": 0.02834876689500736, \"Y\": 0.015167378816604885}, {\"X\": 0.028444262917044917, \"Y\": 0.015195676165143326}, {\"X\": 0.02853979147605761, \"Y\": 0.015195676165143326}, {\"X\": 0.028635466451458435, \"Y\": 0.015209824839412547}, {\"X\": 0.028731190232321974, \"Y\": 0.015223973513681767}, {\"X\": 0.028827044161086075, \"Y\": 0.015323014233566315}, {\"X\": 0.028923548829352986, \"Y\": 0.015379608930643199}, {\"X\": 0.029020443941321583, \"Y\": 0.01540790627918164}, {\"X\": 0.02911733905329018, \"Y\": 0.015591839044681513}, {\"X\": 0.029214299239209058, \"Y\": 0.015747474461642944}, {\"X\": 0.02931127569361551, \"Y\": 0.015860663855796712}, {\"X\": 0.02940834975894738, \"Y\": 0.015860663855796712}, {\"X\": 0.02950599322134421, \"Y\": 0.015888961204335153}, {\"X\": 0.029604059664417866, \"Y\": 0.015903109878604375}, {\"X\": 0.029702158644466667, \"Y\": 0.01600215059848892}, {\"X\": 0.029800322698465748, \"Y\": 0.016072893969835026}, {\"X\": 0.029898649437340528, \"Y\": 0.016157786015450353}, {\"X\": 0.029997187666553727, \"Y\": 0.016214380712527236}, {\"X\": 0.030095937386105335, \"Y\": 0.0162568267353349}, {\"X\": 0.03019486605902022, \"Y\": 0.016299272758142563}, {\"X\": 0.030293941148323233, \"Y\": 0.016299272758142563}, {\"X\": 0.03039301623762625, \"Y\": 0.01641246215229633}, {\"X\": 0.030492188937854686, \"Y\": 0.01645490817510399}, {\"X\": 0.030591491785983686, \"Y\": 0.01655394889498854}, {\"X\": 0.030690924782013247, \"Y\": 0.01666713828914231}, {\"X\": 0.03079039031501795, \"Y\": 0.01672373298621919}, {\"X\": 0.030889855848022653, \"Y\": 0.016752030334757632}, {\"X\": 0.030989467797415488, \"Y\": 0.016752030334757632}, {\"X\": 0.031089209894708883, \"Y\": 0.01683692238037296}, {\"X\": 0.031189342435703968, \"Y\": 0.01683692238037296}, {\"X\": 0.03128986542040074, \"Y\": 0.016893517077449842}, {\"X\": 0.031390599895435925, \"Y\": 0.016907665751719064}, {\"X\": 0.03149151332383438, \"Y\": 0.016907665751719064}, {\"X\": 0.03159244302072041, \"Y\": 0.016935963100257505}, {\"X\": 0.03169361674491999, \"Y\": 0.01697840912306517}, {\"X\": 0.03179488808004499, \"Y\": 0.017020855145872833}, {\"X\": 0.031896273294582986, \"Y\": 0.017077449842949715}, {\"X\": 0.03199769104609612, \"Y\": 0.017162341888565042}, {\"X\": 0.032099238945509825, \"Y\": 0.017261382608449588}, {\"X\": 0.032200851918873806, \"Y\": 0.017346274654064915}, {\"X\": 0.032302578771650776, \"Y\": 0.01738872067687258}, {\"X\": 0.03240448457779102, \"Y\": 0.01744531537394946}, {\"X\": 0.032506406652418836, \"Y\": 0.017473612722487902}, {\"X\": 0.032608507680409925, \"Y\": 0.01758680211664167}, {\"X\": 0.03271078766176428, \"Y\": 0.01758680211664167}, {\"X\": 0.032813197791019204, \"Y\": 0.017643396813718553}, {\"X\": 0.03291568926271198, \"Y\": 0.01769999151079544}, {\"X\": 0.03301827834533018, \"Y\": 0.017827329579218426}, {\"X\": 0.03312091623341108, \"Y\": 0.017883924276295312}, {\"X\": 0.033223814417293114, \"Y\": 0.017912221624833753}, {\"X\": 0.03332685901756328, \"Y\": 0.017968816321910636}, {\"X\": 0.03342993615480858, \"Y\": 0.017982964996179858}, {\"X\": 0.03353332239331772, \"Y\": 0.01802541101898752}, {\"X\": 0.03363678997426472, \"Y\": 0.018096154390333626}, {\"X\": 0.033740550387987976, \"Y\": 0.018124451738872067}, {\"X\": 0.03384437587566151, \"Y\": 0.01815274908741051}, {\"X\": 0.03394821763182262, \"Y\": 0.01818104643594895}, {\"X\": 0.03405222207285943, \"Y\": 0.018223492458756613}, {\"X\": 0.034156242782383814, \"Y\": 0.018251789807295058}, {\"X\": 0.03426044244527147, \"Y\": 0.018322533178641163}, {\"X\": 0.03436465837664669, \"Y\": 0.018492317269871814}, {\"X\": 0.034468971918947336, \"Y\": 0.01859135798975636}, {\"X\": 0.03457331799822312, \"Y\": 0.018662101361102464}, {\"X\": 0.03467766407749891, \"Y\": 0.01873284473244857}, {\"X\": 0.03478228672106339, \"Y\": 0.018775290755256233}, {\"X\": 0.03488715339194143, \"Y\": 0.018775290755256233}, {\"X\": 0.03499211767374488, \"Y\": 0.018803588103794674}, {\"X\": 0.03509724464042405, \"Y\": 0.018831885452333115}, {\"X\": 0.035202387875590775, \"Y\": 0.01888848014941}, {\"X\": 0.03530759618470779, \"Y\": 0.018973372195025325}, {\"X\": 0.03541285329928751, \"Y\": 0.018987520869294547}, {\"X\": 0.03551811041386723, \"Y\": 0.019072412914909874}, {\"X\": 0.03562390438853678, \"Y\": 0.019100710263448315}, {\"X\": 0.03572977970564417, \"Y\": 0.019114858937717537}, {\"X\": 0.03583609427191596, \"Y\": 0.01914315628625598}, {\"X\": 0.0359424901806256, \"Y\": 0.019157304960525198}, {\"X\": 0.036048934894797956, \"Y\": 0.019157304960525198}, {\"X\": 0.03615572124720928, \"Y\": 0.01919975098333286}, {\"X\": 0.03626252386810818, \"Y\": 0.019284643028948188}, {\"X\": 0.03636934275749465, \"Y\": 0.019426129771640398}, {\"X\": 0.0364762267208314, \"Y\": 0.019525170491524944}, {\"X\": 0.036583126952655726, \"Y\": 0.019567616514332607}, {\"X\": 0.03669012479540547, \"Y\": 0.01962421121140949}, {\"X\": 0.03679713890664278, \"Y\": 0.019652508559947934}, {\"X\": 0.03690452719309421, \"Y\": 0.019666657234217153}, {\"X\": 0.03701196428500835, \"Y\": 0.019709103257024817}, {\"X\": 0.03711943391389763, \"Y\": 0.0197656979541017}, {\"X\": 0.037227066227662614, \"Y\": 0.019850589999717026}, {\"X\": 0.03733473107840274, \"Y\": 0.01989303602252469}, {\"X\": 0.03744273756738184, \"Y\": 0.019907184696793912}, {\"X\": 0.03755123211098805, \"Y\": 0.019907184696793912}, {\"X\": 0.03765982426551968, \"Y\": 0.019949630719601572}, {\"X\": 0.03776844895702645, \"Y\": 0.020020374090947677}, {\"X\": 0.037877187527946214, \"Y\": 0.02009111746229378}, {\"X\": 0.03798599117281626, \"Y\": 0.02017600950790911}, {\"X\": 0.03809513645592528, \"Y\": 0.02019015818217833}, {\"X\": 0.03820428173903429, \"Y\": 0.02020430685644755}, {\"X\": 0.038313459559118454, \"Y\": 0.020275050227793655}, {\"X\": 0.03842289767500374, \"Y\": 0.02044483431902431}, {\"X\": 0.03853274250307828, \"Y\": 0.020529726364639633}, {\"X\": 0.038642684942078245, \"Y\": 0.02062876708452418}, {\"X\": 0.03875277379746634, \"Y\": 0.020741956478677947}, {\"X\": 0.03886286265285444, \"Y\": 0.020855145872831715}, {\"X\": 0.03897319553555609, \"Y\": 0.020883443221370156}, {\"X\": 0.03908357722372045, \"Y\": 0.02095418659271626}, {\"X\": 0.039193991448859954, \"Y\": 0.020982483941254706}, {\"X\": 0.039304535821900015, \"Y\": 0.021039078638331588}, {\"X\": 0.03941519407435307, \"Y\": 0.02106737598687003}, {\"X\": 0.03952622650202024, \"Y\": 0.021138119358216134}, {\"X\": 0.03963735654061284, \"Y\": 0.02119471405529302}, {\"X\": 0.03974868180105628, \"Y\": 0.02122301140383146}, {\"X\": 0.03986038123671383, \"Y\": 0.021378646820792893}, {\"X\": 0.039972145746321665, \"Y\": 0.021421092843600553}, {\"X\": 0.04008433323660633, \"Y\": 0.021562579586292763}, {\"X\": 0.04019661833781641, \"Y\": 0.021746512351792636}, {\"X\": 0.04030895224448921, \"Y\": 0.021746512351792636}, {\"X\": 0.040421367493599855, \"Y\": 0.02177480970033108}, {\"X\": 0.040534612435576586, \"Y\": 0.0217889583746003}, {\"X\": 0.04064790618301603, \"Y\": 0.02193044511729251}, {\"X\": 0.0407613463468436, \"Y\": 0.02193044511729251}, {\"X\": 0.04087483531613389, \"Y\": 0.02194459379156173}, {\"X\": 0.04098837309088688, \"Y\": 0.02195874246583095}, {\"X\": 0.04110208981900315, \"Y\": 0.022015337162907836}, {\"X\": 0.04121593669501998, \"Y\": 0.022213418602676928}, {\"X\": 0.041329978792887655, \"Y\": 0.022241715951215373}, {\"X\": 0.04144485058362142, \"Y\": 0.022270013299753814}, {\"X\": 0.04155973864284274, \"Y\": 0.022284161974023033}, {\"X\": 0.04167462670206407, \"Y\": 0.022284161974023033}, {\"X\": 0.041789661177673534, \"Y\": 0.02236905401963836}, {\"X\": 0.04190480953269599, \"Y\": 0.0223973513681768}, {\"X\": 0.042019957887718444, \"Y\": 0.0223973513681768}, {\"X\": 0.04213557802888044, \"Y\": 0.022453946065253687}, {\"X\": 0.042251556076768976, \"Y\": 0.02252468943659979}, {\"X\": 0.04236785949440892, \"Y\": 0.02253883811086901}, {\"X\": 0.04248422798599914, \"Y\": 0.022609581482215115}, {\"X\": 0.04260061274607694, \"Y\": 0.02265202750502278}, {\"X\": 0.042717095117080155, \"Y\": 0.022751068224907325}, {\"X\": 0.042833675099008796, \"Y\": 0.022906703641868757}, {\"X\": 0.04295049910825099, \"Y\": 0.022991595687484084}, {\"X\": 0.04306746953388131, \"Y\": 0.023104785081637852}, {\"X\": 0.04318443995951164, \"Y\": 0.023302866521406944}, {\"X\": 0.04330145919060468, \"Y\": 0.02337360989275305}, {\"X\": 0.04341847842169771, \"Y\": 0.023416055915560712}, {\"X\": 0.04353554645825346, \"Y\": 0.023444353264099153}, {\"X\": 0.043652842253635186, \"Y\": 0.023486799286906817}, {\"X\": 0.04377072371456945, \"Y\": 0.023614137355329804}, {\"X\": 0.04388867024945399, \"Y\": 0.023614137355329804}, {\"X\": 0.04400699095955265, \"Y\": 0.02364243470386825}, {\"X\": 0.04412547435452702, \"Y\": 0.023656583378137468}, {\"X\": 0.0442440553604268, \"Y\": 0.023727326749483572}, {\"X\": 0.04436296173607798, \"Y\": 0.023769772772291236}, {\"X\": 0.04448230736089357, \"Y\": 0.023882962166445004}, {\"X\": 0.04460191328151028, \"Y\": 0.023939556863521887}, {\"X\": 0.04472169815549027, \"Y\": 0.023996151560598773}, {\"X\": 0.04484188974165951, \"Y\": 0.024052746257675655}, {\"X\": 0.04496209759631632, \"Y\": 0.024066894931944877}, {\"X\": 0.045083037532913796, \"Y\": 0.0241517869775602}, {\"X\": 0.04520410761741183, \"Y\": 0.02425082769744475}, {\"X\": 0.04532529158132286, \"Y\": 0.024335719743060074}, {\"X\": 0.0454466870355723, \"Y\": 0.02440646311440618}, {\"X\": 0.045568147563772025, \"Y\": 0.0244206117886754}, {\"X\": 0.0456898521192853, \"Y\": 0.024505503834290728}, {\"X\": 0.04581157294328615, \"Y\": 0.02453380118282917}, {\"X\": 0.04593348898913784, \"Y\": 0.024646990576982938}, {\"X\": 0.046055567719865236, \"Y\": 0.02470358527405982}, {\"X\": 0.0461778254039559, \"Y\": 0.024717733948329042}, {\"X\": 0.04630008308804657, \"Y\": 0.024760179971136706}, {\"X\": 0.04642255226247565, \"Y\": 0.024859220691021252}, {\"X\": 0.04654513531631772, \"Y\": 0.024958261410905798}, {\"X\": 0.046667718370159796, \"Y\": 0.02498655875944424}, {\"X\": 0.046790366497952145, \"Y\": 0.025071450805059566}, {\"X\": 0.04691324238457049, \"Y\": 0.02512804550213645}, {\"X\": 0.04703618334513911, \"Y\": 0.025156342850674893}, {\"X\": 0.04715930325907099, \"Y\": 0.025227086222020998}, {\"X\": 0.04728243944149046, \"Y\": 0.025241234896290217}, {\"X\": 0.04740568950332291, \"Y\": 0.02531197826763632}, {\"X\": 0.04752895583364294, \"Y\": 0.025354424290443985}, {\"X\": 0.04765230350640081, \"Y\": 0.02539687031325165}, {\"X\": 0.04777589520647224, \"Y\": 0.02539687031325165}, {\"X\": 0.047899665859906945, \"Y\": 0.025467613684597754}, {\"X\": 0.04802355039275464, \"Y\": 0.0255666544044823}, {\"X\": 0.04814761387896561, \"Y\": 0.02569399247290529}, {\"X\": 0.04827182378156471, \"Y\": 0.025807181867059055}, {\"X\": 0.04839604995265138, \"Y\": 0.02586377656413594}, {\"X\": 0.048520390003151045, \"Y\": 0.025962817284020487}, {\"X\": 0.0486450066179394, \"Y\": 0.025962817284020487}, {\"X\": 0.0487696557697029, \"Y\": 0.02597696595828971}, {\"X\": 0.04889432118995397, \"Y\": 0.026217493420866465}, {\"X\": 0.04901923063751859, \"Y\": 0.026245790769404906}, {\"X\": 0.049144270232983775, \"Y\": 0.026373128837827896}, {\"X\": 0.049269407439374385, \"Y\": 0.026401426186366338}, {\"X\": 0.04939457718274013, \"Y\": 0.026472169557712442}, {\"X\": 0.04951982826854373, \"Y\": 0.02657121027759699}, {\"X\": 0.04964529084468574, \"Y\": 0.026613656300404652}, {\"X\": 0.049770769689315326, \"Y\": 0.02669854834601998}, {\"X\": 0.04989646002428332, \"Y\": 0.026811737740173747}, {\"X\": 0.05002245946051515, \"Y\": 0.026924927134327512}, {\"X\": 0.05014847516523455, \"Y\": 0.02703811652848128}, {\"X\": 0.05027509280399406, \"Y\": 0.027193751945442712}, {\"X\": 0.05040219849738067, \"Y\": 0.027207900619711935}, {\"X\": 0.05052938553320513, \"Y\": 0.02729279266532726}, {\"X\": 0.0506574998728211, \"Y\": 0.02730694133959648}, {\"X\": 0.05078585823975062, \"Y\": 0.02756161747644246}, {\"X\": 0.05091441182853099, \"Y\": 0.02761821217351934}, {\"X\": 0.05104303049126163, \"Y\": 0.027688955544865446}, {\"X\": 0.0511721860140821, \"Y\": 0.027802144939019214}, {\"X\": 0.051301374073877706, \"Y\": 0.02787288831036532}, {\"X\": 0.05143077362401173, \"Y\": 0.027943631681711423}, {\"X\": 0.05156020571112089, \"Y\": 0.02802852372732675}, {\"X\": 0.05168980048310575, \"Y\": 0.028212456492826624}, {\"X\": 0.05181991584669286, \"Y\": 0.028269051189903506}, {\"X\": 0.05195003121027998, \"Y\": 0.028410537932595716}, {\"X\": 0.052080195379329806, \"Y\": 0.028495429978211043}, {\"X\": 0.05221042462232991, \"Y\": 0.028552024675287925}, {\"X\": 0.05234102804054413, \"Y\": 0.028580322023826366}, {\"X\": 0.05247166399573349, \"Y\": 0.02862276804663403}, {\"X\": 0.05260251144126127, \"Y\": 0.028679362743710916}, {\"X\": 0.052733586645615026, \"Y\": 0.028834998160672344}, {\"X\": 0.052864694386943925, \"Y\": 0.028877444183480008}, {\"X\": 0.052995818396760395, \"Y\": 0.02891989020628767}, {\"X\": 0.053126942406576866, \"Y\": 0.028948187554826112}, {\"X\": 0.05325835924916961, \"Y\": 0.029018930926172217}, {\"X\": 0.05338993877663804, \"Y\": 0.02917456634313365}, {\"X\": 0.053521599646544335, \"Y\": 0.029217012365941313}, {\"X\": 0.05365330932191333, \"Y\": 0.029273607063018195}, {\"X\": 0.05378505153425747, \"Y\": 0.0293443504343643}, {\"X\": 0.05391720045879087, \"Y\": 0.029400945131441186}, {\"X\": 0.054049381920299414, \"Y\": 0.02948583717705651}, {\"X\": 0.05418162845575823, \"Y\": 0.029683918616825605}, {\"X\": 0.054314070213067896, \"Y\": 0.029726364639633265}, {\"X\": 0.054446853608616536, \"Y\": 0.02975466198817171}, {\"X\": 0.054579864762991155, \"Y\": 0.029768810662440928}, {\"X\": 0.05471292472282849, \"Y\": 0.029811256685248592}, {\"X\": 0.054846082293591246, \"Y\": 0.029839554033787033}, {\"X\": 0.05497925613284157, \"Y\": 0.030009338125017687}, {\"X\": 0.05511246250906704, \"Y\": 0.03003763547355613}, {\"X\": 0.05524576649621793, \"Y\": 0.030150824867709897}, {\"X\": 0.055379086751856384, \"Y\": 0.030221568239056}, {\"X\": 0.055512537155395406, \"Y\": 0.030264014261863665}, {\"X\": 0.05564610143834742, \"Y\": 0.030391352330286652}, {\"X\": 0.0557798446746627, \"Y\": 0.030603582444324966}, {\"X\": 0.0559136367164407, \"Y\": 0.030702623164209512}, {\"X\": 0.05604772159099496, \"Y\": 0.030745069187017176}, {\"X\": 0.056181822734036796, \"Y\": 0.03092900195251705}, {\"X\": 0.05631602148800405, \"Y\": 0.03092900195251705}, {\"X\": 0.056450317852896725, \"Y\": 0.03098559664959393}, {\"X\": 0.05658503719846623, \"Y\": 0.031028042672401595}, {\"X\": 0.05671975654403573, \"Y\": 0.03108463736947848}, {\"X\": 0.056854638574480934, \"Y\": 0.031127083392286144}, {\"X\": 0.05698958567887642, \"Y\": 0.03119782676363225}, {\"X\": 0.057124565320247046, \"Y\": 0.031211975437901468}, {\"X\": 0.05725978898893123, \"Y\": 0.03124027278643991}, {\"X\": 0.057395110268540835, \"Y\": 0.03128271880924757}, {\"X\": 0.05753065930697642, \"Y\": 0.03131101615778602}, {\"X\": 0.057666582520626126, \"Y\": 0.03142420555193978}, {\"X\": 0.05780260334520125, \"Y\": 0.03155154362036277}, {\"X\": 0.05793958401054302, \"Y\": 0.03160813831743966}, {\"X\": 0.05807659721285993, \"Y\": 0.031721327711593424}, {\"X\": 0.058213626683664414, \"Y\": 0.031735476385862646}, {\"X\": 0.058350900181782454, \"Y\": 0.03184866578001641}, {\"X\": 0.058488515318139464, \"Y\": 0.03196185517417018}, {\"X\": 0.05862627687088461, \"Y\": 0.03199015252270862}, {\"X\": 0.058764331256406024, \"Y\": 0.03203259854551629}, {\"X\": 0.05890262966924099, \"Y\": 0.032117490591131614}, {\"X\": 0.05904110703543922, \"Y\": 0.032315572030900706}, {\"X\": 0.05917963320710017, \"Y\": 0.03232972070516993}, {\"X\": 0.05931817564724869, \"Y\": 0.03242876142505447}, {\"X\": 0.05945728748446217, \"Y\": 0.032499504796400576}, {\"X\": 0.059596789765377335, \"Y\": 0.032598545516285125}, {\"X\": 0.059737219350084005, \"Y\": 0.03262684286482356}, {\"X\": 0.059878088183955076, \"Y\": 0.032782478281784995}, {\"X\": 0.06001921731362727, \"Y\": 0.03281077563032344}, {\"X\": 0.060160362711787034, \"Y\": 0.03283907297886188}, {\"X\": 0.06030155691540951, \"Y\": 0.03290981635020798}, {\"X\": 0.06044276738751955, \"Y\": 0.03293811369874643}, {\"X\": 0.06058433576635615, \"Y\": 0.032980559721554094}, {\"X\": 0.06072601802460573, \"Y\": 0.03315034381278474}, {\"X\": 0.06086771655134288, \"Y\": 0.03327768188120773}, {\"X\": 0.06100964283690602, \"Y\": 0.03334842525255383}, {\"X\": 0.061151699270369723, \"Y\": 0.03354650669232293}, {\"X\": 0.061293934657196694, \"Y\": 0.03361725006366904}, {\"X\": 0.061436283923436655, \"Y\": 0.0337304394578228}, {\"X\": 0.061578795874552325, \"Y\": 0.03377288548063046}, {\"X\": 0.061721437973568556, \"Y\": 0.03391437222332268}, {\"X\": 0.06186421022048535, \"Y\": 0.0340700076402841}, {\"X\": 0.062007063809839995, \"Y\": 0.034225643057245535}, {\"X\": 0.062150177694995756, \"Y\": 0.03431053510286086}, {\"X\": 0.06229353560746508, \"Y\": 0.034664251959591386}, {\"X\": 0.062436958593884685, \"Y\": 0.03470669798239905}, {\"X\": 0.06258083709795625, \"Y\": 0.03491892809643737}, {\"X\": 0.06272474813900297, \"Y\": 0.03500382014205269}, {\"X\": 0.06286867544853725, \"Y\": 0.03517360423328334}, {\"X\": 0.06301292812782294, \"Y\": 0.03517360423328334}, {\"X\": 0.06315739229744705, \"Y\": 0.035201901581821786}, {\"X\": 0.06330190527253385, \"Y\": 0.035244347604629446}, {\"X\": 0.06344654839552123, \"Y\": 0.035428280370129316}, {\"X\": 0.06359122405548374, \"Y\": 0.03558391578709075}, {\"X\": 0.06373599732637168, \"Y\": 0.03571125385551374}, {\"X\": 0.06388077059725962, \"Y\": 0.03579614590112906}, {\"X\": 0.06402554386814756, \"Y\": 0.03585274059820595}, {\"X\": 0.0641705286293739, \"Y\": 0.03588103794674439}, {\"X\": 0.06431616413010306, \"Y\": 0.035965929992359716}, {\"X\": 0.0644618647047825, \"Y\": 0.03617816010639803}, {\"X\": 0.06460779303828794, \"Y\": 0.03630549817482102}, {\"X\": 0.06475393286213177, \"Y\": 0.036347944197628684}, {\"X\": 0.06490008895446318, \"Y\": 0.03646113359178245}, {\"X\": 0.06504632638923245, \"Y\": 0.036503579614590116}, {\"X\": 0.06519259636097685, \"Y\": 0.03665921503155154}, {\"X\": 0.06533907782305967, \"Y\": 0.036729958402897646}, {\"X\": 0.06548562435909276, \"Y\": 0.0368997424941283}, {\"X\": 0.0656323661169767, \"Y\": 0.03698463453974363}, {\"X\": 0.06577933563368663, \"Y\": 0.03705537791108973}, {\"X\": 0.06592646783527226, \"Y\": 0.037267608025128046}, {\"X\": 0.06607361630534546, \"Y\": 0.03738079741928181}, {\"X\": 0.06622099253424464, \"Y\": 0.03746568946489714}, {\"X\": 0.06636841756860654, \"Y\": 0.037508135487704805}, {\"X\": 0.06651607036179441, \"Y\": 0.037692068253204675}, {\"X\": 0.06666406479322126, \"Y\": 0.03772036560174312}, {\"X\": 0.06681207549313568, \"Y\": 0.03784770367016611}, {\"X\": 0.06696023260943824, \"Y\": 0.03796089306431987}, {\"X\": 0.0671087150954922, \"Y\": 0.0381165284812813}, {\"X\": 0.06725724638700888, \"Y\": 0.03815897450408897}, {\"X\": 0.06740589155793854, \"Y\": 0.03818727185262741}, {\"X\": 0.06755461807130606, \"Y\": 0.03818727185262741}, {\"X\": 0.06770339339013627, \"Y\": 0.03825801522397351}, {\"X\": 0.06785220124594164, \"Y\": 0.03832875859531962}, {\"X\": 0.06800107417569728, \"Y\": 0.03839950196666572}, {\"X\": 0.06814999591091565, \"Y\": 0.03847024533801183}, {\"X\": 0.06829917794193513, \"Y\": 0.03864002942924248}, {\"X\": 0.06844878295363144, \"Y\": 0.03878151617193469}, {\"X\": 0.06859850184474074, \"Y\": 0.03890885424035768}, {\"X\": 0.06874835088375061, \"Y\": 0.03893715158889612}, {\"X\": 0.0688982975336859, \"Y\": 0.03897959761170378}, {\"X\": 0.06904848821093473, \"Y\": 0.03902204363451145}, {\"X\": 0.06919931335919882, \"Y\": 0.039092787005857554}, {\"X\": 0.06935062656209001, \"Y\": 0.039135233028665214}, {\"X\": 0.06950200483893149, \"Y\": 0.03930501711989587}, {\"X\": 0.06965356206913623, \"Y\": 0.039333314468434306}, {\"X\": 0.0698054284006048, \"Y\": 0.039474801211126516}, {\"X\": 0.06995732726904852, \"Y\": 0.03964458530235717}, {\"X\": 0.07010945389631823, \"Y\": 0.03977192337078016}, {\"X\": 0.07026169440300092, \"Y\": 0.03978607204504938}, {\"X\": 0.07041414640002204, \"Y\": 0.03984266674212626}, {\"X\": 0.07056663093401828, \"Y\": 0.039998302159087694}, {\"X\": 0.07071950591171622, \"Y\": 0.0400690455304338}, {\"X\": 0.07087255984277743, \"Y\": 0.0401397889017799}, {\"X\": 0.07102571138476406, \"Y\": 0.04035201901581822}, {\"X\": 0.07117887919523827, \"Y\": 0.04036616769008744}, {\"X\": 0.07133209581117518, \"Y\": 0.0404086137128951}, {\"X\": 0.0714853612325748, \"Y\": 0.04046520840997198}, {\"X\": 0.071638756801875, \"Y\": 0.04050765443277965}, {\"X\": 0.07179238013000117, \"Y\": 0.040719884546817964}, {\"X\": 0.07194624748544089, \"Y\": 0.040875519963779396}, {\"X\": 0.0721002287202936, \"Y\": 0.04088966863804862}, {\"X\": 0.07225422622363388, \"Y\": 0.04100285803220238}, {\"X\": 0.07240840268033745, \"Y\": 0.04122923682050992}, {\"X\": 0.072562693016454, \"Y\": 0.04152635898016356}, {\"X\": 0.07271701588954568, \"Y\": 0.04161125102577889}, {\"X\": 0.07287150144751309, \"Y\": 0.0417527377684711}, {\"X\": 0.07302618222733133, \"Y\": 0.04180933246554798}, {\"X\": 0.07318143240421453, \"Y\": 0.04183762981408642}, {\"X\": 0.073336747655048, \"Y\": 0.04193667053397097}, {\"X\": 0.07349217678529447, \"Y\": 0.042021562579586294}, {\"X\": 0.07364807770168048, \"Y\": 0.04213475197374006}, {\"X\": 0.07380423891386761, \"Y\": 0.04223379269362461}, {\"X\": 0.07396079056975643, \"Y\": 0.04233283341350915}, {\"X\": 0.07411745610505825, \"Y\": 0.04241772545912448}, {\"X\": 0.07427430059372334, \"Y\": 0.042502617504739805}, {\"X\": 0.07443129149877656, \"Y\": 0.04255921220181669}, {\"X\": 0.07458834747778005, \"Y\": 0.04265825292170124}, {\"X\": 0.0747455986786344, \"Y\": 0.042799739664393446}, {\"X\": 0.07490327286016557, \"Y\": 0.04295537508135488}, {\"X\": 0.07506106092110973, \"Y\": 0.043040267126970205}, {\"X\": 0.07521884898205389, \"Y\": 0.04309686182404709}, {\"X\": 0.07537665331148562, \"Y\": 0.04325249724100852}, {\"X\": 0.07553450644638006, \"Y\": 0.04329494326381618}, {\"X\": 0.07569248972917507, \"Y\": 0.04349302470358527}, {\"X\": 0.07585053808592036, \"Y\": 0.04360621409773904}, {\"X\": 0.07600861897964079, \"Y\": 0.04371940349189281}, {\"X\": 0.07616855448094423, \"Y\": 0.043761849514700475}, {\"X\": 0.07632897803687477, \"Y\": 0.043804295537508135}, {\"X\": 0.07648969442558158, \"Y\": 0.043846741560315795}, {\"X\": 0.07665054096218896, \"Y\": 0.04395993095446957}, {\"X\": 0.07681192435888616, \"Y\": 0.04395993095446957}, {\"X\": 0.0769733890980212, \"Y\": 0.04403067432581567}, {\"X\": 0.07713500025354438, \"Y\": 0.044087269022892554}, {\"X\": 0.07729674155696811, \"Y\": 0.04415801239423866}, {\"X\": 0.07745866181375513, \"Y\": 0.044200458417046326}, {\"X\": 0.07762084236634327, \"Y\": 0.04427120178839243}, {\"X\": 0.07778315306683198, \"Y\": 0.04429949913693087}, {\"X\": 0.07794569152614665, \"Y\": 0.04441268853108464}, {\"X\": 0.07810842520731219, \"Y\": 0.0444551345538923}, {\"X\": 0.078271223962428, \"Y\": 0.04449758057669996}, {\"X\": 0.07843434808729521, \"Y\": 0.044624918645122955}, {\"X\": 0.07859752101762513, \"Y\": 0.044709810690738275}, {\"X\": 0.07876121453955731, \"Y\": 0.04475225671354594}, {\"X\": 0.07892536357914146, \"Y\": 0.04483714875916127}, {\"X\": 0.07908964276662615, \"Y\": 0.04492204080477659}, {\"X\": 0.07925408463898656, \"Y\": 0.045006932850391916}, {\"X\": 0.07941912844538707, \"Y\": 0.04513427091881491}, {\"X\": 0.07958422105725028, \"Y\": 0.045289906335776335}, {\"X\": 0.0797493136691135, \"Y\": 0.04545969042700699}, {\"X\": 0.07991466657677786, \"Y\": 0.04551628512408387}, {\"X\": 0.08008006828990491, \"Y\": 0.04565777186677608}, {\"X\": 0.08024556761395737, \"Y\": 0.0459407453521605}, {\"X\": 0.08041118081742285, \"Y\": 0.04595489402642972}, {\"X\": 0.08057684282635103, \"Y\": 0.04602563739777583}, {\"X\": 0.08074253737225434, \"Y\": 0.04612467811766038}, {\"X\": 0.08090829699210794, \"Y\": 0.04618127281473726}, {\"X\": 0.08107443078717566, \"Y\": 0.04632275955742947}, {\"X\": 0.0812406621931688, \"Y\": 0.0464783949743909}, {\"X\": 0.08140695867311222, \"Y\": 0.04660573304281389}, {\"X\": 0.08157330395851835, \"Y\": 0.04667647641415999}, {\"X\": 0.08174003968762616, \"Y\": 0.04670477376269844}, {\"X\": 0.08190697063858483, \"Y\": 0.0468179631568522}, {\"X\": 0.08207437337568303, \"Y\": 0.046874557853929084}, {\"X\": 0.08224278475901058, \"Y\": 0.046987747248082856}, {\"X\": 0.08241137509570141, \"Y\": 0.04710093664223662}, {\"X\": 0.0825802582651685, \"Y\": 0.04721412603639039}, {\"X\": 0.08274915770312317, \"Y\": 0.04729901808200571}, {\"X\": 0.08291815475200326, \"Y\": 0.04732731543054416}, {\"X\": 0.0830875585130726, \"Y\": 0.04738391012762104}, {\"X\": 0.08325702734809222, \"Y\": 0.04753954554458247}, {\"X\": 0.08342649618311185, \"Y\": 0.04776592433289001}, {\"X\": 0.08359606262905689, \"Y\": 0.04800645179546677}, {\"X\": 0.0837658731023155, \"Y\": 0.04809134384108209}, {\"X\": 0.08393592760288765, \"Y\": 0.0482328305837743}, {\"X\": 0.0841062586677485, \"Y\": 0.048473358046351056}, {\"X\": 0.08427685002841047, \"Y\": 0.048572398766235605}, {\"X\": 0.08444810839706283, \"Y\": 0.04864314213758171}, {\"X\": 0.08461949691361574, \"Y\": 0.04868558816038937}, {\"X\": 0.08479142229025849, \"Y\": 0.048713885508927815}, {\"X\": 0.08496347781480178, \"Y\": 0.04892611562296613}, {\"X\": 0.08513676974440042, \"Y\": 0.04908175103992756}, {\"X\": 0.08531035450677533, \"Y\": 0.04926568380542743}, {\"X\": 0.08548405314856322, \"Y\": 0.049336427176773535}, {\"X\": 0.08565788193825169, \"Y\": 0.04949206259373497}, {\"X\": 0.08583185714432828, \"Y\": 0.049619400662157954}, {\"X\": 0.086006206525619, \"Y\": 0.049874076799003936}, {\"X\": 0.08618106023002438, \"Y\": 0.049916522821811596}, {\"X\": 0.08635617423023088, \"Y\": 0.050015563541696145}, {\"X\": 0.08653159733170124, \"Y\": 0.05014290161011913}, {\"X\": 0.08670726446048514, \"Y\": 0.05018534763292679}, {\"X\": 0.0868830617371696, \"Y\": 0.05042587509550355}, {\"X\": 0.08705910304116762, \"Y\": 0.05060980786100342}, {\"X\": 0.0872357137422306, \"Y\": 0.050680551232349526}, {\"X\": 0.08741263354455742, \"Y\": 0.050737145929426415}, {\"X\": 0.08758979737419778, \"Y\": 0.051020119414810834}, {\"X\": 0.08776761194334096, \"Y\": 0.05104841676334927}, {\"X\": 0.08794554039189713, \"Y\": 0.051175754831772266}, {\"X\": 0.088123745404742, \"Y\": 0.05127479555165681}, {\"X\": 0.08830196668607443, \"Y\": 0.051359687597272136}, {\"X\": 0.08848067602203398, \"Y\": 0.05144457964288746}, {\"X\": 0.08865948296891894, \"Y\": 0.05165680975692578}, {\"X\": 0.08883872916496831, \"Y\": 0.051685107105464215}, {\"X\": 0.08901841461018206, \"Y\": 0.051685107105464215}, {\"X\": 0.08919810005539583, \"Y\": 0.051784147825348764}, {\"X\": 0.0893778343060723, \"Y\": 0.051939783242310196}, {\"X\": 0.08955761736221149, \"Y\": 0.05210956733354085}, {\"X\": 0.08973783966751506, \"Y\": 0.05215201335634851}, {\"X\": 0.08991811077828135, \"Y\": 0.05233594612184838}, {\"X\": 0.09009898382308774, \"Y\": 0.05237839214465605}, {\"X\": 0.09028000328428228, \"Y\": 0.052463284190271374}, {\"X\": 0.09046105528245194, \"Y\": 0.05259062225869436}, {\"X\": 0.09064222116003459, \"Y\": 0.052604770932963583}, {\"X\": 0.09082376121283137, \"Y\": 0.052703811652848126}, {\"X\": 0.09100557782991683, \"Y\": 0.05291604176688644}, {\"X\": 0.09118809399196783, \"Y\": 0.05317071790373242}, {\"X\": 0.09137075657040694, \"Y\": 0.05335465066923229}, {\"X\": 0.09155361437069691, \"Y\": 0.053411245366309174}, {\"X\": 0.09173665112435016, \"Y\": 0.05365177282888593}, {\"X\": 0.09191980175741639, \"Y\": 0.05379325957157814}, {\"X\": 0.09210305000140803, \"Y\": 0.05383570559438581}, {\"X\": 0.0922870628643155, \"Y\": 0.05404793570842412}, {\"X\": 0.09247149870789978, \"Y\": 0.05417527377684711}, {\"X\": 0.09265608096787219, \"Y\": 0.05426016582246244}, {\"X\": 0.09284082591272032, \"Y\": 0.05433090919380854}, {\"X\": 0.09302560339454358, \"Y\": 0.054387503890885425}, {\"X\": 0.09321049475577982, \"Y\": 0.05461388267919296}, {\"X\": 0.09339545119096636, \"Y\": 0.05465632870200062}, {\"X\": 0.09358094448624271, \"Y\": 0.054868558816038936}, {\"X\": 0.09376656792941962, \"Y\": 0.055293019044115564}, {\"X\": 0.0939524842053728, \"Y\": 0.05549110048388466}, {\"X\": 0.09413864450863954, \"Y\": 0.05556184385523077}, {\"X\": 0.09432589480057348, \"Y\": 0.0557882226435383}, {\"X\": 0.09451332404587069, \"Y\": 0.055873114689153625}, {\"X\": 0.09470093224453117, \"Y\": 0.05588726336342285}, {\"X\": 0.09488899596084363, \"Y\": 0.05592970938623051}, {\"X\": 0.0950771084826188, \"Y\": 0.056156088174538044}, {\"X\": 0.09526538368926968, \"Y\": 0.05634002094003792}, {\"X\": 0.09545388665474652, \"Y\": 0.05656639972834546}, {\"X\": 0.09564282886938778, \"Y\": 0.056707886471037666}, {\"X\": 0.09583188496344203, \"Y\": 0.05676448116811455}, {\"X\": 0.09602112001085954, \"Y\": 0.05686352188799909}, {\"X\": 0.0962104364007149, \"Y\": 0.05694841393361442}, {\"X\": 0.09639981786452057, \"Y\": 0.05735872548742183}, {\"X\": 0.09658945962412734, \"Y\": 0.057613401624267806}, {\"X\": 0.09677916645768439, \"Y\": 0.057754888366960015}, {\"X\": 0.0969692800034307, \"Y\": 0.05782563173830612}, {\"X\": 0.09715945862312729, \"Y\": 0.05786807776111379}, {\"X\": 0.09735158946133232, \"Y\": 0.05802371317807521}, {\"X\": 0.09754463133484129, \"Y\": 0.05825009196638275}, {\"X\": 0.09773785216171352, \"Y\": 0.05839157870907496}, {\"X\": 0.09793157731170044, \"Y\": 0.05849061942895951}, {\"X\": 0.0981253838041252, \"Y\": 0.05856136280030561}, {\"X\": 0.09831922283352511, \"Y\": 0.0586887008687286}, {\"X\": 0.09851309439990015, \"Y\": 0.058900930982766914}, {\"X\": 0.09870742148392717, \"Y\": 0.05907071507399757}, {\"X\": 0.09890199259526773, \"Y\": 0.059226350490959}, {\"X\": 0.09909657997509587, \"Y\": 0.05936783723365121}, {\"X\": 0.09929123242887429, \"Y\": 0.059438580604997314}, {\"X\": 0.09948653562215552, \"Y\": 0.05955176999915108}, {\"X\": 0.09968211537972545, \"Y\": 0.05965081071903563}, {\"X\": 0.09987769513729539, \"Y\": 0.0599054868558816}, {\"X\": 0.10007377921797998, \"Y\": 0.06000452757576615}, {\"X\": 0.10027074179699338, \"Y\": 0.060160162992727584}, {\"X\": 0.1004679158663452, \"Y\": 0.06027335238688135}, {\"X\": 0.10066515500964729, \"Y\": 0.0603723931067659}, {\"X\": 0.10086293101303921, \"Y\": 0.06047143382665044}, {\"X\": 0.10106122760803338, \"Y\": 0.06065536659215032}, {\"X\": 0.10125970315639081, \"Y\": 0.0607119612892272}, {\"X\": 0.10145824377869853, \"Y\": 0.06079685333484253}, {\"X\": 0.10165732126109607, \"Y\": 0.06099493477461162}, {\"X\": 0.10185677291870772, \"Y\": 0.06134865163134214}, {\"X\": 0.10205633845573236, \"Y\": 0.06149013837403435}, {\"X\": 0.10225592026124458, \"Y\": 0.061504287048303574}, {\"X\": 0.10245569728860764, \"Y\": 0.061659922465265006}, {\"X\": 0.10265581595420967, \"Y\": 0.06167407113953423}, {\"X\": 0.102855999693762, \"Y\": 0.06175896318514955}, {\"X\": 0.10305647626609057, \"Y\": 0.06188630125357254}, {\"X\": 0.10325718059724513, \"Y\": 0.061942895950649425}, {\"X\": 0.10345803134478783, \"Y\": 0.06231076148164917}, {\"X\": 0.10365935387847007, \"Y\": 0.06248054557287982}, {\"X\": 0.10386090417097829, \"Y\": 0.06262203231557203}, {\"X\": 0.10406276356475035, \"Y\": 0.0628059650810719}, {\"X\": 0.1042647368379354, \"Y\": 0.0628625597781488}, {\"X\": 0.10446675891658315, \"Y\": 0.06296160049803333}, {\"X\": 0.1046688948746439, \"Y\": 0.06306064121791788}, {\"X\": 0.10487125859153064, \"Y\": 0.06320212796061009}, {\"X\": 0.10507373618783036, \"Y\": 0.06338606072610996}, {\"X\": 0.10527639273749335, \"Y\": 0.06349925012026374}, {\"X\": 0.10548022061826141, \"Y\": 0.06364073686295595}, {\"X\": 0.10568440640575602, \"Y\": 0.06382466962845582}, {\"X\": 0.1058889338314896, \"Y\": 0.06413594046237868}, {\"X\": 0.1060936239420989, \"Y\": 0.0641500891366479}, {\"X\": 0.10629846046909631, \"Y\": 0.06423498118226323}, {\"X\": 0.10650456593812421, \"Y\": 0.06436231925068621}, {\"X\": 0.10671081782354024, \"Y\": 0.06450380599337842}, {\"X\": 0.10691726493080711, \"Y\": 0.06463114406180141}, {\"X\": 0.10712374457504913, \"Y\": 0.06498486091853194}, {\"X\": 0.10733066346845554, \"Y\": 0.0651687936840318}, {\"X\": 0.10753771250976252, \"Y\": 0.06539517247233934}, {\"X\": 0.10774482662501977, \"Y\": 0.06549421319222389}, {\"X\": 0.10795226611002844, \"Y\": 0.0657064433062622}, {\"X\": 0.10815975440049981, \"Y\": 0.0657771866776083}, {\"X\": 0.10836740537584688, \"Y\": 0.0659045247460313}, {\"X\": 0.10857536545245779, \"Y\": 0.06600356546591585}, {\"X\": 0.1087833255290687, \"Y\": 0.06611675486006961}, {\"X\": 0.10899143202206775, \"Y\": 0.06615920088287727}, {\"X\": 0.10919961985750465, \"Y\": 0.06641387701972325}, {\"X\": 0.10940862111732005, \"Y\": 0.06645632304253092}, {\"X\": 0.10961778506201117, \"Y\": 0.06652706641387703}, {\"X\": 0.10982717676552826, \"Y\": 0.06655536376241546}, {\"X\": 0.11003726801401088, \"Y\": 0.06681003989926144}, {\"X\": 0.11024755448434434, \"Y\": 0.06697982399049209}, {\"X\": 0.11045801990804108, \"Y\": 0.06709301338464586}, {\"X\": 0.11066861547963837, \"Y\": 0.06723450012733807}, {\"X\": 0.11087960149493735, \"Y\": 0.0672627974758765}, {\"X\": 0.11109094541696288, \"Y\": 0.06743258156710716}, {\"X\": 0.11130230560747598, \"Y\": 0.06750332493845326}, {\"X\": 0.11151382848286479, \"Y\": 0.06754577096126092}, {\"X\": 0.11172592075531855, \"Y\": 0.0676589603554147}, {\"X\": 0.11193806183323501, \"Y\": 0.06784289312091457}, {\"X\": 0.11215031679056449, \"Y\": 0.06805512323495289}, {\"X\": 0.11236294592310807, \"Y\": 0.06818246130337588}, {\"X\": 0.11257572147203979, \"Y\": 0.0683946914174142}, {\"X\": 0.1127885458264342, \"Y\": 0.06843713744022185}, {\"X\": 0.11300140271780378, \"Y\": 0.06850788081156796}, {\"X\": 0.11321494288565129, \"Y\": 0.06860692153145251}, {\"X\": 0.11342867827534965, \"Y\": 0.06901723308525991}, {\"X\": 0.11364257634992371, \"Y\": 0.0691445711536829}, {\"X\": 0.11385649069298535, \"Y\": 0.06922946319929822}, {\"X\": 0.11407053518394754, \"Y\": 0.06937094994199043}, {\"X\": 0.11428461221188488, \"Y\": 0.06948413933614421}, {\"X\": 0.11449870550830979, \"Y\": 0.06986615354141316}, {\"X\": 0.11471283134170984, \"Y\": 0.06999349160983616}, {\"X\": 0.11492705478603531, \"Y\": 0.07017742437533603}, {\"X\": 0.11514139210977377, \"Y\": 0.07037550581510513}, {\"X\": 0.11535613614570149, \"Y\": 0.07126687229406604}, {\"X\": 0.11557149838415688, \"Y\": 0.07152154843091202}, {\"X\": 0.11578734867723937, \"Y\": 0.07159229180225812}, {\"X\": 0.1160036219509987, \"Y\": 0.07180452191629644}, {\"X\": 0.116220122983584, \"Y\": 0.07191771131045022}, {\"X\": 0.1164370632653337, \"Y\": 0.07198845468179632}, {\"X\": 0.11665468682356137, \"Y\": 0.0720450493788732}, {\"X\": 0.11687258694607773, \"Y\": 0.07232802286425762}, {\"X\": 0.11709084497532063, \"Y\": 0.07252610430402671}, {\"X\": 0.11730952598524035, \"Y\": 0.07271003706952658}, {\"X\": 0.11752825580062279, \"Y\": 0.07289396983502645}, {\"X\": 0.11774706695844307, \"Y\": 0.07295056453210334}, {\"X\": 0.11796599199567635, \"Y\": 0.07309205127479555}, {\"X\": 0.11818605582703956, \"Y\": 0.07340332210871842}, {\"X\": 0.11840626607479089, \"Y\": 0.07347406548006452}, {\"X\": 0.11862657393346765, \"Y\": 0.07357310619994907}, {\"X\": 0.1188472071618958, \"Y\": 0.07391267438241036}, {\"X\": 0.11906792173276182, \"Y\": 0.07396926907948725}, {\"X\": 0.1192888152569911, \"Y\": 0.07401171510229491}, {\"X\": 0.11950972504970796, \"Y\": 0.0740683097993718}, {\"X\": 0.11973133438739034, \"Y\": 0.07420979654206401}, {\"X\": 0.11995322028936141, \"Y\": 0.07432298593621778}, {\"X\": 0.12017528514469575, \"Y\": 0.07452106737598688}, {\"X\": 0.12039739880549281, \"Y\": 0.07470500014148675}, {\"X\": 0.12061952873477744, \"Y\": 0.07488893290698662}, {\"X\": 0.12084174000649991, \"Y\": 0.0749455276040635}, {\"X\": 0.1210640488891478, \"Y\": 0.07500212230114038}, {\"X\": 0.12128665060457197, \"Y\": 0.07507286567248649}, {\"X\": 0.12150975664311083, \"Y\": 0.07515775771810182}, {\"X\": 0.12173294402408752, \"Y\": 0.0752143524151787}, {\"X\": 0.12195618021052691, \"Y\": 0.07536998783214013}, {\"X\": 0.12217944893394146, \"Y\": 0.0754124338549478}, {\"X\": 0.1224031081010577, \"Y\": 0.07551147457483234}, {\"X\": 0.12262741800767674, \"Y\": 0.07568125866606298}, {\"X\": 0.12285198821009691, \"Y\": 0.07586519143156287}, {\"X\": 0.12307673736588035, \"Y\": 0.07610571889413961}, {\"X\": 0.12330187696536549, \"Y\": 0.0762330569625626}, {\"X\": 0.12352747208250257, \"Y\": 0.07653017912221625}, {\"X\": 0.12375306719963967, \"Y\": 0.07678485525906223}, {\"X\": 0.12397879246467733, \"Y\": 0.0770395313959082}, {\"X\": 0.12420458280366527, \"Y\": 0.0772376128356773}, {\"X\": 0.12443056836450406, \"Y\": 0.07752058632106172}, {\"X\": 0.12465689556358181, \"Y\": 0.0775771810181386}, {\"X\": 0.12488327156812229, \"Y\": 0.07770451908656159}, {\"X\": 0.12510997294241416, \"Y\": 0.07778941113217691}, {\"X\": 0.12533678819611901, \"Y\": 0.0780440872690229}, {\"X\": 0.125563863745625, \"Y\": 0.07832706075440732}, {\"X\": 0.12579152496068355, \"Y\": 0.07846854749709953}, {\"X\": 0.12601939766608047, \"Y\": 0.07862418291406095}, {\"X\": 0.12624761200971638, \"Y\": 0.07880811567956082}, {\"X\": 0.12647605411217827, \"Y\": 0.07896375109652226}, {\"X\": 0.1267045287516153, \"Y\": 0.07909108916494524}, {\"X\": 0.12693376800996817, \"Y\": 0.07923257590763745}, {\"X\": 0.12716364173933623, \"Y\": 0.07937406265032966}, {\"X\": 0.1273935317371919, \"Y\": 0.0795296980672911}, {\"X\": 0.12762353561446052, \"Y\": 0.07969948215852175}, {\"X\": 0.12785357202870432, \"Y\": 0.07981267155267552}, {\"X\": 0.12808404769211248, \"Y\": 0.07991171227256007}, {\"X\": 0.12831452335552068, \"Y\": 0.08002490166671383}, {\"X\": 0.12854517797229212, \"Y\": 0.0802088344322137}, {\"X\": 0.12877586512603872, \"Y\": 0.08039276719771357}, {\"X\": 0.1290066173537356, \"Y\": 0.08057669996321344}, {\"X\": 0.12923736958143248, \"Y\": 0.08070403803163644}, {\"X\": 0.12946815434610448, \"Y\": 0.08093041681994396}, {\"X\": 0.12969955731330418, \"Y\": 0.08117094428252072}, {\"X\": 0.129931106696892, \"Y\": 0.08126998500240527}, {\"X\": 0.13016301398720637, \"Y\": 0.08131243102521293}, {\"X\": 0.13039513276785913, \"Y\": 0.08141147174509748}, {\"X\": 0.13062730035397463, \"Y\": 0.08155295848778969}, {\"X\": 0.13085966316194098, \"Y\": 0.08165199920767424}, {\"X\": 0.131092302534196, \"Y\": 0.08185008064744334}, {\"X\": 0.1313250069804013, \"Y\": 0.08197741871586632}, {\"X\": 0.13155776023206933, \"Y\": 0.08220379750417386}, {\"X\": 0.1317910828808023, \"Y\": 0.0823028382240584}, {\"X\": 0.13202520268542622, \"Y\": 0.08279804182348113}, {\"X\": 0.13225955024887615, \"Y\": 0.08293952856617334}, {\"X\": 0.13249401169173905, \"Y\": 0.08302442061178868}, {\"X\": 0.13272858701401494, \"Y\": 0.08316590735448089}, {\"X\": 0.13296348770604222, \"Y\": 0.0832507994000962}, {\"X\": 0.13319840466655708, \"Y\": 0.08334984011998076}, {\"X\": 0.13343376087623635, \"Y\": 0.08343473216559609}, {\"X\": 0.13366932857625405, \"Y\": 0.08351962421121141}, {\"X\": 0.13390492881324687, \"Y\": 0.08354792155974985}, {\"X\": 0.13414061039267752, \"Y\": 0.08374600299951894}, {\"X\": 0.13437638958303363, \"Y\": 0.08384504371940349}, {\"X\": 0.1346124941431411, \"Y\": 0.08408557118198025}, {\"X\": 0.13484921690577628, \"Y\": 0.08419876057613401}, {\"X\": 0.13508605354782444, \"Y\": 0.08452418008432609}, {\"X\": 0.13532306914323589, \"Y\": 0.08462322080421064}, {\"X\": 0.1355603124974733, \"Y\": 0.08477885622117208}, {\"X\": 0.13579763719414856, \"Y\": 0.08509012705509494}, {\"X\": 0.1360351408441871, \"Y\": 0.08514672175217182}, {\"X\": 0.13627269329968836, \"Y\": 0.08518916777497948}, {\"X\": 0.13651053858796589, \"Y\": 0.08530235716913326}, {\"X\": 0.13674913222667165, \"Y\": 0.08552873595744079}, {\"X\": 0.13698827899395477, \"Y\": 0.08568437137440221}, {\"X\": 0.13722747456670062, \"Y\": 0.0857409660714791}, {\"X\": 0.13746706058314817, \"Y\": 0.08585415546563287}, {\"X\": 0.13770684182144655, \"Y\": 0.08605223690540197}, {\"X\": 0.1379466881336952, \"Y\": 0.08620787232236339}, {\"X\": 0.138186794741745, \"Y\": 0.08643425111067093}, {\"X\": 0.1384271128401332, \"Y\": 0.08646254845920937}, {\"X\": 0.1386674309385214, \"Y\": 0.0866181838761708}, {\"X\": 0.13890778157388475, \"Y\": 0.08700019808143977}, {\"X\": 0.13914819728319835, \"Y\": 0.08725487421828575}, {\"X\": 0.1393889871677261, \"Y\": 0.08759444240074706}, {\"X\": 0.13963015122746797, \"Y\": 0.08769348312063159}, {\"X\": 0.13987178707334935, \"Y\": 0.08779252384051614}, {\"X\": 0.14011363440956917, \"Y\": 0.08800475395455445}, {\"X\": 0.14035577457856524, \"Y\": 0.08820283539432355}, {\"X\": 0.1405988583198404, \"Y\": 0.0883018761142081}, {\"X\": 0.14084282055944433, \"Y\": 0.08857070092532329}, {\"X\": 0.1410868804099737, \"Y\": 0.08896686380486149}, {\"X\": 0.14133133070420476, \"Y\": 0.089447918730015}, {\"X\": 0.14157635039550076, \"Y\": 0.08970259486686097}, {\"X\": 0.14182138635528435, \"Y\": 0.0899148249808993}, {\"X\": 0.14206668261086905, \"Y\": 0.09015535244347604}, {\"X\": 0.14231285736478255, \"Y\": 0.09019779846628372}, {\"X\": 0.14255924360903446, \"Y\": 0.09053736664874501}, {\"X\": 0.14280652462010276, \"Y\": 0.09101842157389853}, {\"X\": 0.14305395204755916, \"Y\": 0.09121650301366761}, {\"X\": 0.14330147708594101, \"Y\": 0.09141458445343671}, {\"X\": 0.14354991315962679, \"Y\": 0.09157021987039814}, {\"X\": 0.14379839803877525, \"Y\": 0.09176830131016724}, {\"X\": 0.14404693172338645, \"Y\": 0.09198053142420555}, {\"X\": 0.14429562809287336, \"Y\": 0.09261722176632049}, {\"X\": 0.14454448714723594, \"Y\": 0.0927587085090127}, {\"X\": 0.14479341127554882, \"Y\": 0.09292849260024336}, {\"X\": 0.14504243301478711, \"Y\": 0.09301338464585868}, {\"X\": 0.14529187773470226, \"Y\": 0.09319731741135856}, {\"X\": 0.14554233110084674, \"Y\": 0.09328220945697388}, {\"X\": 0.1457928007354788, \"Y\": 0.09338125017685843}, {\"X\": 0.14604366081381254, \"Y\": 0.0934944395710122}, {\"X\": 0.14629474865097228, \"Y\": 0.09381985907920427}, {\"X\": 0.14654591783056986, \"Y\": 0.09410283256458869}, {\"X\": 0.1467971520841177, \"Y\": 0.09418772461020403}, {\"X\": 0.14704889066078025, \"Y\": 0.09445654942131922}, {\"X\": 0.14730064550593036, \"Y\": 0.09448484676985766}, {\"X\": 0.14755244915654317, \"Y\": 0.09476782025524208}, {\"X\": 0.147804366686569, \"Y\": 0.09485271230085741}, {\"X\": 0.14805646316995807, \"Y\": 0.0950507937406265}, {\"X\": 0.14830895009704884, \"Y\": 0.09519228048331871}, {\"X\": 0.1485616159775029, \"Y\": 0.09565918673420301}, {\"X\": 0.14881465603317107, \"Y\": 0.09582897082543365}, {\"X\": 0.14906828175439174, \"Y\": 0.09616853900789496}, {\"X\": 0.1493228673163791, \"Y\": 0.0964656611675486}, {\"X\": 0.1495776806371924, \"Y\": 0.09670618863012535}, {\"X\": 0.1498327217168317, \"Y\": 0.0968052293500099}, {\"X\": 0.15008786040739644, \"Y\": 0.09687597272135601}, {\"X\": 0.15034364983746398, \"Y\": 0.09690427006989445}, {\"X\": 0.1506002201549349, \"Y\": 0.09697501344124056}, {\"X\": 0.1508569043518188, \"Y\": 0.0974843657149325}, {\"X\": 0.15111384884450382, \"Y\": 0.09776733920031692}, {\"X\": 0.15137085841113915, \"Y\": 0.09824839412547044}, {\"X\": 0.15162897423492921, \"Y\": 0.09843232689097031}, {\"X\": 0.1518877570667097, \"Y\": 0.09851721893658565}, {\"X\": 0.1521469140737043, \"Y\": 0.09923880132431591}, {\"X\": 0.15240701465297796, \"Y\": 0.09942273408981578}, {\"X\": 0.15266812387848097, \"Y\": 0.09950762613543111}, {\"X\": 0.15293068099937773, \"Y\": 0.09960666685531566}, {\"X\": 0.15319403527616546, \"Y\": 0.09986134299216164}, {\"X\": 0.15345747089539105, \"Y\": 0.1001018704547384}, {\"X\": 0.15372092278310417, \"Y\": 0.10027165454596905}, {\"X\": 0.15398439093930488, \"Y\": 0.10044143863719969}, {\"X\": 0.15424855864047113, \"Y\": 0.10063952007696879}, {\"X\": 0.15451284022105036, \"Y\": 0.10100738560796853}, {\"X\": 0.1547772682180177, \"Y\": 0.10109227765358386}, {\"X\": 0.15504215173263705, \"Y\": 0.10119131837346841}, {\"X\": 0.15530732808003264, \"Y\": 0.1013893998132375}, {\"X\": 0.15557286233415477, \"Y\": 0.10143184583604516}, {\"X\": 0.15583881956895373, \"Y\": 0.10151673788166049}, {\"X\": 0.15610523232140466, \"Y\": 0.1015308865559297}, {\"X\": 0.15637226327638326, \"Y\": 0.10175726534423725}, {\"X\": 0.1566398798969144, \"Y\": 0.10184215738985257}, {\"X\": 0.15690754532290824, \"Y\": 0.10198364413254478}, {\"X\": 0.15717529209133996, \"Y\": 0.10228076629219843}, {\"X\": 0.15744351064591117, \"Y\": 0.1024646990576983}, {\"X\": 0.15771174546897, \"Y\": 0.10262033447465972}, {\"X\": 0.15798022431934233, \"Y\": 0.10279011856589038}, {\"X\": 0.1582487031697147, \"Y\": 0.10305894337700558}, {\"X\": 0.15851776768563958, \"Y\": 0.10337021421092843}, {\"X\": 0.15878751547804243, \"Y\": 0.10353999830215908}, {\"X\": 0.1590576374456594, \"Y\": 0.10363903902204363}, {\"X\": 0.1593279546351272, \"Y\": 0.10378052576473584}, {\"X\": 0.15959835316703283, \"Y\": 0.1038229717875435}, {\"X\": 0.15986876796742605, \"Y\": 0.10410594527292792}, {\"X\": 0.1601398823127848, \"Y\": 0.10441721610685079}, {\"X\": 0.16041124068545712, \"Y\": 0.10451625682673533}, {\"X\": 0.16068269666905483, \"Y\": 0.10481337898638897}, {\"X\": 0.16095465697576722, \"Y\": 0.10492656838054275}, {\"X\": 0.16122754458627114, \"Y\": 0.10516709584311949}, {\"X\": 0.16150065995560103, \"Y\": 0.10540762330569625}, {\"X\": 0.1617739380098066, \"Y\": 0.10574719148815756}, {\"X\": 0.16204861515394325, \"Y\": 0.10598771895073432}, {\"X\": 0.1623238454266573, \"Y\": 0.1061858003905034}, {\"X\": 0.16259931972668484, \"Y\": 0.10641217917881095}, {\"X\": 0.162875151933439, \"Y\": 0.10652536857296471}, {\"X\": 0.1631516999536462, \"Y\": 0.10676589603554147}, {\"X\": 0.16342871975999296, \"Y\": 0.10707716686946434}, {\"X\": 0.1637057883718024, \"Y\": 0.10723280228642576}, {\"X\": 0.1639832962327763, \"Y\": 0.10778460058292538}, {\"X\": 0.1642608366307253, \"Y\": 0.10788364130280993}, {\"X\": 0.16453847463959972, \"Y\": 0.10825150683380967}, {\"X\": 0.1648170074152905, \"Y\": 0.10843543959930954}, {\"X\": 0.16509609331955868, \"Y\": 0.10873256175896319}, {\"X\": 0.16537644816585736, \"Y\": 0.10890234585019384}, {\"X\": 0.16565711211341985, \"Y\": 0.10924191403265514}, {\"X\": 0.16593784113493265, \"Y\": 0.10945414414669345}, {\"X\": 0.16621865149888326, \"Y\": 0.10951073884377034}, {\"X\": 0.1664996896216599, \"Y\": 0.10992105039757774}, {\"X\": 0.16678136221545176, \"Y\": 0.11002009111746229}, {\"X\": 0.167063132420169, \"Y\": 0.11020402388296216}, {\"X\": 0.16734547202195127, \"Y\": 0.11031721327711594}, {\"X\": 0.16762795804012165, \"Y\": 0.11041625399700047}, {\"X\": 0.16791156658393436, \"Y\": 0.11081241687653867}, {\"X\": 0.16819517512774707, \"Y\": 0.11106709301338465}, {\"X\": 0.16847969470686375, \"Y\": 0.11112368771046154}, {\"X\": 0.16876452338724424, \"Y\": 0.11139251252157673}, {\"X\": 0.1690508975739439, \"Y\": 0.11170378335549959}, {\"X\": 0.1693375157879571, \"Y\": 0.11181697274965335}, {\"X\": 0.1696241502704579, \"Y\": 0.11219898695492232}, {\"X\": 0.16991104504875984, \"Y\": 0.11224143297772998}, {\"X\": 0.170198118780425, \"Y\": 0.11256685248592208}, {\"X\": 0.17048520878057777, \"Y\": 0.1127932312742296}, {\"X\": 0.1707723150492181, \"Y\": 0.11318939415376779}, {\"X\": 0.17105955146575902, \"Y\": 0.11355725968476754}, {\"X\": 0.17134690176171288, \"Y\": 0.11362800305611365}, {\"X\": 0.17163447981649277, \"Y\": 0.11375534112453663}, {\"X\": 0.1719223507040489, \"Y\": 0.11384023317015196}, {\"X\": 0.1722107259147197, \"Y\": 0.11398171991284417}, {\"X\": 0.17249976813338092, \"Y\": 0.11410905798126715}, {\"X\": 0.17278923333271892, \"Y\": 0.11425054472395936}, {\"X\": 0.17307887748542022, \"Y\": 0.11436373411811314}, {\"X\": 0.1733687005914848, \"Y\": 0.11495797843742041}, {\"X\": 0.17365972756562956, \"Y\": 0.11522680324853561}, {\"X\": 0.1739508196137246, \"Y\": 0.11555222275672769}, {\"X\": 0.1742421068836705, \"Y\": 0.11587764226491978}, {\"X\": 0.17453422384648248, \"Y\": 0.11599083165907355}, {\"X\": 0.17482760975132494, \"Y\": 0.11621721044738108}, {\"X\": 0.17512180908054592, \"Y\": 0.11637284586434252}, {\"X\": 0.17541661034380698, \"Y\": 0.1165001839327655}, {\"X\": 0.17571242025329742, \"Y\": 0.11674071139534226}, {\"X\": 0.17600892970775336, \"Y\": 0.11682560344095758}, {\"X\": 0.17630550423615962, \"Y\": 0.11700953620645746}, {\"X\": 0.1766027620410438, \"Y\": 0.11715102294914967}, {\"X\": 0.17690028014172912, \"Y\": 0.11768867257138006}, {\"X\": 0.17719794465880256, \"Y\": 0.11783015931407227}, {\"X\": 0.17749622737840368, \"Y\": 0.11795749738249527}, {\"X\": 0.1777946727828805, \"Y\": 0.1182546195421489}, {\"X\": 0.17809337848315843, \"Y\": 0.11828291689068735}, {\"X\": 0.1783925071641132, \"Y\": 0.11870737711876397}, {\"X\": 0.17869171718750582, \"Y\": 0.11894790458134073}, {\"X\": 0.17899104109031144, \"Y\": 0.11944310818076347}, {\"X\": 0.17929038126160463, \"Y\": 0.11958459492345568}, {\"X\": 0.1795900468026492, \"Y\": 0.11962704094626334}, {\"X\": 0.17988974488066894, \"Y\": 0.11991001443164775}, {\"X\": 0.18018962191205193, \"Y\": 0.12036277200826283}, {\"X\": 0.18049054012663943, \"Y\": 0.1208155295848779}, {\"X\": 0.18079155595215235, \"Y\": 0.12118339511587764}, {\"X\": 0.18109356415540706, \"Y\": 0.12138147655564674}, {\"X\": 0.1813956211641245, \"Y\": 0.1215512606468774}, {\"X\": 0.1816976781728419, \"Y\": 0.12159370666968505}, {\"X\": 0.18200054860593784, \"Y\": 0.12215965364045389}, {\"X\": 0.18230359799239707, \"Y\": 0.12224454568606921}, {\"X\": 0.18260681006373197, \"Y\": 0.12240018110303065}, {\"X\": 0.18291033123633071, \"Y\": 0.12258411386853052}, {\"X\": 0.18321408016775545, \"Y\": 0.12273974928549194}, {\"X\": 0.18351799178405587, \"Y\": 0.12292368205099183}, {\"X\": 0.18382193593733145, \"Y\": 0.12322080421064546}, {\"X\": 0.18412646575615954, \"Y\": 0.12357452106737599}, {\"X\": 0.18443138601868933, \"Y\": 0.12375845383287586}, {\"X\": 0.18473747761232417, \"Y\": 0.12387164322702962}, {\"X\": 0.18504376442780987, \"Y\": 0.12433854947791392}, {\"X\": 0.1853505718348978, \"Y\": 0.12462152296329834}, {\"X\": 0.1856575256583739, \"Y\": 0.12473471235745211}, {\"X\": 0.18596480485160138, \"Y\": 0.12481960440306743}, {\"X\": 0.18627236060911756, \"Y\": 0.12497523982002887}, {\"X\": 0.18658017666243484, \"Y\": 0.12517332125979796}, {\"X\": 0.18688810659516514, \"Y\": 0.1255411867907977}, {\"X\": 0.18719610160184572, \"Y\": 0.1259373496703359}, {\"X\": 0.18750471481105396, \"Y\": 0.12606468773875887}, {\"X\": 0.18781407637069045, \"Y\": 0.12622032315572032}, {\"X\": 0.18812397479041673, \"Y\": 0.1264184045954894}, {\"X\": 0.1884343775332577, \"Y\": 0.1264891479668355}, {\"X\": 0.18874500803492467, \"Y\": 0.1268853108463737}, {\"X\": 0.18905607778575603, \"Y\": 0.12732391974871954}, {\"X\": 0.18936776573911504, \"Y\": 0.12770593395398852}, {\"X\": 0.18968046233870345, \"Y\": 0.12793231274229605}, {\"X\": 0.1899939886311579, \"Y\": 0.12813039418206515}, {\"X\": 0.19030816566311518, \"Y\": 0.12822943490194968}, {\"X\": 0.19062252164843574, \"Y\": 0.12845581369025721}, {\"X\": 0.1909373656883834, \"Y\": 0.12861144910721867}, {\"X\": 0.19125263270900789, \"Y\": 0.12879538187271852}, {\"X\": 0.1915683227103092, \"Y\": 0.12893686861541073}, {\"X\": 0.19188503762632744, \"Y\": 0.12909250403237216}, {\"X\": 0.1922017525423457, \"Y\": 0.12912080138091062}, {\"X\": 0.1925188090966029, \"Y\": 0.12923399077506437}, {\"X\": 0.19283693937103977, \"Y\": 0.12940377486629503}, {\"X\": 0.19315511845093933, \"Y\": 0.1301395059282945}, {\"X\": 0.19347442005648127, \"Y\": 0.1305922635049096}, {\"X\": 0.1937941609111876, \"Y\": 0.13069130422479414}, {\"X\": 0.19411396683984417, \"Y\": 0.13101672373298623}, {\"X\": 0.1944340330643019, \"Y\": 0.13163926540083193}, {\"X\": 0.19475418063119748, \"Y\": 0.13183734684060103}, {\"X\": 0.19507488132667045, \"Y\": 0.13199298225756248}, {\"X\": 0.19539558202214338, \"Y\": 0.13212032032598545}, {\"X\": 0.1957164291340045, \"Y\": 0.13219106369733155}, {\"X\": 0.1960378781799057, \"Y\": 0.13247403718271597}, {\"X\": 0.19635944110521988, \"Y\": 0.13258722657686975}, {\"X\": 0.1966814758166736, \"Y\": 0.13281360536517728}, {\"X\": 0.19700354306510248, \"Y\": 0.1328984974107926}, {\"X\": 0.19732575672991948, \"Y\": 0.13339370101021533}, {\"X\": 0.19764798666322403, \"Y\": 0.13360593112425365}, {\"X\": 0.19797052569779244, \"Y\": 0.13400209400379184}, {\"X\": 0.1982933087596744, \"Y\": 0.13417187809502248}, {\"X\": 0.19861618943248177, \"Y\": 0.1343841082090608}, {\"X\": 0.1989391677162146, \"Y\": 0.13473782506579132}, {\"X\": 0.19926305703525132, \"Y\": 0.1351905826424064}, {\"X\": 0.19958767843622874, \"Y\": 0.13586971900732903}, {\"X\": 0.19991234864266882, \"Y\": 0.13609609779563656}, {\"X\": 0.20023718153398465, \"Y\": 0.1362092871897903}, {\"X\": 0.2005623886005146, \"Y\": 0.1367327881377515}, {\"X\": 0.20088762820401965, \"Y\": 0.13715724836582813}, {\"X\": 0.20121319317727612, \"Y\": 0.1376807493137893}, {\"X\": 0.2015388720299456, \"Y\": 0.13780808738221229}, {\"X\": 0.20186484371539135, \"Y\": 0.1382183989360197}, {\"X\": 0.20219133599243932, \"Y\": 0.13860041314128865}, {\"X\": 0.20251828378713926, \"Y\": 0.13892583264948075}, {\"X\": 0.20284558948856576, \"Y\": 0.13901072469509607}, {\"X\": 0.20317309041184312, \"Y\": 0.13946348227171115}, {\"X\": 0.2035011607321854, \"Y\": 0.13974645575709557}, {\"X\": 0.20382963776471696, \"Y\": 0.14005772659101842}, {\"X\": 0.20415821240817394, \"Y\": 0.14019921333371063}, {\"X\": 0.20448781196634785, \"Y\": 0.1406519709103257}, {\"X\": 0.20481858285562682, \"Y\": 0.140991539092787}, {\"X\": 0.2051496791146572, \"Y\": 0.14147259401794052}, {\"X\": 0.20548114954890168, \"Y\": 0.14167067545770962}, {\"X\": 0.20581268505709646, \"Y\": 0.14206683833724779}, {\"X\": 0.20614422056529122, \"Y\": 0.1424064065197091}, {\"X\": 0.20647600010079956, \"Y\": 0.14290161011913183}, {\"X\": 0.20680821888547227, \"Y\": 0.1429440561419395}, {\"X\": 0.20714138124242407, \"Y\": 0.1434109623928238}, {\"X\": 0.207474690015764, \"Y\": 0.14377882792382354}, {\"X\": 0.20780825908490505, \"Y\": 0.1438920173179773}, {\"X\": 0.20814190949648395, \"Y\": 0.1440193553864003}, {\"X\": 0.20847573886142615, \"Y\": 0.1443730722431308}, {\"X\": 0.20880956822636831, \"Y\": 0.1446277483799768}, {\"X\": 0.20914486175519184, \"Y\": 0.1447550864483998}, {\"X\": 0.20948142422604582, \"Y\": 0.1449673165624381}, {\"X\": 0.20981868624186534, \"Y\": 0.14517954667647642}, {\"X\": 0.2101562410904611, \"Y\": 0.14580208834432215}, {\"X\": 0.21049524383445065, \"Y\": 0.1460567644811681}, {\"X\": 0.21083457194819158, \"Y\": 0.1464387786864371}, {\"X\": 0.21117420916319635, \"Y\": 0.14697642830866747}, {\"X\": 0.21151438323829094, \"Y\": 0.14717450974843657}, {\"X\": 0.21185488268313693, \"Y\": 0.147330145165398}, {\"X\": 0.21219564242378405, \"Y\": 0.14782534876482073}, {\"X\": 0.2125371993203221, \"Y\": 0.1480658762273975}, {\"X\": 0.21287900024417372, \"Y\": 0.14849033645547413}, {\"X\": 0.21322265577560837, \"Y\": 0.14884405331220465}, {\"X\": 0.21356657160284412, \"Y\": 0.1490845807747814}, {\"X\": 0.21391073145739342, \"Y\": 0.1494948923285888}, {\"X\": 0.21425528175564443, \"Y\": 0.14987690653385777}, {\"X\": 0.21460090577407506, \"Y\": 0.15014573134497297}, {\"X\": 0.21494688769923223, \"Y\": 0.15032966411047285}, {\"X\": 0.21529337394750409, \"Y\": 0.1506975296414726}, {\"X\": 0.21564060854620418, \"Y\": 0.15088146240697248}, {\"X\": 0.2159885426898698, \"Y\": 0.15124932793797222}, {\"X\": 0.21633657444446083, \"Y\": 0.15161719346897196}, {\"X\": 0.21668491530031572, \"Y\": 0.15187186960581794}, {\"X\": 0.21703343510953385, \"Y\": 0.1525085599479329}, {\"X\": 0.21738197118723956, \"Y\": 0.1526500466906251}, {\"X\": 0.21773052353343286, \"Y\": 0.1528481281303942}, {\"X\": 0.21807935244391483, \"Y\": 0.15307450691870172}, {\"X\": 0.2184292876115516, \"Y\": 0.15342822377543225}, {\"X\": 0.21877927158465107, \"Y\": 0.1538668326777781}, {\"X\": 0.21912951585355167, \"Y\": 0.15402246809473952}, {\"X\": 0.21948031325102965, \"Y\": 0.15468745578539292}, {\"X\": 0.21983114318548277, \"Y\": 0.15489968589943123}, {\"X\": 0.22018242863758786, \"Y\": 0.1550977673392003}, {\"X\": 0.2205337954321308, \"Y\": 0.15518265938481565}, {\"X\": 0.22088525983759918, \"Y\": 0.15532414612750786}, {\"X\": 0.22123703334433137, \"Y\": 0.1556920116585076}, {\"X\": 0.22159030355192005, \"Y\": 0.15613062056085344}, {\"X\": 0.22194388286077255, \"Y\": 0.1567673109029684}, {\"X\": 0.22229773873391373, \"Y\": 0.15713517643396813}, {\"X\": 0.22265165968100523, \"Y\": 0.15761623135912164}, {\"X\": 0.22300577584994755, \"Y\": 0.15808313761000595}, {\"X\": 0.22336010350922827, \"Y\": 0.1582670703755058}, {\"X\": 0.2237145938533847, \"Y\": 0.15850759783808258}, {\"X\": 0.2240696047891434, \"Y\": 0.15883301734627464}, {\"X\": 0.224426096157271, \"Y\": 0.15924332890008205}, {\"X\": 0.2247840354207923, \"Y\": 0.15965364045388947}, {\"X\": 0.22514218617465206, \"Y\": 0.15999320863635078}, {\"X\": 0.22550538015965862, \"Y\": 0.1602054387503891}, {\"X\": 0.22586984308669564, \"Y\": 0.1605591556071196}, {\"X\": 0.22623443616163322, \"Y\": 0.16065819632700415}, {\"X\": 0.22659992400338716, \"Y\": 0.1608138317439656}, {\"X\": 0.2269660137791812, \"Y\": 0.16139392738900366}, {\"X\": 0.2273321360919504, \"Y\": 0.1615778601545035}, {\"X\": 0.227698356015645, \"Y\": 0.16194572568550328}, {\"X\": 0.22806473862421534, \"Y\": 0.16239848326211834}, {\"X\": 0.22843170689833817, \"Y\": 0.16296443023288718}, {\"X\": 0.22879867517246102, \"Y\": 0.16307761962704095}, {\"X\": 0.22916609896423584, \"Y\": 0.16341718780950226}, {\"X\": 0.22953376678332418, \"Y\": 0.1635162285293868}, {\"X\": 0.22990205280494022, \"Y\": 0.16388409406038654}, {\"X\": 0.23027079434420825, \"Y\": 0.16413877019723253}, {\"X\": 0.23063953588347624, \"Y\": 0.16435100031127084}, {\"X\": 0.23100858652400807, \"Y\": 0.1647330145165398}, {\"X\": 0.23137792999731618, \"Y\": 0.16483205523642436}, {\"X\": 0.23174779406222654, \"Y\": 0.16536970485865474}, {\"X\": 0.232118260061177, \"Y\": 0.16555363762415462}, {\"X\": 0.23248897008744102, \"Y\": 0.16573757038965448}, {\"X\": 0.23286052607505867, \"Y\": 0.16599224652650046}, {\"X\": 0.23323214713662663, \"Y\": 0.16626107133761567}, {\"X\": 0.23360427252130925, \"Y\": 0.16657234217153852}, {\"X\": 0.23397683715515627, \"Y\": 0.1666996802399615}, {\"X\": 0.234349450594466, \"Y\": 0.16719488383938425}, {\"X\": 0.23472258462537798, \"Y\": 0.16764764141599933}, {\"X\": 0.2350961741739419, \"Y\": 0.16815699368969128}, {\"X\": 0.23546992640738157, \"Y\": 0.16827018308384503}, {\"X\": 0.23584540310050367, \"Y\": 0.16848241319788335}, {\"X\": 0.2362211888948896, \"Y\": 0.16899176547157532}, {\"X\": 0.23659703976322582, \"Y\": 0.1691191035399983}, {\"X\": 0.23697311839038804, \"Y\": 0.1697274965335748}, {\"X\": 0.23734955492427678, \"Y\": 0.1700670647160361}, {\"X\": 0.2377261053375785, \"Y\": 0.17029344350434364}, {\"X\": 0.23810317634248251, \"Y\": 0.17071790373242027}, {\"X\": 0.2384802961528492, \"Y\": 0.17088768782365094}, {\"X\": 0.23885809923969387, \"Y\": 0.17124140468038146}, {\"X\": 0.23923637411267806, \"Y\": 0.17149608081722742}, {\"X\": 0.23961508823482663, \"Y\": 0.17226010922776536}, {\"X\": 0.2399939813103385, \"Y\": 0.172429893318996}, {\"X\": 0.2403751031686475, \"Y\": 0.17288265089561108}, {\"X\": 0.24075629010090677, \"Y\": 0.17306658366111097}, {\"X\": 0.24113804643023098, \"Y\": 0.17381646339737966}, {\"X\": 0.24151999798140605, \"Y\": 0.17398624748861033}, {\"X\": 0.24190233997628283, \"Y\": 0.1744531537394946}, {\"X\": 0.24228552793251323, \"Y\": 0.17462293783072527}, {\"X\": 0.24267013124716227, \"Y\": 0.17508984408160955}, {\"X\": 0.24305525515341356, \"Y\": 0.17535866889272475}, {\"X\": 0.24344267291641222, \"Y\": 0.17564164237810917}, {\"X\": 0.24383017202184878, \"Y\": 0.17591046718922437}, {\"X\": 0.24421840320922597, \"Y\": 0.1759953592348397}, {\"X\": 0.24460764304283253, \"Y\": 0.17615099465180112}, {\"X\": 0.24499707809828994, \"Y\": 0.176589603554147}, {\"X\": 0.2453878959751908, \"Y\": 0.17697161775941594}, {\"X\": 0.2457798038407589, \"Y\": 0.17799032230679984}, {\"X\": 0.2461720370760784, \"Y\": 0.17848552590622258}, {\"X\": 0.24656615745595603, \"Y\": 0.17892413480856845}, {\"X\": 0.2469603754467591, \"Y\": 0.1790939188997991}, {\"X\": 0.24735467478000003, \"Y\": 0.1794476357565296}, {\"X\": 0.2477489903817285, \"Y\": 0.17973060924191403}, {\"X\": 0.24814394045447224, \"Y\": 0.18001358272729845}, {\"X\": 0.24854032215412214, \"Y\": 0.18033900223549054}, {\"X\": 0.24893774503697658, \"Y\": 0.1805795296980673}, {\"X\": 0.2493356559744581, \"Y\": 0.18087665185772092}, {\"X\": 0.24973364825437747, \"Y\": 0.1810605846232208}, {\"X\": 0.25013175441370983, \"Y\": 0.18169727496533575}, {\"X\": 0.25053350471425795, \"Y\": 0.1819378024279125}, {\"X\": 0.2509353851627066, \"Y\": 0.18219247856475848}, {\"X\": 0.2513372818796428, \"Y\": 0.18265938481564278}, {\"X\": 0.2517392924759921, \"Y\": 0.18289991227821953}, {\"X\": 0.25214349931816327, \"Y\": 0.18352245394606526}, {\"X\": 0.2525478037712599, \"Y\": 0.18391861682560345}, {\"X\": 0.2529532958239492, \"Y\": 0.18420159031098787}, {\"X\": 0.25335903190395204, \"Y\": 0.18466849656187215}, {\"X\": 0.2537655000658955, \"Y\": 0.18493732137298735}, {\"X\": 0.2541720170333017, \"Y\": 0.18509295678994878}, {\"X\": 0.2545787454910463, \"Y\": 0.18522029485837177}, {\"X\": 0.25498547394879095, \"Y\": 0.18555986304083308}, {\"X\": 0.2553922186750231, \"Y\": 0.18588528254902514}, {\"X\": 0.255799239965544, \"Y\": 0.18616825603440956}, {\"X\": 0.25620694453254284, \"Y\": 0.18656441891394776}, {\"X\": 0.2566150720802185, \"Y\": 0.18722940660460116}, {\"X\": 0.25702339484974496, \"Y\": 0.1874557853929087}, {\"X\": 0.25743277507096357, \"Y\": 0.18756897478706244}, {\"X\": 0.2578423830510081, \"Y\": 0.18831885452333116}, {\"X\": 0.25825330877854585, \"Y\": 0.1885593819859079}, {\"X\": 0.258664332117009, \"Y\": 0.1892102210022921}, {\"X\": 0.25907543679791, \"Y\": 0.18953564051048416}, {\"X\": 0.2594868017746122, \"Y\": 0.19014403350406067}, {\"X\": 0.25989865480594143, \"Y\": 0.19032796626956056}, {\"X\": 0.26031050783727067, \"Y\": 0.19052604770932963}, {\"X\": 0.2607226048959135, \"Y\": 0.19106369733156003}, {\"X\": 0.2611348483709444, \"Y\": 0.19130422479413678}, {\"X\": 0.2615472870678262, \"Y\": 0.19194091513625172}, {\"X\": 0.2619602463563102, \"Y\": 0.19222388862163614}, {\"X\": 0.26237327071874456, \"Y\": 0.19263420017544355}, {\"X\": 0.26278636015512913, \"Y\": 0.19283228161521265}, {\"X\": 0.26319982376672785, \"Y\": 0.19318599847194318}, {\"X\": 0.2636134337947147, \"Y\": 0.19344067460878916}, {\"X\": 0.2640271251651394, \"Y\": 0.1937943914655197}, {\"X\": 0.2644410117574149, \"Y\": 0.19385098616259658}, {\"X\": 0.26485517491397914, \"Y\": 0.19419055434505786}, {\"X\": 0.26527039552223547, \"Y\": 0.19460086589886527}, {\"X\": 0.265686478360333, \"Y\": 0.19492628540705736}, {\"X\": 0.2661029841791073, \"Y\": 0.19519511021817257}, {\"X\": 0.26652022207982234, \"Y\": 0.19546393502928774}, {\"X\": 0.26693752505448765, \"Y\": 0.19559127309771074}, {\"X\": 0.2673551859358795, \"Y\": 0.1957610571889414}, {\"X\": 0.26777387173198824, \"Y\": 0.19580350321174905}, {\"X\": 0.26819257379658457, \"Y\": 0.19629870681117179}, {\"X\": 0.2686116825733702, \"Y\": 0.1967797617363253}, {\"X\": 0.26903214163462413, \"Y\": 0.19802484507201676}, {\"X\": 0.2694530236765549, \"Y\": 0.19829366988313196}, {\"X\": 0.2698741985512619, \"Y\": 0.19883131950536234}, {\"X\": 0.27029547103689433, \"Y\": 0.19932652310478507}, {\"X\": 0.270717947390607, \"Y\": 0.1997509833328617}, {\"X\": 0.2711408792619716, \"Y\": 0.20017544356093833}, {\"X\": 0.27156532410268025, \"Y\": 0.20035937632643822}, {\"X\": 0.27199002923919, \"Y\": 0.2007555392059764}, {\"X\": 0.2724160683916806, \"Y\": 0.2010243640170916}, {\"X\": 0.27284300231098746, \"Y\": 0.20139222954809136}, {\"X\": 0.2732700826466825, \"Y\": 0.20173179773055264}, {\"X\": 0.2736978950643182, \"Y\": 0.20229774470132147}, {\"X\": 0.2741278874592883, \"Y\": 0.20267975890659046}, {\"X\": 0.2745603526643691, \"Y\": 0.20293443504343642}, {\"X\": 0.27499350114592785, \"Y\": 0.20330230057443618}, {\"X\": 0.27542726783001426, \"Y\": 0.20367016610543592}, {\"X\": 0.2758612622729267, \"Y\": 0.20420781572766633}, {\"X\": 0.276296167751143, \"Y\": 0.20461812728147372}, {\"X\": 0.27673195172768816, \"Y\": 0.20483035739551203}, {\"X\": 0.27716819122188524, \"Y\": 0.20531141232066555}, {\"X\": 0.2776051139925603, \"Y\": 0.20584906194289596}, {\"X\": 0.2780422970590365, \"Y\": 0.2062310761481649}, {\"X\": 0.27847948012551266, \"Y\": 0.20645745493647244}, {\"X\": 0.2789173952739295, \"Y\": 0.20695265853589517}, {\"X\": 0.27935657936437686, \"Y\": 0.20741956478677948}, {\"X\": 0.2797965768792027, \"Y\": 0.2076317949008178}, {\"X\": 0.28023688349529235, \"Y\": 0.2081694445230482}, {\"X\": 0.28067733652777016, \"Y\": 0.20860805342539404}, {\"X\": 0.28111855417916376, \"Y\": 0.20910325702481677}, {\"X\": 0.2815600809318212, \"Y\": 0.2095135685786242}, {\"X\": 0.2820043733273656, \"Y\": 0.21010781289793146}, {\"X\": 0.28244892601871113, \"Y\": 0.21037663770904666}, {\"X\": 0.2828967812130334, \"Y\": 0.2106030164973542}, {\"X\": 0.283346669968302, \"Y\": 0.2110133280511616}, {\"X\": 0.28379701424122256, \"Y\": 0.2115368289991228}, {\"X\": 0.2842479604481832, \"Y\": 0.21197543790146864}, {\"X\": 0.28469910187699465, \"Y\": 0.21245649282662216}, {\"X\": 0.28515078016589596, \"Y\": 0.21279606100908344}, {\"X\": 0.28560289770396163, \"Y\": 0.2131639265400832}, {\"X\": 0.28605620284162, \"Y\": 0.21343275135119838}, {\"X\": 0.28650975200659184, \"Y\": 0.21401284699623646}, {\"X\": 0.28696411459594223, \"Y\": 0.21421092843600556}, {\"X\": 0.2874188676289943, \"Y\": 0.21440900987577463}, {\"X\": 0.287873750809947, \"Y\": 0.21474857805823594}, {\"X\": 0.2883305374039454, \"Y\": 0.21507399756642803}, {\"X\": 0.288787502951307, \"Y\": 0.21537111972608167}, {\"X\": 0.28924446849866864, \"Y\": 0.21605025609100428}, {\"X\": 0.2897026867195732, \"Y\": 0.21643227029627324}, {\"X\": 0.2901610513568659, \"Y\": 0.21668694643311923}, {\"X\": 0.29062014807609926, \"Y\": 0.21713970400973429}, {\"X\": 0.2910801232936614, \"Y\": 0.2174934208664648}, {\"X\": 0.29154045641795007, \"Y\": 0.21820085457992586}, {\"X\": 0.292001310133841, \"Y\": 0.21838478734542574}, {\"X\": 0.29246353040268785, \"Y\": 0.21885169359631002}, {\"X\": 0.29292664543835106, \"Y\": 0.2190922210588868}, {\"X\": 0.29339000450132785, \"Y\": 0.21951668128696342}, {\"X\": 0.29385355878615543, \"Y\": 0.21985624946942472}, {\"X\": 0.294318967678566, \"Y\": 0.22029485837177057}, {\"X\": 0.2947844904503897, \"Y\": 0.22060612920569342}, {\"X\": 0.2952508917205421, \"Y\": 0.22100229208523162}, {\"X\": 0.2957179437301973, \"Y\": 0.22135600894196214}, {\"X\": 0.2961857115533056, \"Y\": 0.22158238773026967}, {\"X\": 0.2966534793764139, \"Y\": 0.2222049293981154}, {\"X\": 0.2971219792814629, \"Y\": 0.22237471348934604}, {\"X\": 0.2975930984130107, \"Y\": 0.22309629587707633}, {\"X\": 0.2980662836424799, \"Y\": 0.22353490477942217}, {\"X\": 0.29854094930431796, \"Y\": 0.22393106765896034}, {\"X\": 0.2990157776510318, \"Y\": 0.22414329777299866}, {\"X\": 0.2994907198771586, \"Y\": 0.22439797390984464}, {\"X\": 0.29996585732513625, \"Y\": 0.22458190667534453}, {\"X\": 0.30044172685505455, \"Y\": 0.22507711027476726}, {\"X\": 0.3009176939958983, \"Y\": 0.22603922012507427}, {\"X\": 0.3013945070980957, \"Y\": 0.22650612637595857}, {\"X\": 0.30187236138349754, \"Y\": 0.2271286680438043}, {\"X\": 0.3023514032684921, \"Y\": 0.2272701547864965}, {\"X\": 0.30283135618879053, \"Y\": 0.22789269645434224}, {\"X\": 0.30331150433093984, \"Y\": 0.22838790005376497}, {\"X\": 0.30379189650040267, \"Y\": 0.2287557655847647}, {\"X\": 0.304273443732483, \"Y\": 0.22912363111576445}, {\"X\": 0.3047552349918769, \"Y\": 0.22950564532103343}, {\"X\": 0.30523857175758995, \"Y\": 0.2299584028976485}, {\"X\": 0.3057225755312934, \"Y\": 0.23021307903449448}, {\"X\": 0.30620861286594314, \"Y\": 0.23055264721695576}, {\"X\": 0.30669466646908045, \"Y\": 0.23089221539941707}, {\"X\": 0.3071819564772731, \"Y\": 0.2313166756274937}, {\"X\": 0.307670108715307, \"Y\": 0.23161379778714736}, {\"X\": 0.3081587978134307, \"Y\": 0.2319250686210702}, {\"X\": 0.3086477472073555, \"Y\": 0.23246271824330061}, {\"X\": 0.309137200924395, \"Y\": 0.2327315430544158}, {\"X\": 0.30962735418640003, \"Y\": 0.2331984493053001}, {\"X\": 0.31011760505933045, \"Y\": 0.23418885650414556}, {\"X\": 0.3106080186171366, \"Y\": 0.23423130252695323}, {\"X\": 0.31109883888713197, \"Y\": 0.23431619457256855}, {\"X\": 0.31159017974872966, \"Y\": 0.23492458756614507}, {\"X\": 0.31208269194143234, \"Y\": 0.2351651150287218}, {\"X\": 0.312577400379957, \"Y\": 0.2354197911655678}, {\"X\": 0.3130722715033574, \"Y\": 0.2359008460907213}, {\"X\": 0.3135706240830979, \"Y\": 0.23669317184979768}, {\"X\": 0.31407102649227214, \"Y\": 0.23737230821472027}, {\"X\": 0.3145728442598651, \"Y\": 0.23771187639718158}, {\"X\": 0.31507562186822463, \"Y\": 0.23795240385975833}, {\"X\": 0.3155798148350028, \"Y\": 0.23830612071648888}, {\"X\": 0.316084007801781, \"Y\": 0.2388013243159116}, {\"X\": 0.3165886400177235, \"Y\": 0.23919748719544978}, {\"X\": 0.31709379282526834, \"Y\": 0.2397351368176802}, {\"X\": 0.3175996289092911, \"Y\": 0.24004640765160304}, {\"X\": 0.3181054649933139, \"Y\": 0.2402869351141798}, {\"X\": 0.3186125862878547, \"Y\": 0.24059820594810266}, {\"X\": 0.3191208789135006, \"Y\": 0.2410934095475254}, {\"X\": 0.31963177449715774, \"Y\": 0.24147542375279438}, {\"X\": 0.3201464769069063, \"Y\": 0.24192818132940944}, {\"X\": 0.32066213915742153, \"Y\": 0.24218285746625542}, {\"X\": 0.32117840334197684, \"Y\": 0.24307422394521633}, {\"X\": 0.32169621303285134, \"Y\": 0.24395144174990804}, {\"X\": 0.3222158285258461, \"Y\": 0.24443249667506153}, {\"X\": 0.32273580192556744, \"Y\": 0.24555024194233}, {\"X\": 0.3232564260647916, \"Y\": 0.24651235179263703}, {\"X\": 0.3237797182359773, \"Y\": 0.24692266334644444}, {\"X\": 0.3243030266756506, \"Y\": 0.24761594838563628}, {\"X\": 0.32482745764096616, \"Y\": 0.24828093607628965}, {\"X\": 0.3253545566382433, \"Y\": 0.24874784232717395}, {\"X\": 0.32588503948093506, \"Y\": 0.2492571946008659}, {\"X\": 0.3264174257366725, \"Y\": 0.2501202637312884}, {\"X\": 0.3269513737672167, \"Y\": 0.25081354877048023}, {\"X\": 0.3274861189536519, \"Y\": 0.2513653470669798}, {\"X\": 0.3280212545837887, \"Y\": 0.25146438778686436}, {\"X\": 0.32855777303536904, \"Y\": 0.2521010781289793}, {\"X\": 0.329094909689477, \"Y\": 0.2530914853278248}, {\"X\": 0.32963702450078153, \"Y\": 0.25338860748747843}, {\"X\": 0.3301823279356498, \"Y\": 0.25411018987520867}, {\"X\": 0.3307310314844203, \"Y\": 0.25501570502843884}, {\"X\": 0.33127976757016586, \"Y\": 0.2555816519992077}, {\"X\": 0.3318319363067888, \"Y\": 0.2560202609015535}, {\"X\": 0.332384739514427, \"Y\": 0.2564871671524378}, {\"X\": 0.3329382748040058, \"Y\": 0.2572087495401681}, {\"X\": 0.33349311157259026, \"Y\": 0.25791618325362914}, {\"X\": 0.3340493636995933, \"Y\": 0.2582981974588981}, {\"X\": 0.33460841400645847, \"Y\": 0.25889244177820536}, {\"X\": 0.3351676432666869, \"Y\": 0.2592744559834744}, {\"X\": 0.33572714909120405, \"Y\": 0.26008093041681996}, {\"X\": 0.33628720804429857, \"Y\": 0.2606751747361272}, {\"X\": 0.3368490239940507, \"Y\": 0.2615948385636266}, {\"X\": 0.33741152322028073, \"Y\": 0.2622881236028184}, {\"X\": 0.33797441289021246, \"Y\": 0.2626701378080874}, {\"X\": 0.3385385064282244, \"Y\": 0.2631511927332409}, {\"X\": 0.33910277891959967, \"Y\": 0.2634341662186253}, {\"X\": 0.3396698983962997, \"Y\": 0.2643679787203939}, {\"X\": 0.3402375059276268, \"Y\": 0.2649056283426243}, {\"X\": 0.3408053900232426, \"Y\": 0.2658677381929313}, {\"X\": 0.3413733554612963, \"Y\": 0.2666600639520077}, {\"X\": 0.3419421343237285, \"Y\": 0.2675372817566994}, {\"X\": 0.3425116127311262, \"Y\": 0.2678627012648915}, {\"X\": 0.34308127009188716, \"Y\": 0.2682871614929681}, {\"X\": 0.3436513829703001, \"Y\": 0.2688814058122754}, {\"X\": 0.34422165853358877, \"Y\": 0.2693624607374289}, {\"X\": 0.34479842522341797, \"Y\": 0.2696312855485441}, {\"X\": 0.3453755172829986, \"Y\": 0.2701830838450437}, {\"X\": 0.3459540409694854, \"Y\": 0.2702821245649283}, {\"X\": 0.3465335733022015, \"Y\": 0.2705792467245819}, {\"X\": 0.3471137238374453, \"Y\": 0.2712442344152353}, {\"X\": 0.34769540361052076, \"Y\": 0.27188092475735026}, {\"X\": 0.34828006051682153, \"Y\": 0.2721921955912731}, {\"X\": 0.34886509159833645, \"Y\": 0.2727439938877727}, {\"X\": 0.3494533438403903, \"Y\": 0.274045671920541}, {\"X\": 0.3500447521690327, \"Y\": 0.27468236226265597}, {\"X\": 0.35063889360358697, \"Y\": 0.27512097116500184}, {\"X\": 0.3512337508515943, \"Y\": 0.27612552703811655}, {\"X\": 0.3518290473487661, \"Y\": 0.2771300829112312}, {\"X\": 0.3524298425947366, \"Y\": 0.27807804408726905}, {\"X\": 0.35303114216382175, \"Y\": 0.2786722884065763}, {\"X\": 0.3536336618694747, \"Y\": 0.27891281586915306}, {\"X\": 0.35423736917472026, \"Y\": 0.27923823537734516}, {\"X\": 0.3548414669236676, \"Y\": 0.2797334389767679}, {\"X\": 0.3554461828751425, \"Y\": 0.2804974673873058}, {\"X\": 0.3560514682236824, \"Y\": 0.28195478083703557}, {\"X\": 0.35666023502856237, \"Y\": 0.2828461473159965}, {\"X\": 0.35727137703262757, \"Y\": 0.28390729788618807}, {\"X\": 0.35788416215393737, \"Y\": 0.28448739353122615}, {\"X\": 0.35849753294079967, \"Y\": 0.28539290868445627}, {\"X\": 0.35911329519533486, \"Y\": 0.2860720450493789}, {\"X\": 0.35972983833727334, \"Y\": 0.2866945867172246}, {\"X\": 0.3603468369968639, \"Y\": 0.28699170887687825}, {\"X\": 0.3609638844619171, \"Y\": 0.28743031777922406}, {\"X\": 0.36158381144927026, \"Y\": 0.28815190016695436}, {\"X\": 0.3622043241021759, \"Y\": 0.2886046577435694}, {\"X\": 0.36282597554921153, \"Y\": 0.2896233622909533}, {\"X\": 0.363447708338685, \"Y\": 0.29030249865587593}, {\"X\": 0.36406976649790984, \"Y\": 0.29116556778629843}, {\"X\": 0.36469585924205217, \"Y\": 0.2915475819915674}, {\"X\": 0.36532346495553847, \"Y\": 0.29228331305356686}, {\"X\": 0.36595443824595186, \"Y\": 0.29265117858456663}, {\"X\": 0.36658594839645503, \"Y\": 0.2930190441155664}, {\"X\": 0.36721771884275933, \"Y\": 0.29318882820679704}, {\"X\": 0.3678519783676619, \"Y\": 0.2933586122980277}, {\"X\": 0.3684906629211836, \"Y\": 0.29374062650329663}, {\"X\": 0.36912970538143186, \"Y\": 0.2942216814284502}, {\"X\": 0.36977003305219813, \"Y\": 0.29475933105068053}, {\"X\": 0.37041332158770224, \"Y\": 0.29509889923314186}, {\"X\": 0.37105729339968424, \"Y\": 0.295749738249526}, {\"X\": 0.37170414473396624, \"Y\": 0.2959902657121028}, {\"X\": 0.37235127263253687, \"Y\": 0.2962732391974872}, {\"X\": 0.37300046662902897, \"Y\": 0.2968957808653329}, {\"X\": 0.37365328849824925, \"Y\": 0.2979569314355245}, {\"X\": 0.3743063869317582, \"Y\": 0.29855117575483175}, {\"X\": 0.37495998968838185, \"Y\": 0.29992359715894623}, {\"X\": 0.37562006730305847, \"Y\": 0.30057443617533036}, {\"X\": 0.37628287802364685, \"Y\": 0.30140920795721443}, {\"X\": 0.3769457700866731, \"Y\": 0.30190441155663716}, {\"X\": 0.3776089875194508, \"Y\": 0.30245620985313676}, {\"X\": 0.3782723025631539, \"Y\": 0.30306460284671327}, {\"X\": 0.3789364798366982, \"Y\": 0.3035739551204052}, {\"X\": 0.37960080352663067, \"Y\": 0.30401256402275106}, {\"X\": 0.3802659569094292, \"Y\": 0.30449361894790455}, {\"X\": 0.38093159834685486, \"Y\": 0.3051869039870964}, {\"X\": 0.38159782544983306, \"Y\": 0.3055123234952885}, {\"X\": 0.3822658746234191, \"Y\": 0.3061773111859419}, {\"X\": 0.38293455826802036, \"Y\": 0.3073657998245564}, {\"X\": 0.38360358355086066, \"Y\": 0.3080166388409406}, {\"X\": 0.38427360121144266, \"Y\": 0.30854013978890177}, {\"X\": 0.38494373275143773, \"Y\": 0.3090919380854014}, {\"X\": 0.3856141733926966, \"Y\": 0.3101672373298622}, {\"X\": 0.38628900652559944, \"Y\": 0.3107756303234387}, {\"X\": 0.38696445786103, \"Y\": 0.3112000905515153}, {\"X\": 0.3876419915628695, \"Y\": 0.31190752426497637}, {\"X\": 0.3883202573466497, \"Y\": 0.31230368714451456}, {\"X\": 0.38899925521237055, \"Y\": 0.31277059339539887}, {\"X\": 0.389679896195336, \"Y\": 0.31336483771470613}, {\"X\": 0.39036244059134717, \"Y\": 0.3140298254053595}, {\"X\": 0.3910505813470825, \"Y\": 0.31473725911882056}, {\"X\": 0.39173904747256927, \"Y\": 0.3152890574153202}, {\"X\": 0.3924295471590023, \"Y\": 0.3163219106369733}, {\"X\": 0.3931200631139229, \"Y\": 0.3170434930247036}, {\"X\": 0.3938123360655011, \"Y\": 0.3177650754124339}, {\"X\": 0.39450534109901997, \"Y\": 0.3182319816633181}, {\"X\": 0.3951985738913648, \"Y\": 0.31977418715866324}, {\"X\": 0.39589366129129266, \"Y\": 0.3203542828037013}, {\"X\": 0.3965937756538797, \"Y\": 0.3217408528820849}, {\"X\": 0.3972959723828758, \"Y\": 0.322448286595546}, {\"X\": 0.3980003165522311, \"Y\": 0.32307082826339173}, {\"X\": 0.3987052138501639, \"Y\": 0.32379241065112196}, {\"X\": 0.39941097337793785, \"Y\": 0.3242451682277371}, {\"X\": 0.400119563622549, \"Y\": 0.32476866917569824}, {\"X\": 0.4008293577352404, \"Y\": 0.32541950819208243}, {\"X\": 0.40154038825298716, \"Y\": 0.3258864144429667}, {\"X\": 0.402259325255693, \"Y\": 0.3272871331956196}, {\"X\": 0.4029792871731159, \"Y\": 0.3281219049775036}, {\"X\": 0.4037048129132877, \"Y\": 0.3289991227821953}, {\"X\": 0.40443149371607706, \"Y\": 0.32955092107869494}, {\"X\": 0.40516137941091773, \"Y\": 0.3305837743003481}, {\"X\": 0.40589751220498543, \"Y\": 0.3321118311214239}, {\"X\": 0.40663410051670507, \"Y\": 0.3324655479781545}, {\"X\": 0.40737130703095237, \"Y\": 0.33291830555476953}, {\"X\": 0.40811241798221654, \"Y\": 0.33366818529103826}, {\"X\": 0.40885551368896433, \"Y\": 0.33429072695888395}, {\"X\": 0.4095993089406776, \"Y\": 0.33496986332380657}, {\"X\": 0.4103447473096355, \"Y\": 0.3356631483629984}, {\"X\": 0.411090690001708, \"Y\": 0.3361583519624211}, {\"X\": 0.41184218024804203, \"Y\": 0.3372053538583435}, {\"X\": 0.4125944839187546, \"Y\": 0.3377571521548431}, {\"X\": 0.4133487723449507, \"Y\": 0.33828065310280425}, {\"X\": 0.4141036301682118, \"Y\": 0.338648518633804}, {\"X\": 0.41485907365702535, \"Y\": 0.33935595234726507}, {\"X\": 0.41561939769211004, \"Y\": 0.33995019666657234}, {\"X\": 0.4163804050036727, \"Y\": 0.3405727383344181}, {\"X\": 0.4171442104950974, \"Y\": 0.3407849684484564}, {\"X\": 0.4179107816294091, \"Y\": 0.34156314553326356}, {\"X\": 0.418677645596497, \"Y\": 0.3425677014063782}, {\"X\": 0.41944786087202446, \"Y\": 0.34285067489176263}, {\"X\": 0.42021929628411964, \"Y\": 0.34331758114264693}, {\"X\": 0.420994017930704, \"Y\": 0.3442655423186847}, {\"X\": 0.4217712611928618, \"Y\": 0.3453125442146071}, {\"X\": 0.42254863460292014, \"Y\": 0.3459067885339144}, {\"X\": 0.4233293430529304, \"Y\": 0.3468688983842214}, {\"X\": 0.424110718510931, \"Y\": 0.3479583463029514}, {\"X\": 0.42489388350256435, \"Y\": 0.348764820736297}, {\"X\": 0.4256778293816011, \"Y\": 0.3493449163813351}, {\"X\": 0.4264620192879514, \"Y\": 0.3502079855117575}, {\"X\": 0.4272463068052271, \"Y\": 0.351453068847449}, {\"X\": 0.42803653232046596, \"Y\": 0.3519482724468717}, {\"X\": 0.4288277176764715, \"Y\": 0.3527830442287558}, {\"X\": 0.4296211643522493, \"Y\": 0.3534621805936784}, {\"X\": 0.4304152292305547, \"Y\": 0.35398568154163956}, {\"X\": 0.43121121379039346, \"Y\": 0.3551600215059849}, {\"X\": 0.4320084022183124, \"Y\": 0.356574888932907}, {\"X\": 0.43280754286473977, \"Y\": 0.3575935934802909}, {\"X\": 0.43360702514940613, \"Y\": 0.3580746484054444}, {\"X\": 0.43440746727483914, \"Y\": 0.3585415546563287}, {\"X\": 0.4352113420511495, \"Y\": 0.3593621777639435}, {\"X\": 0.436016306816127, \"Y\": 0.3598715300376355}, {\"X\": 0.4368226381340604, \"Y\": 0.3616401143212881}, {\"X\": 0.43763113316084074, \"Y\": 0.3626729675429412}, {\"X\": 0.43845345640205574, \"Y\": 0.36417272701547865}, {\"X\": 0.4392769347058883, \"Y\": 0.3645405925464784}, {\"X\": 0.4401004455466959, \"Y\": 0.3652904722827471}, {\"X\": 0.44092408653540416, \"Y\": 0.36652140694416935}, {\"X\": 0.4417495658632078, \"Y\": 0.3674835167944764}, {\"X\": 0.44257559831958887, \"Y\": 0.36833243725062964}, {\"X\": 0.4434050796953348, \"Y\": 0.3688276408500524}, {\"X\": 0.4442394904228146, \"Y\": 0.3690398709640907}, {\"X\": 0.44507474711164796, \"Y\": 0.3707094145278587}, {\"X\": 0.44591011767989436, \"Y\": 0.37206768725770395}, {\"X\": 0.4467476682254752, \"Y\": 0.37271852627408814}, {\"X\": 0.4475904246870785, \"Y\": 0.37413339370101023}, {\"X\": 0.44844053450506355, \"Y\": 0.37471348934604826}, {\"X\": 0.4492915228213774, \"Y\": 0.3754775177565862}, {\"X\": 0.4501473103415245, \"Y\": 0.3762839921899318}, {\"X\": 0.45100410650790096, \"Y\": 0.3772319533659696}, {\"X\": 0.45186544158230957, \"Y\": 0.37786864370808454}, {\"X\": 0.4527281269411864, \"Y\": 0.3796655253402756}, {\"X\": 0.4535909912534266, \"Y\": 0.380330513030929}, {\"X\": 0.45445393690810465, \"Y\": 0.3808115679560825}, {\"X\": 0.4553317519604219, \"Y\": 0.38144825829819745}, {\"X\": 0.4562117795270487, \"Y\": 0.38263674693681204}, {\"X\": 0.4570925879810789, \"Y\": 0.38372619485554205}, {\"X\": 0.4579738194157859, \"Y\": 0.3843911825461954}, {\"X\": 0.4588601428871024, \"Y\": 0.3859192393672713}, {\"X\": 0.4597494597601319, \"Y\": 0.3862729562240018}, {\"X\": 0.4606467807290459, \"Y\": 0.3872633634228473}, {\"X\": 0.4615445734840995, \"Y\": 0.38818302725034665}, {\"X\": 0.46245710548889174, \"Y\": 0.3898242734655763}, {\"X\": 0.463370581065963, \"Y\": 0.390701491270268}, {\"X\": 0.4642897180767088, \"Y\": 0.39224369676561305}, {\"X\": 0.4652092292626687, \"Y\": 0.39350292877557375}, {\"X\": 0.4661314572860528, \"Y\": 0.39411132176915026}, {\"X\": 0.46705682512753804, \"Y\": 0.3945074846486884}, {\"X\": 0.4679836896698797, \"Y\": 0.3960355414697643}, {\"X\": 0.4689122624034162, \"Y\": 0.3972098814341096}, {\"X\": 0.4698413069230923, \"Y\": 0.3977192337078016}, {\"X\": 0.47077370275120783, \"Y\": 0.39839837007272416}, {\"X\": 0.47170969391507644, \"Y\": 0.39926143920314666}, {\"X\": 0.47264812535208056, \"Y\": 0.3998273861739155}, {\"X\": 0.4735956671421241, \"Y\": 0.4008743880698379}, {\"X\": 0.4745446568275613, \"Y\": 0.40200628201137556}, {\"X\": 0.475503472679491, \"Y\": 0.40269956705056736}, {\"X\": 0.47647800389041356, \"Y\": 0.4040012450833357}, {\"X\": 0.4774537064324412, \"Y\": 0.40545855853306545}, {\"X\": 0.4784301573248971, \"Y\": 0.40620843826933417}, {\"X\": 0.4794118629388382, \"Y\": 0.40728373751379493}, {\"X\": 0.48040074295579777, \"Y\": 0.4088400916834093}, {\"X\": 0.4813921608568183, \"Y\": 0.4094201873284473}, {\"X\": 0.4823914039003601, \"Y\": 0.41002858032202383}, {\"X\": 0.4833937216880528, \"Y\": 0.41052378392144656}, {\"X\": 0.48440497087542145, \"Y\": 0.4117405699085996}, {\"X\": 0.48542404520531146, \"Y\": 0.4134384108209061}, {\"X\": 0.4864456411507749, \"Y\": 0.41551826593848157}, {\"X\": 0.48747044198828965, \"Y\": 0.4168765386683268}, {\"X\": 0.48850835522678604, \"Y\": 0.4179093918899799}, {\"X\": 0.4895563061221133, \"Y\": 0.41897054246017146}, {\"X\": 0.4906182153797759, \"Y\": 0.42106454625201617}, {\"X\": 0.4916827275954497, \"Y\": 0.421885169359631}, {\"X\": 0.4927499241115726, \"Y\": 0.422394521633323}, {\"X\": 0.4938175761453475, \"Y\": 0.4231726987181301}, {\"X\": 0.49489054797455784, \"Y\": 0.4242621466368601}, {\"X\": 0.4959639915899077, \"Y\": 0.4249978776988596}, {\"X\": 0.4970472288347749, \"Y\": 0.42577605478366676}, {\"X\": 0.49813451693304717, \"Y\": 0.42751634171878095}, {\"X\": 0.49922439172084304, \"Y\": 0.4286482356603186}, {\"X\": 0.5003157306725202, \"Y\": 0.4292707773281644}, {\"X\": 0.501413902388977, \"Y\": 0.4302045898299329}, {\"X\": 0.502513993786967, \"Y\": 0.43127988907439374}, {\"X\": 0.5036144756286587, \"Y\": 0.43318996010073857}, {\"X\": 0.5047327551957523, \"Y\": 0.43497269305866043}, {\"X\": 0.5058912667326072, \"Y\": 0.4353547072639294}, {\"X\": 0.5070603690548703, \"Y\": 0.4378165765867738}, {\"X\": 0.5082469925382467, \"Y\": 0.43942952545346503}, {\"X\": 0.5094360725632462, \"Y\": 0.44091513625173323}, {\"X\": 0.5106278531571823, \"Y\": 0.4436882764085005}, {\"X\": 0.5118200404633076, \"Y\": 0.4443674127734231}, {\"X\": 0.5130164901131764, \"Y\": 0.4449475084184612}, {\"X\": 0.5142221965324727, \"Y\": 0.4470556608845751}, {\"X\": 0.5154305872522181, \"Y\": 0.44815925747757435}, {\"X\": 0.5166472260951617, \"Y\": 0.45134270918814906}, {\"X\": 0.5178653941759368, \"Y\": 0.45217748097003313}, {\"X\": 0.5190900371147649, \"Y\": 0.4532386315402247}, {\"X\": 0.5203167136145392, \"Y\": 0.4548091343841082}, {\"X\": 0.521544968157608, \"Y\": 0.45587028495429976}, {\"X\": 0.5227772247486189, \"Y\": 0.4574124904496449}, {\"X\": 0.5240120192236909, \"Y\": 0.45874246583095163}, {\"X\": 0.5252671330397382, \"Y\": 0.46126092985087297}, {\"X\": 0.526523206696552, \"Y\": 0.4637793938707943}, {\"X\": 0.5277982168728976, \"Y\": 0.4649820311836781}, {\"X\": 0.5290965885973943, \"Y\": 0.46690625088429216}, {\"X\": 0.5304209410965406, \"Y\": 0.46833526698548344}, {\"X\": 0.5317624893870487, \"Y\": 0.4690992953960214}, {\"X\": 0.5331102359713212, \"Y\": 0.4707829876340587}, {\"X\": 0.5344770004175633, \"Y\": 0.47299018082005717}, {\"X\": 0.5358787421120814, \"Y\": 0.47446164294405613}, {\"X\": 0.5372900822142661, \"Y\": 0.4755086448399785}, {\"X\": 0.5387016338067891, \"Y\": 0.47640001131893944}, {\"X\": 0.5401156744779104, \"Y\": 0.479640057726591}, {\"X\": 0.5415377029764288, \"Y\": 0.4805597215540904}, {\"X\": 0.542988510429459, \"Y\": 0.4822858598149353}, {\"X\": 0.5444423926266398, \"Y\": 0.48350264580208835}, {\"X\": 0.5459025869969981, \"Y\": 0.48436571493251085}, {\"X\": 0.5473961643038505, \"Y\": 0.48561079826820225}, {\"X\": 0.5488897904161656, \"Y\": 0.4862050425875096}, {\"X\": 0.5503917297256292, \"Y\": 0.4880019242197006}, {\"X\": 0.5519023889444304, \"Y\": 0.4899261439203147}, {\"X\": 0.5534408672769768, \"Y\": 0.49111463255892923}, {\"X\": 0.5549883746201247, \"Y\": 0.49346331248761993}, {\"X\": 0.5565437721797442, \"Y\": 0.4943971249893885}, {\"X\": 0.558108507851229, \"Y\": 0.49557146495373383}, {\"X\": 0.559675586184924, \"Y\": 0.4977079147683862}, {\"X\": 0.5612691821533585, \"Y\": 0.4987266193157701}, {\"X\": 0.5628685046294177, \"Y\": 0.500580095645038}, {\"X\": 0.5644711133399662, \"Y\": 0.501796881632191}, {\"X\": 0.5661048924726994, \"Y\": 0.5024618693228444}, {\"X\": 0.5677395338352736, \"Y\": 0.5050227793655735}, {\"X\": 0.56939083412912, \"Y\": 0.5066357282322647}, {\"X\": 0.5710613637752744, \"Y\": 0.5073714592942641}, {\"X\": 0.5727588503053327, \"Y\": 0.5088570700925323}, {\"X\": 0.5744665534455852, \"Y\": 0.5096210985030702}, {\"X\": 0.5762516132442344, \"Y\": 0.511205750021223}, {\"X\": 0.5780632882885485, \"Y\": 0.5130026316534141}, {\"X\": 0.5799077768722918, \"Y\": 0.5146438778686437}, {\"X\": 0.5817595862754419, \"Y\": 0.5150683380967204}, {\"X\": 0.5836360587057484, \"Y\": 0.5168935170774498}, {\"X\": 0.5855220319327961, \"Y\": 0.5204023882962167}, {\"X\": 0.5874504171069393, \"Y\": 0.5216899176547157}, {\"X\": 0.5893800224176505, \"Y\": 0.5237839214465605}, {\"X\": 0.5913135647023536, \"Y\": 0.5257647358442514}, {\"X\": 0.5933838761620601, \"Y\": 0.5285944706980956}, {\"X\": 0.5954916214116658, \"Y\": 0.5298820000565947}, {\"X\": 0.5976046051142692, \"Y\": 0.532075044568324}, {\"X\": 0.5997518177147203, \"Y\": 0.5345227652168992}, {\"X\": 0.6018998437395501, \"Y\": 0.5365177282888594}, {\"X\": 0.6040594203905546, \"Y\": 0.5381165284812813}, {\"X\": 0.6062273265071952, \"Y\": 0.5414697642830867}, {\"X\": 0.6084221407022771, \"Y\": 0.5422054953450862}, {\"X\": 0.6107190071198874, \"Y\": 0.5470867879679674}, {\"X\": 0.6131818771846647, \"Y\": 0.5520246752879255}, {\"X\": 0.6156923813810479, \"Y\": 0.5544299499136931}, {\"X\": 0.6182262959310446, \"Y\": 0.558589660148844}, {\"X\": 0.6207617559873606, \"Y\": 0.5602592037126122}, {\"X\": 0.6233057895366262, \"Y\": 0.5635699934916099}, {\"X\": 0.6260002740589417, \"Y\": 0.565055604289878}, {\"X\": 0.6287017702993999, \"Y\": 0.5693002065706443}, {\"X\": 0.6314190795097765, \"Y\": 0.5719601573332579}, {\"X\": 0.6341616374128621, \"Y\": 0.5740117151022949}, {\"X\": 0.6369768991868994, \"Y\": 0.5763603950309856}, {\"X\": 0.639850141850637, \"Y\": 0.580930416819944}, {\"X\": 0.6427332757548175, \"Y\": 0.5836186649310959}, {\"X\": 0.645661082925866, \"Y\": 0.5857409660714791}, {\"X\": 0.648637744365088, \"Y\": 0.5875095503551317}, {\"X\": 0.6516434125176479, \"Y\": 0.5926030730920513}, {\"X\": 0.6547406722552284, \"Y\": 0.5936217776394351}, {\"X\": 0.657949306058715, \"Y\": 0.5961260929850873}, {\"X\": 0.6612893404363068, \"Y\": 0.5994510314383542}, {\"X\": 0.6647650377317472, \"Y\": 0.6012903590933529}, {\"X\": 0.6682934937323781, \"Y\": 0.609935199071847}, {\"X\": 0.6718529249333427, \"Y\": 0.6137270437759982}, {\"X\": 0.6755081937945839, \"Y\": 0.6164294405614194}, {\"X\": 0.679197349915434, \"Y\": 0.6224567758001075}, {\"X\": 0.6829619755501226, \"Y\": 0.6270409462633352}, {\"X\": 0.6868250906085617, \"Y\": 0.6360395030985596}, {\"X\": 0.690799953908121, \"Y\": 0.6411471745097485}, {\"X\": 0.6947957872881585, \"Y\": 0.643934463340785}, {\"X\": 0.6989063135055664, \"Y\": 0.6512068819151645}, {\"X\": 0.70302162265832, \"Y\": 0.654885537225162}, {\"X\": 0.7072948662884059, \"Y\": 0.6606723450012734}, {\"X\": 0.7116420176575236, \"Y\": 0.6645490817510399}, {\"X\": 0.7160008335322291, \"Y\": 0.6665157474744616}, {\"X\": 0.720699986166905, \"Y\": 0.6690200628201137}, {\"X\": 0.7255985091167547, \"Y\": 0.6773819293132234}, {\"X\": 0.7306134005581946, \"Y\": 0.6886018280087156}, {\"X\": 0.7356411766417902, \"Y\": 0.6960015846515182}, {\"X\": 0.7408151250862047, \"Y\": 0.6999915107954384}, {\"X\": 0.7460753127832292, \"Y\": 0.7083533772885481}, {\"X\": 0.7514700246039725, \"Y\": 0.7138713602535443}, {\"X\": 0.7572972829722344, \"Y\": 0.7170265146155805}, {\"X\": 0.7631323990199929, \"Y\": 0.7202382636746937}, {\"X\": 0.7713035722719183, \"Y\": 0.7261241121706896}, {\"X\": 0.779797853955477, \"Y\": 0.7412490449644868}, {\"X\": 0.7884121482718417, \"Y\": 0.7512804550213645}, {\"X\": 0.7976022819742441, \"Y\": 0.7686125810011601}, {\"X\": 0.8069514889481088, \"Y\": 0.7734089815784261}, {\"X\": 0.8164892314244253, \"Y\": 0.7848411103879567}, {\"X\": 0.8263066454705627, \"Y\": 0.7913777979003367}, {\"X\": 0.8362605195904396, \"Y\": 0.8049322278502504}, {\"X\": 0.846227619990711, \"Y\": 0.8128271880924758}, {\"X\": 0.8562926892231307, \"Y\": 0.8245988850844675}, {\"X\": 0.8685920074645027, \"Y\": 0.8363705820764594}, {\"X\": 0.8852610414672523, \"Y\": 0.8634369959534791}, {\"X\": 0.909745196602964, \"Y\": 0.8966297857890716}, {\"X\": 0.9400463121543058, \"Y\": 0.9370101021534282}, {\"X\": 1.0, \"Y\": 1.0}], \"data-17c951caf5cc960ba72d40507d192801\": [{\"X\": 0, \"Y\": 0}, {\"X\": 1, \"Y\": 1}]}}, {\"mode\": \"vega-lite\"});\n",
       "</script>"
      ],
      "text/plain": [
       "alt.LayerChart(...)"
      ]
     },
     "metadata": {},
     "output_type": "display_data"
    }
   ],
   "source": [
    "plot_lorenz_curve(df_merged[df_merged[\"UJAHR\"] == 2024], 2024)"
   ]
  },
  {
   "cell_type": "code",
   "execution_count": 487,
   "id": "1c496b1e",
   "metadata": {},
   "outputs": [],
   "source": [
    "if SHOULD_LOG:\n",
    "    print(\"\\n\".join([f\"{y}: {g:0.3f}\" for y, g in zip(YEARS, gini_arr)]))"
   ]
  },
  {
   "cell_type": "code",
   "execution_count": 488,
   "id": "3ade49db",
   "metadata": {},
   "outputs": [
    {
     "data": {
      "text/html": [
       "\n",
       "<style>\n",
       "  #altair-viz-997a22e7bfcd4c1f833326316c52e98e.vega-embed {\n",
       "    width: 100%;\n",
       "    display: flex;\n",
       "  }\n",
       "\n",
       "  #altair-viz-997a22e7bfcd4c1f833326316c52e98e.vega-embed details,\n",
       "  #altair-viz-997a22e7bfcd4c1f833326316c52e98e.vega-embed details summary {\n",
       "    position: relative;\n",
       "  }\n",
       "</style>\n",
       "<div id=\"altair-viz-997a22e7bfcd4c1f833326316c52e98e\"></div>\n",
       "<script type=\"text/javascript\">\n",
       "  var VEGA_DEBUG = (typeof VEGA_DEBUG == \"undefined\") ? {} : VEGA_DEBUG;\n",
       "  (function(spec, embedOpt){\n",
       "    let outputDiv = document.currentScript.previousElementSibling;\n",
       "    if (outputDiv.id !== \"altair-viz-997a22e7bfcd4c1f833326316c52e98e\") {\n",
       "      outputDiv = document.getElementById(\"altair-viz-997a22e7bfcd4c1f833326316c52e98e\");\n",
       "    }\n",
       "\n",
       "    const paths = {\n",
       "      \"vega\": \"https://cdn.jsdelivr.net/npm/vega@5?noext\",\n",
       "      \"vega-lib\": \"https://cdn.jsdelivr.net/npm/vega-lib?noext\",\n",
       "      \"vega-lite\": \"https://cdn.jsdelivr.net/npm/vega-lite@5.20.1?noext\",\n",
       "      \"vega-embed\": \"https://cdn.jsdelivr.net/npm/vega-embed@6?noext\",\n",
       "    };\n",
       "\n",
       "    function maybeLoadScript(lib, version) {\n",
       "      var key = `${lib.replace(\"-\", \"\")}_version`;\n",
       "      return (VEGA_DEBUG[key] == version) ?\n",
       "        Promise.resolve(paths[lib]) :\n",
       "        new Promise(function(resolve, reject) {\n",
       "          var s = document.createElement('script');\n",
       "          document.getElementsByTagName(\"head\")[0].appendChild(s);\n",
       "          s.async = true;\n",
       "          s.onload = () => {\n",
       "            VEGA_DEBUG[key] = version;\n",
       "            return resolve(paths[lib]);\n",
       "          };\n",
       "          s.onerror = () => reject(`Error loading script: ${paths[lib]}`);\n",
       "          s.src = paths[lib];\n",
       "        });\n",
       "    }\n",
       "\n",
       "    function showError(err) {\n",
       "      outputDiv.innerHTML = `<div class=\"error\" style=\"color:red;\">${err}</div>`;\n",
       "      throw err;\n",
       "    }\n",
       "\n",
       "    function displayChart(vegaEmbed) {\n",
       "      vegaEmbed(outputDiv, spec, embedOpt)\n",
       "        .catch(err => showError(`Javascript Error: ${err.message}<br>This usually means there's a typo in your chart specification. See the javascript console for the full traceback.`));\n",
       "    }\n",
       "\n",
       "    if(typeof define === \"function\" && define.amd) {\n",
       "      requirejs.config({paths});\n",
       "      let deps = [\"vega-embed\"];\n",
       "      require(deps, displayChart, err => showError(`Error loading script: ${err.message}`));\n",
       "    } else {\n",
       "      maybeLoadScript(\"vega\", \"5\")\n",
       "        .then(() => maybeLoadScript(\"vega-lite\", \"5.20.1\"))\n",
       "        .then(() => maybeLoadScript(\"vega-embed\", \"6\"))\n",
       "        .catch(showError)\n",
       "        .then(() => displayChart(vegaEmbed));\n",
       "    }\n",
       "  })({\"config\": {\"view\": {\"continuousWidth\": 300, \"continuousHeight\": 300}}, \"data\": {\"name\": \"data-8daaf7cbdf66435de7a411ef12a85196\"}, \"mark\": {\"type\": \"line\", \"point\": true}, \"encoding\": {\"tooltip\": [{\"field\": \"Year\", \"type\": \"quantitative\"}, {\"field\": \"Gini\", \"format\": \".3f\", \"type\": \"quantitative\"}], \"x\": {\"field\": \"Year\", \"type\": \"ordinal\"}, \"y\": {\"field\": \"Gini\", \"type\": \"quantitative\"}}, \"height\": 400, \"params\": [{\"name\": \"param_312\", \"select\": {\"type\": \"interval\", \"encodings\": [\"x\", \"y\"]}, \"bind\": \"scales\"}], \"title\": \"Gini Coefficient of IstRad per Year\", \"width\": 600, \"$schema\": \"https://vega.github.io/schema/vega-lite/v5.20.1.json\", \"datasets\": {\"data-8daaf7cbdf66435de7a411ef12a85196\": [{\"Year\": 2016, \"Gini\": 0.15195463773835804}, {\"Year\": 2017, \"Gini\": 0.14806319849752603}, {\"Year\": 2018, \"Gini\": 0.14964128484584227}, {\"Year\": 2019, \"Gini\": 0.13091785007700407}, {\"Year\": 2020, \"Gini\": 0.1291587024734404}, {\"Year\": 2021, \"Gini\": 0.12948591699874767}, {\"Year\": 2022, \"Gini\": 0.11220842277893661}, {\"Year\": 2023, \"Gini\": 0.10501906901395419}, {\"Year\": 2024, \"Gini\": 0.09849860085615958}]}}, {\"mode\": \"vega-lite\"});\n",
       "</script>"
      ],
      "text/plain": [
       "alt.Chart(...)"
      ]
     },
     "metadata": {},
     "output_type": "display_data"
    }
   ],
   "source": [
    "title = \" \".join(val_label.split(\"_\")).title() if \"_\" in val_label else val_label\n",
    "\n",
    "chart = (\n",
    "    alt.Chart(pd.DataFrame({\"Year\": YEARS, \"Gini\": gini_arr}))\n",
    "    .mark_line(point=True)\n",
    "    .properties(\n",
    "        title=f\"Gini Coefficient of {title} per Year\",\n",
    "        width=600,\n",
    "        height=400,\n",
    "    )\n",
    "    .encode(\n",
    "        x=\"Year:O\",\n",
    "        y=\"Gini:Q\",\n",
    "        tooltip=[\"Year\", alt.Tooltip(\"Gini\", format=\".3f\")],\n",
    "    )\n",
    "    .interactive()\n",
    ")\n",
    "\n",
    "chart.save(os.path.join(\"img\", f\"gini_index_{title.replace(' ', '_').lower()}.png\"))\n",
    "chart.show()"
   ]
  },
  {
   "cell_type": "markdown",
   "id": "71862eaf",
   "metadata": {},
   "source": [
    "### Gini per State\n"
   ]
  },
  {
   "cell_type": "code",
   "execution_count": 489,
   "id": "c9835439",
   "metadata": {},
   "outputs": [],
   "source": [
    "land_LUT: dict[int, str] = {\n",
    "    1: \"Schleswig-Holstein\",\n",
    "    2: \"Hamburg\",\n",
    "    3: \"Niedersachsen\",\n",
    "    4: \"Bremen\",\n",
    "    5: \"Nordrhein-Westfalen\",  # data as from 2019\n",
    "    6: \"Hessen\",\n",
    "    7: \"Rheinland-Pfalz\",  # data as from 2017\n",
    "    8: \"Baden-Württemberg\",\n",
    "    9: \"Bayern\",\n",
    "    10: \"Saarland\",  # data as from 2017\n",
    "    11: \"Berlin\",  # data as from 2018\n",
    "    12: \"Brandenburg\",  # data as from 2017\n",
    "    13: \"Mecklenburg-Vorpommern\",  # data as from 2020\n",
    "    14: \"Sachsen\",\n",
    "    15: \"Sachsen-Anhalt\",\n",
    "    16: \"Thüringen\",  # data as from 2019\n",
    "}"
   ]
  },
  {
   "cell_type": "code",
   "execution_count": 490,
   "id": "aeb411f1",
   "metadata": {},
   "outputs": [],
   "source": [
    "gini_arr: list[dict[str, float | str | int]] = []\n",
    "\n",
    "for year in YEARS:\n",
    "    # group by state for this year\n",
    "    df_yr = df_merged[df_merged[\"UJAHR\"] == year][[pop_label, val_label, \"ULAND\"]]\n",
    "    if SHOULD_LOG:\n",
    "        print(f\"Year {year}:\")\n",
    "\n",
    "    for l_id, l_name in land_LUT.items():\n",
    "        # We skip Berlin (11) and Hamburg (2) since they are city-states. Thus, the Gini\n",
    "        # is 0 and not informative\n",
    "        if l_id in [2, 11]:\n",
    "            continue\n",
    "\n",
    "        df_land = df_yr[df_yr[\"ULAND\"] == f\"{l_id:02}\"]\n",
    "\n",
    "        # Skip if we have no data for this land in this year\n",
    "        if df_land.empty:\n",
    "            continue\n",
    "\n",
    "        if SHOULD_LOG:\n",
    "            pop = df_land[pop_label].sum()\n",
    "            val = df_land[val_label].sum()\n",
    "\n",
    "            print(f\"  Land {l_name}:\")\n",
    "            print(f\"    {pop_label}: {pop:,}\")\n",
    "            print(f\"    {val_label}: {val:,}\")\n",
    "\n",
    "        gini = calc_gini(df_land)\n",
    "        gini_arr.append(\n",
    "            {\n",
    "                \"Year\": year,\n",
    "                \"Land\": l_name,\n",
    "                \"Gini\": gini,\n",
    "            }\n",
    "        )"
   ]
  },
  {
   "cell_type": "code",
   "execution_count": 491,
   "id": "c644b0f7",
   "metadata": {},
   "outputs": [
    {
     "data": {
      "application/vnd.microsoft.datawrangler.viewer.v0+json": {
       "columns": [
        {
         "name": "index",
         "rawType": "object",
         "type": "string"
        },
        {
         "name": "Gini",
         "rawType": "float64",
         "type": "float"
        }
       ],
       "ref": "35c21f0a-98a4-4d43-ba01-5b20a0465568",
       "rows": [
        [
         "count",
         "111.0"
        ],
        [
         "mean",
         "0.13212987861678782"
        ],
        [
         "std",
         "0.06319116763368138"
        ],
        [
         "min",
         "0.00623411956726283"
        ],
        [
         "25%",
         "0.08516978446417778"
        ],
        [
         "50%",
         "0.12877061135955092"
        ],
        [
         "75%",
         "0.1817579135267542"
        ],
        [
         "max",
         "0.26647104584866765"
        ]
       ],
       "shape": {
        "columns": 1,
        "rows": 8
       }
      },
      "text/plain": [
       "count    111.000000\n",
       "mean       0.132130\n",
       "std        0.063191\n",
       "min        0.006234\n",
       "25%        0.085170\n",
       "50%        0.128771\n",
       "75%        0.181758\n",
       "max        0.266471\n",
       "Name: Gini, dtype: float64"
      ]
     },
     "execution_count": 491,
     "metadata": {},
     "output_type": "execute_result"
    }
   ],
   "source": [
    "df_gini = pd.DataFrame(gini_arr)\n",
    "df_gini[\"Gini\"].describe()"
   ]
  },
  {
   "cell_type": "code",
   "execution_count": 492,
   "id": "8c0a151b",
   "metadata": {},
   "outputs": [
    {
     "data": {
      "text/html": [
       "\n",
       "<style>\n",
       "  #altair-viz-457b5ebb8549489bb712d3c5944de5ea.vega-embed {\n",
       "    width: 100%;\n",
       "    display: flex;\n",
       "  }\n",
       "\n",
       "  #altair-viz-457b5ebb8549489bb712d3c5944de5ea.vega-embed details,\n",
       "  #altair-viz-457b5ebb8549489bb712d3c5944de5ea.vega-embed details summary {\n",
       "    position: relative;\n",
       "  }\n",
       "</style>\n",
       "<div id=\"altair-viz-457b5ebb8549489bb712d3c5944de5ea\"></div>\n",
       "<script type=\"text/javascript\">\n",
       "  var VEGA_DEBUG = (typeof VEGA_DEBUG == \"undefined\") ? {} : VEGA_DEBUG;\n",
       "  (function(spec, embedOpt){\n",
       "    let outputDiv = document.currentScript.previousElementSibling;\n",
       "    if (outputDiv.id !== \"altair-viz-457b5ebb8549489bb712d3c5944de5ea\") {\n",
       "      outputDiv = document.getElementById(\"altair-viz-457b5ebb8549489bb712d3c5944de5ea\");\n",
       "    }\n",
       "\n",
       "    const paths = {\n",
       "      \"vega\": \"https://cdn.jsdelivr.net/npm/vega@5?noext\",\n",
       "      \"vega-lib\": \"https://cdn.jsdelivr.net/npm/vega-lib?noext\",\n",
       "      \"vega-lite\": \"https://cdn.jsdelivr.net/npm/vega-lite@5.20.1?noext\",\n",
       "      \"vega-embed\": \"https://cdn.jsdelivr.net/npm/vega-embed@6?noext\",\n",
       "    };\n",
       "\n",
       "    function maybeLoadScript(lib, version) {\n",
       "      var key = `${lib.replace(\"-\", \"\")}_version`;\n",
       "      return (VEGA_DEBUG[key] == version) ?\n",
       "        Promise.resolve(paths[lib]) :\n",
       "        new Promise(function(resolve, reject) {\n",
       "          var s = document.createElement('script');\n",
       "          document.getElementsByTagName(\"head\")[0].appendChild(s);\n",
       "          s.async = true;\n",
       "          s.onload = () => {\n",
       "            VEGA_DEBUG[key] = version;\n",
       "            return resolve(paths[lib]);\n",
       "          };\n",
       "          s.onerror = () => reject(`Error loading script: ${paths[lib]}`);\n",
       "          s.src = paths[lib];\n",
       "        });\n",
       "    }\n",
       "\n",
       "    function showError(err) {\n",
       "      outputDiv.innerHTML = `<div class=\"error\" style=\"color:red;\">${err}</div>`;\n",
       "      throw err;\n",
       "    }\n",
       "\n",
       "    function displayChart(vegaEmbed) {\n",
       "      vegaEmbed(outputDiv, spec, embedOpt)\n",
       "        .catch(err => showError(`Javascript Error: ${err.message}<br>This usually means there's a typo in your chart specification. See the javascript console for the full traceback.`));\n",
       "    }\n",
       "\n",
       "    if(typeof define === \"function\" && define.amd) {\n",
       "      requirejs.config({paths});\n",
       "      let deps = [\"vega-embed\"];\n",
       "      require(deps, displayChart, err => showError(`Error loading script: ${err.message}`));\n",
       "    } else {\n",
       "      maybeLoadScript(\"vega\", \"5\")\n",
       "        .then(() => maybeLoadScript(\"vega-lite\", \"5.20.1\"))\n",
       "        .then(() => maybeLoadScript(\"vega-embed\", \"6\"))\n",
       "        .catch(showError)\n",
       "        .then(() => displayChart(vegaEmbed));\n",
       "    }\n",
       "  })({\"config\": {\"view\": {\"continuousWidth\": 300, \"continuousHeight\": 300}}, \"data\": {\"name\": \"data-5867512d3666ee8240b12b699a2ca684\"}, \"mark\": {\"type\": \"line\", \"point\": true}, \"encoding\": {\"color\": {\"field\": \"Land\", \"title\": \"State\", \"type\": \"nominal\"}, \"tooltip\": [{\"field\": \"Land\", \"type\": \"nominal\"}, {\"field\": \"Year\", \"title\": \"Year\", \"type\": \"ordinal\"}, {\"field\": \"Gini\", \"format\": \".3f\", \"type\": \"quantitative\"}], \"x\": {\"field\": \"Year\", \"title\": \"Year\", \"type\": \"ordinal\"}, \"y\": {\"field\": \"Gini\", \"title\": \"Gini Coefficient\", \"type\": \"quantitative\"}}, \"height\": 400, \"params\": [{\"name\": \"param_313\", \"select\": {\"type\": \"interval\", \"encodings\": [\"x\", \"y\"]}, \"bind\": \"scales\"}], \"title\": \"Gini Coefficient of IstRad by State per Year\", \"width\": 800, \"$schema\": \"https://vega.github.io/schema/vega-lite/v5.20.1.json\", \"datasets\": {\"data-5867512d3666ee8240b12b699a2ca684\": [{\"Year\": 2016, \"Land\": \"Schleswig-Holstein\", \"Gini\": 0.07447960356845196}, {\"Year\": 2016, \"Land\": \"Bremen\", \"Gini\": 0.03731715674263425}, {\"Year\": 2016, \"Land\": \"Hessen\", \"Gini\": 0.2250869891849172}, {\"Year\": 2016, \"Land\": \"Rheinland-Pfalz\", \"Gini\": 0.13001576333870835}, {\"Year\": 2016, \"Land\": \"Baden-W\\u00fcrttemberg\", \"Gini\": 0.1425361682787596}, {\"Year\": 2016, \"Land\": \"Bayern\", \"Gini\": 0.11894825338333592}, {\"Year\": 2016, \"Land\": \"Sachsen\", \"Gini\": 0.20836972724443215}, {\"Year\": 2017, \"Land\": \"Schleswig-Holstein\", \"Gini\": 0.054856201794879045}, {\"Year\": 2017, \"Land\": \"Niedersachsen\", \"Gini\": 0.1435899008324908}, {\"Year\": 2017, \"Land\": \"Bremen\", \"Gini\": 0.01099451666894291}, {\"Year\": 2017, \"Land\": \"Hessen\", \"Gini\": 0.20765673080139957}, {\"Year\": 2017, \"Land\": \"Rheinland-Pfalz\", \"Gini\": 0.11046719552807394}, {\"Year\": 2017, \"Land\": \"Baden-W\\u00fcrttemberg\", \"Gini\": 0.1480914686030269}, {\"Year\": 2017, \"Land\": \"Bayern\", \"Gini\": 0.11480115601825047}, {\"Year\": 2017, \"Land\": \"Saarland\", \"Gini\": 0.08047331254469192}, {\"Year\": 2017, \"Land\": \"Brandenburg\", \"Gini\": 0.12569493747756444}, {\"Year\": 2017, \"Land\": \"Sachsen\", \"Gini\": 0.22708733792228875}, {\"Year\": 2017, \"Land\": \"Sachsen-Anhalt\", \"Gini\": 0.2437141485118104}, {\"Year\": 2018, \"Land\": \"Schleswig-Holstein\", \"Gini\": 0.07279084970690186}, {\"Year\": 2018, \"Land\": \"Niedersachsen\", \"Gini\": 0.15678067630096115}, {\"Year\": 2018, \"Land\": \"Bremen\", \"Gini\": 0.023441951488118562}, {\"Year\": 2018, \"Land\": \"Hessen\", \"Gini\": 0.21839564784566978}, {\"Year\": 2018, \"Land\": \"Rheinland-Pfalz\", \"Gini\": 0.13864218168691322}, {\"Year\": 2018, \"Land\": \"Baden-W\\u00fcrttemberg\", \"Gini\": 0.16397533456967572}, {\"Year\": 2018, \"Land\": \"Bayern\", \"Gini\": 0.12805038044958217}, {\"Year\": 2018, \"Land\": \"Saarland\", \"Gini\": 0.10451215105752287}, {\"Year\": 2018, \"Land\": \"Brandenburg\", \"Gini\": 0.12725224353304587}, {\"Year\": 2018, \"Land\": \"Sachsen\", \"Gini\": 0.20514771341285853}, {\"Year\": 2018, \"Land\": \"Sachsen-Anhalt\", \"Gini\": 0.24469024594396027}, {\"Year\": 2019, \"Land\": \"Schleswig-Holstein\", \"Gini\": 0.08002629977667786}, {\"Year\": 2019, \"Land\": \"Niedersachsen\", \"Gini\": 0.12778671249405338}, {\"Year\": 2019, \"Land\": \"Bremen\", \"Gini\": 0.04476016801869487}, {\"Year\": 2019, \"Land\": \"Nordrhein-Westfalen\", \"Gini\": 0.07148396173074767}, {\"Year\": 2019, \"Land\": \"Hessen\", \"Gini\": 0.23091346052998796}, {\"Year\": 2019, \"Land\": \"Rheinland-Pfalz\", \"Gini\": 0.14034085690023113}, {\"Year\": 2019, \"Land\": \"Baden-W\\u00fcrttemberg\", \"Gini\": 0.15739251737099624}, {\"Year\": 2019, \"Land\": \"Bayern\", \"Gini\": 0.12672326327226047}, {\"Year\": 2019, \"Land\": \"Saarland\", \"Gini\": 0.14335813569519262}, {\"Year\": 2019, \"Land\": \"Brandenburg\", \"Gini\": 0.13841030537725552}, {\"Year\": 2019, \"Land\": \"Sachsen\", \"Gini\": 0.21025938718858972}, {\"Year\": 2019, \"Land\": \"Sachsen-Anhalt\", \"Gini\": 0.230811427435772}, {\"Year\": 2019, \"Land\": \"Th\\u00fcringen\", \"Gini\": 0.2165645877059802}, {\"Year\": 2020, \"Land\": \"Schleswig-Holstein\", \"Gini\": 0.079367594973899}, {\"Year\": 2020, \"Land\": \"Niedersachsen\", \"Gini\": 0.1535472869923864}, {\"Year\": 2020, \"Land\": \"Bremen\", \"Gini\": 0.017859328032298727}, {\"Year\": 2020, \"Land\": \"Nordrhein-Westfalen\", \"Gini\": 0.07784326334839675}, {\"Year\": 2020, \"Land\": \"Hessen\", \"Gini\": 0.217922377617498}, {\"Year\": 2020, \"Land\": \"Rheinland-Pfalz\", \"Gini\": 0.12012995568790841}, {\"Year\": 2020, \"Land\": \"Baden-W\\u00fcrttemberg\", \"Gini\": 0.1340016467172318}, {\"Year\": 2020, \"Land\": \"Bayern\", \"Gini\": 0.12877061135955092}, {\"Year\": 2020, \"Land\": \"Saarland\", \"Gini\": 0.13271302252685713}, {\"Year\": 2020, \"Land\": \"Brandenburg\", \"Gini\": 0.10731754171969832}, {\"Year\": 2020, \"Land\": \"Mecklenburg-Vorpommern\", \"Gini\": 0.11971132251428207}, {\"Year\": 2020, \"Land\": \"Sachsen\", \"Gini\": 0.20175610535845623}, {\"Year\": 2020, \"Land\": \"Sachsen-Anhalt\", \"Gini\": 0.2272101879858216}, {\"Year\": 2020, \"Land\": \"Th\\u00fcringen\", \"Gini\": 0.16739938847790425}, {\"Year\": 2021, \"Land\": \"Schleswig-Holstein\", \"Gini\": 0.05355532664662821}, {\"Year\": 2021, \"Land\": \"Niedersachsen\", \"Gini\": 0.15113332048401706}, {\"Year\": 2021, \"Land\": \"Bremen\", \"Gini\": 0.00623411956726283}, {\"Year\": 2021, \"Land\": \"Hessen\", \"Gini\": 0.19320971015607846}, {\"Year\": 2021, \"Land\": \"Rheinland-Pfalz\", \"Gini\": 0.08298121207036124}, {\"Year\": 2021, \"Land\": \"Baden-W\\u00fcrttemberg\", \"Gini\": 0.13379461562303518}, {\"Year\": 2021, \"Land\": \"Bayern\", \"Gini\": 0.10461338307303247}, {\"Year\": 2021, \"Land\": \"Saarland\", \"Gini\": 0.07931857797735975}, {\"Year\": 2021, \"Land\": \"Brandenburg\", \"Gini\": 0.1257372840031561}, {\"Year\": 2021, \"Land\": \"Mecklenburg-Vorpommern\", \"Gini\": 0.10308247698039374}, {\"Year\": 2021, \"Land\": \"Sachsen\", \"Gini\": 0.20754228101481387}, {\"Year\": 2021, \"Land\": \"Sachsen-Anhalt\", \"Gini\": 0.2506649691138598}, {\"Year\": 2021, \"Land\": \"Th\\u00fcringen\", \"Gini\": 0.18278819390269163}, {\"Year\": 2022, \"Land\": \"Schleswig-Holstein\", \"Gini\": 0.029102792986659187}, {\"Year\": 2022, \"Land\": \"Niedersachsen\", \"Gini\": 0.11771965242692428}, {\"Year\": 2022, \"Land\": \"Bremen\", \"Gini\": 0.01057009428128608}, {\"Year\": 2022, \"Land\": \"Nordrhein-Westfalen\", \"Gini\": 0.05627232467162269}, {\"Year\": 2022, \"Land\": \"Hessen\", \"Gini\": 0.1987070671045469}, {\"Year\": 2022, \"Land\": \"Rheinland-Pfalz\", \"Gini\": 0.1208190255779803}, {\"Year\": 2022, \"Land\": \"Baden-W\\u00fcrttemberg\", \"Gini\": 0.1349646649525318}, {\"Year\": 2022, \"Land\": \"Bayern\", \"Gini\": 0.10982986580418441}, {\"Year\": 2022, \"Land\": \"Saarland\", \"Gini\": 0.11219418434691719}, {\"Year\": 2022, \"Land\": \"Brandenburg\", \"Gini\": 0.1341015048689035}, {\"Year\": 2022, \"Land\": \"Mecklenburg-Vorpommern\", \"Gini\": 0.10111652276469585}, {\"Year\": 2022, \"Land\": \"Sachsen\", \"Gini\": 0.2111286101147588}, {\"Year\": 2022, \"Land\": \"Sachsen-Anhalt\", \"Gini\": 0.2547566166751396}, {\"Year\": 2022, \"Land\": \"Th\\u00fcringen\", \"Gini\": 0.18185951797196054}, {\"Year\": 2023, \"Land\": \"Schleswig-Holstein\", \"Gini\": 0.054237313728853986}, {\"Year\": 2023, \"Land\": \"Niedersachsen\", \"Gini\": 0.1316862813519969}, {\"Year\": 2023, \"Land\": \"Bremen\", \"Gini\": 0.01601389859727087}, {\"Year\": 2023, \"Land\": \"Nordrhein-Westfalen\", \"Gini\": 0.05381695139782816}, {\"Year\": 2023, \"Land\": \"Hessen\", \"Gini\": 0.16745062146102085}, {\"Year\": 2023, \"Land\": \"Rheinland-Pfalz\", \"Gini\": 0.07432074360030438}, {\"Year\": 2023, \"Land\": \"Baden-W\\u00fcrttemberg\", \"Gini\": 0.13766381690160034}, {\"Year\": 2023, \"Land\": \"Bayern\", \"Gini\": 0.09952581863007393}, {\"Year\": 2023, \"Land\": \"Saarland\", \"Gini\": 0.08965415085077422}, {\"Year\": 2023, \"Land\": \"Brandenburg\", \"Gini\": 0.14055641665025354}, {\"Year\": 2023, \"Land\": \"Mecklenburg-Vorpommern\", \"Gini\": 0.11013134117556711}, {\"Year\": 2023, \"Land\": \"Sachsen\", \"Gini\": 0.1931860651786823}, {\"Year\": 2023, \"Land\": \"Sachsen-Anhalt\", \"Gini\": 0.26647104584866765}, {\"Year\": 2023, \"Land\": \"Th\\u00fcringen\", \"Gini\": 0.18165630908154784}, {\"Year\": 2024, \"Land\": \"Schleswig-Holstein\", \"Gini\": 0.059036629290635356}, {\"Year\": 2024, \"Land\": \"Niedersachsen\", \"Gini\": 0.12330280942843186}, {\"Year\": 2024, \"Land\": \"Bremen\", \"Gini\": 0.013457822213843729}, {\"Year\": 2024, \"Land\": \"Nordrhein-Westfalen\", \"Gini\": 0.049630222119108836}, {\"Year\": 2024, \"Land\": \"Hessen\", \"Gini\": 0.1890487504687851}, {\"Year\": 2024, \"Land\": \"Rheinland-Pfalz\", \"Gini\": 0.08153210420867762}, {\"Year\": 2024, \"Land\": \"Baden-W\\u00fcrttemberg\", \"Gini\": 0.13126149406179966}, {\"Year\": 2024, \"Land\": \"Bayern\", \"Gini\": 0.08735835685799431}, {\"Year\": 2024, \"Land\": \"Saarland\", \"Gini\": 0.13943503845462302}, {\"Year\": 2024, \"Land\": \"Brandenburg\", \"Gini\": 0.12683045681450533}, {\"Year\": 2024, \"Land\": \"Mecklenburg-Vorpommern\", \"Gini\": 0.09872803018670973}, {\"Year\": 2024, \"Land\": \"Sachsen\", \"Gini\": 0.2057703572001992}, {\"Year\": 2024, \"Land\": \"Sachsen-Anhalt\", \"Gini\": 0.23040143996247264}, {\"Year\": 2024, \"Land\": \"Th\\u00fcringen\", \"Gini\": 0.17421366433192165}]}}, {\"mode\": \"vega-lite\"});\n",
       "</script>"
      ],
      "text/plain": [
       "alt.Chart(...)"
      ]
     },
     "metadata": {},
     "output_type": "display_data"
    }
   ],
   "source": [
    "title = \" \".join(val_label.split(\"_\")).title() if \"_\" in val_label else val_label\n",
    "\n",
    "chart = (\n",
    "    alt.Chart(df_gini)\n",
    "    .mark_line(point=True)\n",
    "    .encode(\n",
    "        x=alt.X(\"Year:O\", title=\"Year\"),\n",
    "        y=alt.Y(\"Gini:Q\", title=\"Gini Coefficient\"),\n",
    "        color=alt.Color(\"Land:N\", title=\"State\"),\n",
    "        tooltip=[\n",
    "            \"Land\",\n",
    "            alt.Tooltip(\"Year:O\", title=\"Year\"),\n",
    "            alt.Tooltip(\"Gini:Q\", format=\".3f\"),\n",
    "        ],\n",
    "    )\n",
    "    .properties(\n",
    "        title=f\"Gini Coefficient of {title} by State per Year\",\n",
    "        width=800,\n",
    "        height=400,\n",
    "    )\n",
    "    .interactive()\n",
    ")\n",
    "\n",
    "chart.save(\n",
    "    os.path.join(\"img\", f\"gini_index-{title.replace(' ', '_').lower()}_land.png\")\n",
    ")\n",
    "chart.show()"
   ]
  }
 ],
 "metadata": {
  "kernelspec": {
   "display_name": ".envs",
   "language": "python",
   "name": "python3"
  },
  "language_info": {
   "codemirror_mode": {
    "name": "ipython",
    "version": 3
   },
   "file_extension": ".py",
   "mimetype": "text/x-python",
   "name": "python",
   "nbconvert_exporter": "python",
   "pygments_lexer": "ipython3",
   "version": "3.13.5"
  }
 },
 "nbformat": 4,
 "nbformat_minor": 5
}
